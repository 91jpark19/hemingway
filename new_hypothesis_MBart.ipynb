{
 "cells": [
  {
   "attachments": {},
   "cell_type": "markdown",
   "metadata": {},
   "source": [
    "Experiment 2: Knowledge Transfer"
   ]
  },
  {
   "cell_type": "code",
   "execution_count": 1,
   "metadata": {},
   "outputs": [
    {
     "name": "stderr",
     "output_type": "stream",
     "text": [
      "/Users/mstudio/miniconda3/envs/py3.10/lib/python3.10/site-packages/tqdm/auto.py:22: TqdmWarning: IProgress not found. Please update jupyter and ipywidgets. See https://ipywidgets.readthedocs.io/en/stable/user_install.html\n",
      "  from .autonotebook import tqdm as notebook_tqdm\n"
     ]
    }
   ],
   "source": [
    "from transformers import MarianMTModel, MarianTokenizer\n",
    "from transformers import MBartForConditionalGeneration, MBart50TokenizerFast\n",
    "from transformers import M2M100Config, M2M100ForConditionalGeneration, M2M100Tokenizer\n",
    "from tqdm import tqdm\n",
    "import time\n",
    "import os\n",
    "import pandas as pd"
   ]
  },
  {
   "cell_type": "code",
   "execution_count": 2,
   "metadata": {},
   "outputs": [],
   "source": [
    "data=pd.read_csv('/Volumes/T7/mt-hemingway/data/hypothesis/knowledge_transfer.csv', encoding='utf-8-sig')\n",
    "# data=data.drop(['small', 'big', 'OPUS_small', 'OPUS_big', 'kakao_org', 'M2M100_org', 'M2M100_small', 'kakao_small', 'M2M100_big', 'kakao_big', 'google_org', 'google_small', 'google_big'], axis=1)"
   ]
  },
  {
   "cell_type": "code",
   "execution_count": 3,
   "metadata": {},
   "outputs": [
    {
     "data": {
      "text/plain": [
       "Index(['original', 'MarianMT_DE', 'MarianMT_DE_M2M100_KO',\n",
       "       'MarianMT_DE_MBart_KO', 'M2M100_DE', 'M2M100_DE_MBart_KO'],\n",
       "      dtype='object')"
      ]
     },
     "execution_count": 3,
     "metadata": {},
     "output_type": "execute_result"
    }
   ],
   "source": [
    "data.columns"
   ]
  },
  {
   "attachments": {},
   "cell_type": "markdown",
   "metadata": {},
   "source": [
    "Experiment 2-1: MarianMT"
   ]
  },
  {
   "cell_type": "code",
   "execution_count": 18,
   "metadata": {},
   "outputs": [
    {
     "name": "stderr",
     "output_type": "stream",
     "text": [
      "Downloading (…)olve/main/source.spm: 100%|██████████| 768k/768k [00:00<00:00, 820kB/s]\n",
      "Downloading (…)olve/main/target.spm: 100%|██████████| 797k/797k [00:00<00:00, 3.91MB/s]\n",
      "Downloading (…)olve/main/vocab.json: 100%|██████████| 1.27M/1.27M [00:00<00:00, 6.69MB/s]\n",
      "Downloading (…)okenizer_config.json: 100%|██████████| 42.0/42.0 [00:00<00:00, 16.3kB/s]\n",
      "Downloading (…)lve/main/config.json: 100%|██████████| 1.33k/1.33k [00:00<00:00, 725kB/s]\n",
      "Downloading (…)\"pytorch_model.bin\";: 100%|██████████| 298M/298M [02:49<00:00, 1.75MB/s] \n",
      "Downloading (…)neration_config.json: 100%|██████████| 293/293 [00:00<00:00, 112kB/s]\n"
     ]
    }
   ],
   "source": [
    "en_de_tokenizer = MarianTokenizer.from_pretrained(\"Helsinki-NLP/opus-mt-en-de\")\n",
    "en_de_model = MarianMTModel.from_pretrained(\"Helsinki-NLP/opus-mt-en-de\")"
   ]
  },
  {
   "cell_type": "code",
   "execution_count": 26,
   "metadata": {},
   "outputs": [
    {
     "name": "stderr",
     "output_type": "stream",
     "text": [
      "768it [12:10,  1.05it/s]\n"
     ]
    }
   ],
   "source": [
    "translated=[]\n",
    "for idx, val in tqdm(data.iterrows()):\n",
    "    for_translate=val['original']\n",
    "    try:\n",
    "        encoded_input=en_de_tokenizer(for_translate, return_tensors='pt')\n",
    "        output=en_de_model.generate(**encoded_input)\n",
    "        out_text=en_de_tokenizer.batch_decode(output, skip_specual_tokens=True)\n",
    "        out_text=out_text[0]\n",
    "        out_text=out_text.replace('<pad>', '').replace('</s>', '')\n",
    "        out_text=out_text.strip()\n",
    "        translated.append(out_text)\n",
    "    except TypeError:\n",
    "        translated.append(val)\n",
    "        continue"
   ]
  },
  {
   "cell_type": "code",
   "execution_count": 27,
   "metadata": {},
   "outputs": [],
   "source": [
    "data['MarianMT_DE']=translated"
   ]
  },
  {
   "cell_type": "code",
   "execution_count": 30,
   "metadata": {},
   "outputs": [
    {
     "name": "stderr",
     "output_type": "stream",
     "text": [
      "Downloading (…)neration_config.json: 100%|██████████| 233/233 [00:00<00:00, 139kB/s]\n"
     ]
    }
   ],
   "source": [
    "de_ko_model = M2M100ForConditionalGeneration.from_pretrained(\"facebook/m2m100_418M\")\n",
    "de_ko_tokenizer = M2M100Tokenizer.from_pretrained(\"facebook/m2m100_418M\", src_lang=\"de\", tgt_lang=\"ko\")"
   ]
  },
  {
   "cell_type": "code",
   "execution_count": 34,
   "metadata": {},
   "outputs": [
    {
     "name": "stderr",
     "output_type": "stream",
     "text": [
      "  0%|          | 0/768 [00:00<?, ?it/s]/Users/mstudio/miniconda3/envs/py3.10/lib/python3.10/site-packages/transformers/generation/utils.py:1273: UserWarning: Neither `max_length` nor `max_new_tokens` has been set, `max_length` will default to 200 (`generation_config.max_length`). Controlling `max_length` via the config is deprecated and `max_length` will be removed from the config in v5 of Transformers -- we recommend using `max_new_tokens` to control the maximum length of the generation.\n",
      "  warnings.warn(\n",
      "100%|██████████| 768/768 [1:04:22<00:00,  5.03s/it]\n"
     ]
    }
   ],
   "source": [
    "translated=[]\n",
    "for i in tqdm(data['MarianMT_DE']):\n",
    "    try:\n",
    "        encoded_hi=de_ko_tokenizer(i, return_tensors='pt')\n",
    "        generated_tokens = de_ko_model.generate(**encoded_hi, forced_bos_token_id=de_ko_tokenizer.get_lang_id(\"ko\"), max_length=1024)\n",
    "        translated.append(de_ko_tokenizer.batch_decode(generated_tokens, skip_special_tokens=True)[0])\n",
    "    except TypeError:\n",
    "        translated.append(i)\n",
    "        continue"
   ]
  },
  {
   "cell_type": "code",
   "execution_count": 38,
   "metadata": {},
   "outputs": [],
   "source": [
    "data['MarianMT_DE_M2M100_KO']=translated"
   ]
  },
  {
   "cell_type": "code",
   "execution_count": 6,
   "metadata": {},
   "outputs": [],
   "source": [
    "de_ko_model = MBartForConditionalGeneration.from_pretrained(\"facebook/mbart-large-50-many-to-many-mmt\")\n",
    "de_ko_tokenizer = MBart50TokenizerFast.from_pretrained(\"facebook/mbart-large-50-many-to-many-mmt\")"
   ]
  },
  {
   "cell_type": "code",
   "execution_count": 21,
   "metadata": {},
   "outputs": [
    {
     "name": "stderr",
     "output_type": "stream",
     "text": [
      "768it [4:11:13, 19.63s/it] \n"
     ]
    }
   ],
   "source": [
    "translated=[]\n",
    "for idx, val in tqdm(data.iterrows()):\n",
    "    for_translate=val['MarianMT_DE']\n",
    "    try:\n",
    "        de_ko_tokenizer.src_lang = \"de_DE\"\n",
    "        encoded_hi=de_ko_tokenizer(for_translate, return_tensors='pt', max_length=1024, truncation=True)\n",
    "        generated_tokens = de_ko_model.generate(**encoded_hi, forced_bos_token_id=de_ko_tokenizer.lang_code_to_id[\"ko_KR\"], max_length=1024)\n",
    "        translated.append(de_ko_tokenizer.batch_decode(generated_tokens, skip_special_tokens=True)[0])\n",
    "    except TypeError:\n",
    "        translated.append(val)\n",
    "        continue"
   ]
  },
  {
   "cell_type": "code",
   "execution_count": 22,
   "metadata": {},
   "outputs": [
    {
     "data": {
      "text/plain": [
       "['그는 홀로 스키프에 낚시를 했습니다. 그는 홀로 스키프에 낚시를 했습니다. 그는 홀로 스키프에 낚시를 했습니다. 그는 홀로 스키프에 낚시를 했습니다. 그는 홀로 스키프에 낚시를 했습니다.',\n",
       " '40일 동안에 한 남자가 그와 함께 했습니다. 하지만 40일 동안에 한 남자의 부모님이 그에게 말했습니다. 그 old 남자는 이제 궁하게 사라오라고요. 그건 최악의 불행입니다. 그리고 그 남자는 그녀의 명령에 따라 다른 배로 갔습니다. 그 배는 그 첫 주에 세 마리의 좋은 물고를 잡았습니다.']"
      ]
     },
     "execution_count": 22,
     "metadata": {},
     "output_type": "execute_result"
    }
   ],
   "source": [
    "translated[:2]"
   ]
  },
  {
   "cell_type": "code",
   "execution_count": 23,
   "metadata": {},
   "outputs": [],
   "source": [
    "data['MarianMT_DE_MBart_KO']=translated"
   ]
  },
  {
   "cell_type": "code",
   "execution_count": 24,
   "metadata": {},
   "outputs": [],
   "source": [
    "data.to_csv('/Volumes/T7/mt-hemingway/data/hypothesis/knowledge_transfer.csv', encoding='utf-8-sig', index=False)"
   ]
  },
  {
   "attachments": {},
   "cell_type": "markdown",
   "metadata": {},
   "source": [
    "Experiment 2-2: M2M100"
   ]
  },
  {
   "cell_type": "code",
   "execution_count": 25,
   "metadata": {},
   "outputs": [],
   "source": [
    "en_de_model = M2M100ForConditionalGeneration.from_pretrained(\"facebook/m2m100_418M\")\n",
    "en_de_tokenizer = M2M100Tokenizer.from_pretrained(\"facebook/m2m100_418M\", src_lang=\"en\", tgt_lang=\"de\")"
   ]
  },
  {
   "cell_type": "code",
   "execution_count": 28,
   "metadata": {},
   "outputs": [
    {
     "name": "stderr",
     "output_type": "stream",
     "text": [
      "100%|██████████| 768/768 [1:04:06<00:00,  5.01s/it]\n"
     ]
    }
   ],
   "source": [
    "translated=[]\n",
    "for i in tqdm(data['original']):\n",
    "    try:\n",
    "        encoded_hi=en_de_tokenizer(i, return_tensors='pt')\n",
    "        generated_tokens = en_de_model.generate(**encoded_hi, forced_bos_token_id=en_de_tokenizer.get_lang_id(\"de\"))\n",
    "        translated.append(en_de_tokenizer.batch_decode(generated_tokens, skip_special_tokens=True)[0])\n",
    "    except TypeError:\n",
    "        translated.append(i)\n",
    "        continue"
   ]
  },
  {
   "cell_type": "code",
   "execution_count": 30,
   "metadata": {},
   "outputs": [],
   "source": [
    "data['M2M100_DE']=translated"
   ]
  },
  {
   "cell_type": "code",
   "execution_count": 32,
   "metadata": {},
   "outputs": [],
   "source": [
    "de_ko_model = MBartForConditionalGeneration.from_pretrained(\"facebook/mbart-large-50-many-to-many-mmt\")\n",
    "de_ko_tokenizer = MBart50TokenizerFast.from_pretrained(\"facebook/mbart-large-50-many-to-many-mmt\")"
   ]
  },
  {
   "cell_type": "code",
   "execution_count": 37,
   "metadata": {},
   "outputs": [
    {
     "name": "stderr",
     "output_type": "stream",
     "text": [
      "768it [3:02:49, 14.28s/it] \n"
     ]
    }
   ],
   "source": [
    "translated=[]\n",
    "for idx, val in tqdm(data.iterrows()):\n",
    "    for_translate=val['M2M100_DE']\n",
    "    try:\n",
    "        de_ko_tokenizer.src_lang = \"de_DE\"\n",
    "        encoded_hi=de_ko_tokenizer(for_translate, return_tensors='pt', max_length=1024, truncation=True)\n",
    "        generated_tokens = de_ko_model.generate(**encoded_hi, forced_bos_token_id=de_ko_tokenizer.lang_code_to_id[\"ko_KR\"], max_length=1024)\n",
    "        translated.append(de_ko_tokenizer.batch_decode(generated_tokens, skip_special_tokens=True)[0])\n",
    "    except TypeError:\n",
    "        translated.append(val)\n",
    "        continue"
   ]
  },
  {
   "cell_type": "code",
   "execution_count": 38,
   "metadata": {},
   "outputs": [],
   "source": [
    "data['M2M100_DE_MBart_KO']=translated "
   ]
  },
  {
   "cell_type": "code",
   "execution_count": 39,
   "metadata": {},
   "outputs": [],
   "source": [
    "data.to_csv('/Volumes/T7/mt-hemingway/data/hypothesis/knowledge_transfer.csv', encoding='utf-8-sig', index=False)"
   ]
  },
  {
   "attachments": {},
   "cell_type": "markdown",
   "metadata": {},
   "source": [
    "Experiment 2-3: MBart"
   ]
  },
  {
   "cell_type": "code",
   "execution_count": 4,
   "metadata": {},
   "outputs": [],
   "source": [
    "en_de_model = MBartForConditionalGeneration.from_pretrained(\"facebook/mbart-large-50-many-to-many-mmt\")\n",
    "en_de_tokenizer = MBart50TokenizerFast.from_pretrained(\"facebook/mbart-large-50-many-to-many-mmt\")"
   ]
  },
  {
   "cell_type": "code",
   "execution_count": 9,
   "metadata": {},
   "outputs": [
    {
     "name": "stderr",
     "output_type": "stream",
     "text": [
      "768it [1:07:05,  5.24s/it]\n"
     ]
    }
   ],
   "source": [
    "translated=[]\n",
    "for idx, val in tqdm(data.iterrows()):\n",
    "    for_translate=val['original']\n",
    "    try:\n",
    "        en_de_tokenizer.src_lang = \"en_XX\"\n",
    "        encoded_hi=en_de_tokenizer(for_translate, return_tensors='pt', max_length=1024, truncation=True)\n",
    "        generated_tokens = en_de_model.generate(**encoded_hi, forced_bos_token_id=en_de_tokenizer.lang_code_to_id[\"de_DE\"], max_length=1024)\n",
    "        translated.append(en_de_tokenizer.batch_decode(generated_tokens, skip_special_tokens=True)[0])\n",
    "    except TypeError:\n",
    "        translated.append(val)\n",
    "        continue"
   ]
  },
  {
   "cell_type": "code",
   "execution_count": 10,
   "metadata": {},
   "outputs": [],
   "source": [
    "data['MBart_DE']=translated"
   ]
  },
  {
   "cell_type": "code",
   "execution_count": 11,
   "metadata": {},
   "outputs": [],
   "source": [
    "de_ko_model = M2M100ForConditionalGeneration.from_pretrained(\"facebook/m2m100_418M\")\n",
    "de_ko_tokenizer = M2M100Tokenizer.from_pretrained(\"facebook/m2m100_418M\", src_lang=\"de\", tgt_lang=\"ko\")"
   ]
  },
  {
   "cell_type": "code",
   "execution_count": 14,
   "metadata": {},
   "outputs": [
    {
     "name": "stderr",
     "output_type": "stream",
     "text": [
      "100%|██████████| 768/768 [1:06:00<00:00,  5.16s/it]\n"
     ]
    }
   ],
   "source": [
    "translated=[]\n",
    "for i in tqdm(data['MBart_DE']):\n",
    "    try:\n",
    "        encoded_hi=de_ko_tokenizer(i, return_tensors='pt')\n",
    "        generated_tokens = de_ko_model.generate(**encoded_hi, forced_bos_token_id=de_ko_tokenizer.get_lang_id(\"ko\"), max_length=1024)\n",
    "        translated.append(de_ko_tokenizer.batch_decode(generated_tokens, skip_special_tokens=True)[0])\n",
    "    except TypeError:\n",
    "        translated.append(i)\n",
    "        continue"
   ]
  },
  {
   "cell_type": "code",
   "execution_count": 15,
   "metadata": {},
   "outputs": [],
   "source": [
    "data['MBart_DE_M2M100_KO']=translated"
   ]
  },
  {
   "cell_type": "code",
   "execution_count": 16,
   "metadata": {},
   "outputs": [],
   "source": [
    "data.to_csv('/Volumes/T7/mt-hemingway/data/hypothesis/knowledge_transfer.csv', encoding='utf-8-sig', index=False)"
   ]
  },
  {
   "attachments": {},
   "cell_type": "markdown",
   "metadata": {},
   "source": [
    "Experiment 2-4: M2M100 + M2M100"
   ]
  },
  {
   "cell_type": "code",
   "execution_count": 17,
   "metadata": {},
   "outputs": [],
   "source": [
    "de_ko_model = M2M100ForConditionalGeneration.from_pretrained(\"facebook/m2m100_418M\")\n",
    "de_ko_tokenizer = M2M100Tokenizer.from_pretrained(\"facebook/m2m100_418M\", src_lang=\"de\", tgt_lang=\"ko\")"
   ]
  },
  {
   "cell_type": "code",
   "execution_count": 18,
   "metadata": {},
   "outputs": [
    {
     "name": "stderr",
     "output_type": "stream",
     "text": [
      "100%|██████████| 768/768 [59:51<00:00,  4.68s/it]  \n"
     ]
    }
   ],
   "source": [
    "translated=[]\n",
    "for i in tqdm(data['M2M100_DE']):\n",
    "    try:\n",
    "        encoded_hi=de_ko_tokenizer(i, return_tensors='pt')\n",
    "        generated_tokens = de_ko_model.generate(**encoded_hi, forced_bos_token_id=de_ko_tokenizer.get_lang_id(\"ko\"), max_length=1024)\n",
    "        translated.append(de_ko_tokenizer.batch_decode(generated_tokens, skip_special_tokens=True)[0])\n",
    "    except TypeError:\n",
    "        translated.append(i)\n",
    "        continue"
   ]
  },
  {
   "cell_type": "code",
   "execution_count": 19,
   "metadata": {},
   "outputs": [],
   "source": [
    "data['M2M100_DE_M2M100_KO']=translated"
   ]
  },
  {
   "cell_type": "code",
   "execution_count": 20,
   "metadata": {},
   "outputs": [],
   "source": [
    "data.to_csv('/Volumes/T7/mt-hemingway/data/hypothesis/knowledge_transfer.csv', encoding='utf-8-sig', index=False)"
   ]
  },
  {
   "attachments": {},
   "cell_type": "markdown",
   "metadata": {},
   "source": [
    "Experiment 2-5: MBart + MBart"
   ]
  },
  {
   "cell_type": "code",
   "execution_count": 21,
   "metadata": {},
   "outputs": [],
   "source": [
    "de_ko_model = MBartForConditionalGeneration.from_pretrained(\"facebook/mbart-large-50-many-to-many-mmt\")\n",
    "de_ko_tokenizer = MBart50TokenizerFast.from_pretrained(\"facebook/mbart-large-50-many-to-many-mmt\")"
   ]
  },
  {
   "cell_type": "code",
   "execution_count": 22,
   "metadata": {},
   "outputs": [
    {
     "name": "stderr",
     "output_type": "stream",
     "text": [
      "768it [3:59:46, 18.73s/it] \n"
     ]
    }
   ],
   "source": [
    "translated=[]\n",
    "for idx, val in tqdm(data.iterrows()):\n",
    "    for_translate=val['MBart_DE']\n",
    "    try:\n",
    "        de_ko_tokenizer.src_lang = \"de_DE\"\n",
    "        encoded_hi=de_ko_tokenizer(for_translate, return_tensors='pt', max_length=1024, truncation=True)\n",
    "        generated_tokens = de_ko_model.generate(**encoded_hi, forced_bos_token_id=de_ko_tokenizer.lang_code_to_id[\"ko_KR\"], max_length=1024)\n",
    "        translated.append(de_ko_tokenizer.batch_decode(generated_tokens, skip_special_tokens=True)[0])\n",
    "    except TypeError:\n",
    "        translated.append(val)\n",
    "        continue"
   ]
  },
  {
   "cell_type": "code",
   "execution_count": 23,
   "metadata": {},
   "outputs": [],
   "source": [
    "data['MBart_DE_MBart_KO']=translated"
   ]
  },
  {
   "cell_type": "code",
   "execution_count": 24,
   "metadata": {},
   "outputs": [],
   "source": [
    "data.to_csv('/Volumes/T7/mt-hemingway/data/hypothesis/knowledge_transfer.csv', encoding='utf-8-sig', index=False)"
   ]
  },
  {
   "attachments": {},
   "cell_type": "markdown",
   "metadata": {},
   "source": [
    "Experiment 1: Iterative Translation"
   ]
  },
  {
   "attachments": {},
   "cell_type": "markdown",
   "metadata": {},
   "source": [
    "1-1. MBart first round"
   ]
  },
  {
   "cell_type": "code",
   "execution_count": 2,
   "metadata": {},
   "outputs": [],
   "source": [
    "exp1=pd.read_csv('/Volumes/T7/mt-hemingway/data/book_final.csv')"
   ]
  },
  {
   "cell_type": "code",
   "execution_count": 4,
   "metadata": {},
   "outputs": [],
   "source": [
    "exp1=exp1.drop(['small', 'big', 'OPUS_small', 'OPUS_big', 'kakao_org', 'M2M100_org', 'M2M100_small', 'kakao_small', 'M2M100_big', 'kakao_big', 'google_org', 'google_small', 'google_big'], axis=1)"
   ]
  },
  {
   "cell_type": "code",
   "execution_count": 5,
   "metadata": {},
   "outputs": [],
   "source": [
    "model = MBartForConditionalGeneration.from_pretrained(\"facebook/mbart-large-50-many-to-many-mmt\")\n",
    "tokenizer = MBart50TokenizerFast.from_pretrained(\"facebook/mbart-large-50-many-to-many-mmt\")"
   ]
  },
  {
   "cell_type": "code",
   "execution_count": 6,
   "metadata": {},
   "outputs": [
    {
     "data": {
      "text/html": [
       "<div>\n",
       "<style scoped>\n",
       "    .dataframe tbody tr th:only-of-type {\n",
       "        vertical-align: middle;\n",
       "    }\n",
       "\n",
       "    .dataframe tbody tr th {\n",
       "        vertical-align: top;\n",
       "    }\n",
       "\n",
       "    .dataframe thead th {\n",
       "        text-align: right;\n",
       "    }\n",
       "</style>\n",
       "<table border=\"1\" class=\"dataframe\">\n",
       "  <thead>\n",
       "    <tr style=\"text-align: right;\">\n",
       "      <th></th>\n",
       "      <th>original</th>\n",
       "    </tr>\n",
       "  </thead>\n",
       "  <tbody>\n",
       "    <tr>\n",
       "      <th>0</th>\n",
       "      <td>He was an old man who fished alone in a skiff ...</td>\n",
       "    </tr>\n",
       "    <tr>\n",
       "      <th>1</th>\n",
       "      <td>In the first forty days a boy had been with hi...</td>\n",
       "    </tr>\n",
       "    <tr>\n",
       "      <th>2</th>\n",
       "      <td>It made the boy sad to see the old man come in...</td>\n",
       "    </tr>\n",
       "    <tr>\n",
       "      <th>3</th>\n",
       "      <td>The sail was patched with flour sacks and, fur...</td>\n",
       "    </tr>\n",
       "    <tr>\n",
       "      <th>4</th>\n",
       "      <td>The old man was thin and gaunt with deep wrink...</td>\n",
       "    </tr>\n",
       "    <tr>\n",
       "      <th>...</th>\n",
       "      <td>...</td>\n",
       "    </tr>\n",
       "    <tr>\n",
       "      <th>763</th>\n",
       "      <td>What's that? she asked a waiter and pointed to...</td>\n",
       "    </tr>\n",
       "    <tr>\n",
       "      <th>764</th>\n",
       "      <td>Tiburon, the waiter said, \"Eshark.\" He was mea...</td>\n",
       "    </tr>\n",
       "    <tr>\n",
       "      <th>765</th>\n",
       "      <td>I didn't know sharks had such handsome, beauti...</td>\n",
       "    </tr>\n",
       "    <tr>\n",
       "      <th>766</th>\n",
       "      <td>I didn't either, her male companion said.</td>\n",
       "    </tr>\n",
       "    <tr>\n",
       "      <th>767</th>\n",
       "      <td>Up the road, in his shack, the old man was sle...</td>\n",
       "    </tr>\n",
       "  </tbody>\n",
       "</table>\n",
       "<p>768 rows × 1 columns</p>\n",
       "</div>"
      ],
      "text/plain": [
       "                                              original\n",
       "0    He was an old man who fished alone in a skiff ...\n",
       "1    In the first forty days a boy had been with hi...\n",
       "2    It made the boy sad to see the old man come in...\n",
       "3    The sail was patched with flour sacks and, fur...\n",
       "4    The old man was thin and gaunt with deep wrink...\n",
       "..                                                 ...\n",
       "763  What's that? she asked a waiter and pointed to...\n",
       "764  Tiburon, the waiter said, \"Eshark.\" He was mea...\n",
       "765  I didn't know sharks had such handsome, beauti...\n",
       "766          I didn't either, her male companion said.\n",
       "767  Up the road, in his shack, the old man was sle...\n",
       "\n",
       "[768 rows x 1 columns]"
      ]
     },
     "execution_count": 6,
     "metadata": {},
     "output_type": "execute_result"
    }
   ],
   "source": [
    "exp1"
   ]
  },
  {
   "cell_type": "code",
   "execution_count": 11,
   "metadata": {},
   "outputs": [
    {
     "name": "stderr",
     "output_type": "stream",
     "text": [
      "768it [1:24:30,  6.60s/it]\n"
     ]
    }
   ],
   "source": [
    "translated=[]\n",
    "for idx, val in tqdm(exp1.iterrows()):\n",
    "    for_translate=val['original']\n",
    "    try:\n",
    "        tokenizer.src_lang = \"en_XX\"\n",
    "        encoded_hi=tokenizer(for_translate, return_tensors='pt', max_length=1024, truncation=True)\n",
    "        generated_tokens = model.generate(**encoded_hi, forced_bos_token_id=tokenizer.lang_code_to_id[\"ko_KR\"], max_length=1024)\n",
    "        translated.append(tokenizer.batch_decode(generated_tokens, skip_special_tokens=True)[0])\n",
    "    except TypeError:\n",
    "        translated.append(val)\n",
    "        continue"
   ]
  },
  {
   "cell_type": "code",
   "execution_count": 12,
   "metadata": {},
   "outputs": [
    {
     "data": {
      "text/plain": [
       "['그는 멕시코만에 있는 스키프에서 혼자 낚시를 한 늙은 남자였습니다. 그는 이제 84일 동안 물고기를 잡지 않고 갔습니다.',\n",
       " '처음 40일 동안 한 남자아이가 그와 함께 있었습니다. 하지만 40일 동안 물고기가 없었을 때, 그 남자아이의 부모님은 그에게 그 늙은 남자가 이제 분명히, 그리고 마침내 사라오라고 말했습니다. 그건 최악의 불행의 형태입니다. 그리고 그 남자아이는 그들 주문대로 다른 배로 갔습니다. 그 배는 첫 주에 세 마리의 좋은 물고기를 잡았습니다.']"
      ]
     },
     "execution_count": 12,
     "metadata": {},
     "output_type": "execute_result"
    }
   ],
   "source": [
    "translated[:2]"
   ]
  },
  {
   "cell_type": "code",
   "execution_count": 13,
   "metadata": {},
   "outputs": [],
   "source": [
    "exp1['MBart_ko1']=translated"
   ]
  },
  {
   "cell_type": "code",
   "execution_count": 14,
   "metadata": {},
   "outputs": [
    {
     "name": "stderr",
     "output_type": "stream",
     "text": [
      "768it [1:17:22,  6.04s/it]\n"
     ]
    }
   ],
   "source": [
    "translated=[]\n",
    "for idx, val in tqdm(exp1.iterrows()):\n",
    "    for_translate=val['MBart_ko1']\n",
    "    try:\n",
    "        tokenizer.src_lang = \"ko_KR\"\n",
    "        encoded_hi=tokenizer(for_translate, return_tensors='pt', max_length=1024, truncation=True)\n",
    "        generated_tokens = model.generate(**encoded_hi, forced_bos_token_id=tokenizer.lang_code_to_id[\"en_XX\"], max_length=1024)\n",
    "        translated.append(tokenizer.batch_decode(generated_tokens, skip_special_tokens=True)[0])\n",
    "    except TypeError:\n",
    "        translated.append(val)\n",
    "        continue"
   ]
  },
  {
   "cell_type": "code",
   "execution_count": 15,
   "metadata": {},
   "outputs": [
    {
     "data": {
      "text/plain": [
       "[\"He was an old man who fished alone on a skiff in the Gulf of Mexico, and he's gone without fishing for 84 days now.\",\n",
       " \"A boy was with him for the first 40 days, but when there was no fish for the first 40 days, the boy's parents told him that the old man must be gone now, and finally, that's the worst form of misery, and he went on to another boat on their orders, and the boat caught three good fish in the first week.\"]"
      ]
     },
     "execution_count": 15,
     "metadata": {},
     "output_type": "execute_result"
    }
   ],
   "source": [
    "translated[:2]"
   ]
  },
  {
   "cell_type": "code",
   "execution_count": 16,
   "metadata": {},
   "outputs": [],
   "source": [
    "exp1['MBart_en2']=translated"
   ]
  },
  {
   "cell_type": "code",
   "execution_count": 17,
   "metadata": {},
   "outputs": [
    {
     "name": "stderr",
     "output_type": "stream",
     "text": [
      "768it [1:31:05,  7.12s/it]\n"
     ]
    }
   ],
   "source": [
    "translated=[]\n",
    "for idx, val in tqdm(exp1.iterrows()):\n",
    "    for_translate=val['MBart_en2']\n",
    "    try:\n",
    "        tokenizer.src_lang = \"en_XX\"\n",
    "        encoded_hi=tokenizer(for_translate, return_tensors='pt', max_length=1024, truncation=True)\n",
    "        generated_tokens = model.generate(**encoded_hi, forced_bos_token_id=tokenizer.lang_code_to_id[\"ko_KR\"], max_length=1024)\n",
    "        translated.append(tokenizer.batch_decode(generated_tokens, skip_special_tokens=True)[0])\n",
    "    except TypeError:\n",
    "        translated.append(val)\n",
    "        continue"
   ]
  },
  {
   "cell_type": "code",
   "execution_count": 18,
   "metadata": {},
   "outputs": [],
   "source": [
    "exp1['MBart_ko3']=translated"
   ]
  },
  {
   "cell_type": "code",
   "execution_count": 19,
   "metadata": {},
   "outputs": [
    {
     "name": "stderr",
     "output_type": "stream",
     "text": [
      "768it [1:18:27,  6.13s/it]\n"
     ]
    }
   ],
   "source": [
    "translated=[]\n",
    "for idx, val in tqdm(exp1.iterrows()):\n",
    "    for_translate=val['MBart_ko3']\n",
    "    try:\n",
    "        tokenizer.src_lang = \"ko_KR\"\n",
    "        encoded_hi=tokenizer(for_translate, return_tensors='pt', max_length=1024, truncation=True)\n",
    "        generated_tokens = model.generate(**encoded_hi, forced_bos_token_id=tokenizer.lang_code_to_id[\"en_XX\"], max_length=1024)\n",
    "        translated.append(tokenizer.batch_decode(generated_tokens, skip_special_tokens=True)[0])\n",
    "    except TypeError:\n",
    "        translated.append(val)\n",
    "        continue"
   ]
  },
  {
   "cell_type": "code",
   "execution_count": 20,
   "metadata": {},
   "outputs": [],
   "source": [
    "exp1['MBart_en4']=translated"
   ]
  },
  {
   "cell_type": "code",
   "execution_count": 21,
   "metadata": {},
   "outputs": [
    {
     "name": "stderr",
     "output_type": "stream",
     "text": [
      "768it [1:26:34,  6.76s/it]\n"
     ]
    }
   ],
   "source": [
    "translated=[]\n",
    "for idx, val in tqdm(exp1.iterrows()):\n",
    "    for_translate=val['MBart_en4']\n",
    "    try:\n",
    "        tokenizer.src_lang = \"en_XX\"\n",
    "        encoded_hi=tokenizer(for_translate, return_tensors='pt', max_length=1024, truncation=True)\n",
    "        generated_tokens = model.generate(**encoded_hi, forced_bos_token_id=tokenizer.lang_code_to_id[\"ko_KR\"], max_length=1024)\n",
    "        translated.append(tokenizer.batch_decode(generated_tokens, skip_special_tokens=True)[0])\n",
    "    except TypeError:\n",
    "        translated.append(val)\n",
    "        continue"
   ]
  },
  {
   "cell_type": "code",
   "execution_count": 22,
   "metadata": {},
   "outputs": [],
   "source": [
    "exp1['MBart_ko5']=translated"
   ]
  },
  {
   "cell_type": "code",
   "execution_count": 14,
   "metadata": {},
   "outputs": [],
   "source": [
    "exp1['MarianMT_ko1']=exp1['MarianMT_ko1'].str.replace('<unk>', '')\n",
    "exp1['MarianMT_EN2']=exp1['MarianMT_EN2'].str.replace('<unk>', '')\n",
    "exp1['MarianMT_ko3']=exp1['MarianMT_ko3'].str.replace('<unk>', '')\n",
    "exp1['MarianMT_EN4']=exp1['MarianMT_EN4'].str.replace('<unk>', '')"
   ]
  },
  {
   "cell_type": "code",
   "execution_count": 23,
   "metadata": {},
   "outputs": [],
   "source": [
    "exp1.to_csv('/Volumes/T7/mt-hemingway/data/hypothesis/exp1_MBart.csv', encoding='utf-8-sig', index=False)"
   ]
  },
  {
   "cell_type": "code",
   "execution_count": 24,
   "metadata": {},
   "outputs": [
    {
     "data": {
      "text/html": [
       "<div>\n",
       "<style scoped>\n",
       "    .dataframe tbody tr th:only-of-type {\n",
       "        vertical-align: middle;\n",
       "    }\n",
       "\n",
       "    .dataframe tbody tr th {\n",
       "        vertical-align: top;\n",
       "    }\n",
       "\n",
       "    .dataframe thead th {\n",
       "        text-align: right;\n",
       "    }\n",
       "</style>\n",
       "<table border=\"1\" class=\"dataframe\">\n",
       "  <thead>\n",
       "    <tr style=\"text-align: right;\">\n",
       "      <th></th>\n",
       "      <th>original</th>\n",
       "      <th>MBart_ko1</th>\n",
       "      <th>MBart_en2</th>\n",
       "      <th>MBart_ko3</th>\n",
       "      <th>MBart_en4</th>\n",
       "      <th>MBart_ko5</th>\n",
       "    </tr>\n",
       "  </thead>\n",
       "  <tbody>\n",
       "    <tr>\n",
       "      <th>0</th>\n",
       "      <td>He was an old man who fished alone in a skiff ...</td>\n",
       "      <td>그는 멕시코만에 있는 스키프에서 혼자 낚시를 한 늙은 남자였습니다. 그는 이제 84...</td>\n",
       "      <td>He was an old man who fished alone on a skiff ...</td>\n",
       "      <td>그는 멕시코만에 있는 스키프에서 혼자 어획하는 노인이었습니다. 그는 84일 동안 어...</td>\n",
       "      <td>He was an elderly man who fished alone on a sk...</td>\n",
       "      <td>그는 멕시코만에 있는 스키프에서 혼자 어획하는 노인이었습니다. 84일 동안 어획을 ...</td>\n",
       "    </tr>\n",
       "    <tr>\n",
       "      <th>1</th>\n",
       "      <td>In the first forty days a boy had been with hi...</td>\n",
       "      <td>처음 40일 동안 한 남자아이가 그와 함께 있었습니다. 하지만 40일 동안 물고기가...</td>\n",
       "      <td>A boy was with him for the first 40 days, but ...</td>\n",
       "      <td>첫 40일 동안 한 남자아이가 그와 함께 있었습니다. 하지만 첫 40일 동안 물고기...</td>\n",
       "      <td>A boy was with him for the first 40 days, but ...</td>\n",
       "      <td>한 소년은 처음 40일 동안 그와 함께 있었지만, 처음 40일 동안 물고기가 없었을...</td>\n",
       "    </tr>\n",
       "    <tr>\n",
       "      <th>2</th>\n",
       "      <td>It made the boy sad to see the old man come in...</td>\n",
       "      <td>그 소년은 그 노년이 매일 스키프가 텅 비어 들어오는 것을 보고 슬픔을 느꼈습니다....</td>\n",
       "      <td>The boy was sad to see the old man coming in e...</td>\n",
       "      <td>그 소년은 그 노년이 매일 비어있는 스키프를 입고 오는 것을 보고 슬퍼했습니다. 그...</td>\n",
       "      <td>The boy was sad to see that the old man was co...</td>\n",
       "      <td>그 소년은 그 노년이 매일 비어있는 스키를 타고 오는 것을 보고 슬퍼했습니다. 그는...</td>\n",
       "    </tr>\n",
       "    <tr>\n",
       "      <th>3</th>\n",
       "      <td>The sail was patched with flour sacks and, fur...</td>\n",
       "      <td>배는 빵 봉투로 덮여있었고, 털이 붙어서 영구적인 패배의 깃발처럼 보였습니다.</td>\n",
       "      <td>The ship was covered in a bag of bread, and it...</td>\n",
       "      <td>배는 빵 봉투로 덮여있었고, 장식이 되어서 영구적인 패배 깃발처럼 보였습니다.</td>\n",
       "      <td>The ship was covered in a bag of bread, and it...</td>\n",
       "      <td>배는 빵 가방에 덮여있었고 패배의 영구적인 깃발처럼 장식되어 있었습니다.</td>\n",
       "    </tr>\n",
       "    <tr>\n",
       "      <th>4</th>\n",
       "      <td>The old man was thin and gaunt with deep wrink...</td>\n",
       "      <td>늙은 남자는 얇고 엉덩이에 깊은 흉터가 있었습니다.</td>\n",
       "      <td>The old man had thin, deep scars on his buttocks.</td>\n",
       "      <td>그 노인은 엉덩이에 얇고 깊은 상처가 있었습니다.</td>\n",
       "      <td>The old man had a thin, profound scar on his b...</td>\n",
       "      <td>그 노인은 엉덩이에 얇고 심각한 상처가 있었습니다.</td>\n",
       "    </tr>\n",
       "    <tr>\n",
       "      <th>...</th>\n",
       "      <td>...</td>\n",
       "      <td>...</td>\n",
       "      <td>...</td>\n",
       "      <td>...</td>\n",
       "      <td>...</td>\n",
       "      <td>...</td>\n",
       "    </tr>\n",
       "    <tr>\n",
       "      <th>763</th>\n",
       "      <td>What's that? she asked a waiter and pointed to...</td>\n",
       "      <td>그게 뭘까요? 그녀는 웨이터에게 물어봤습니다. 그리고 그 거대한 물고기의 긴 척추를...</td>\n",
       "      <td>What was that? She asked the waiter, and she p...</td>\n",
       "      <td>그게 무엇일까요? 그녀는 웨이터에게 물었습니다. 그리고 거대한 물고기의 긴 척추를 ...</td>\n",
       "      <td>What is that? She asked the waiter, and she po...</td>\n",
       "      <td>그게 무엇일까요? 그녀는 웨이터에게 물었습니다. 그리고 그녀는 이 거대한 물고기의 ...</td>\n",
       "    </tr>\n",
       "    <tr>\n",
       "      <th>764</th>\n",
       "      <td>Tiburon, the waiter said, \"Eshark.\" He was mea...</td>\n",
       "      <td>웨이터는 \"에셔크\"라고 말했습니다. 그는 무슨 일이 일어났는지 설명하고 싶었습니다.</td>\n",
       "      <td>And the waiter said, \"Escherk,\" and he wanted ...</td>\n",
       "      <td>그 웨이터가 \"에셔크\"라고 말했습니다. 그는 무슨 일이 일어났는지 설명하고 싶었습니다.</td>\n",
       "      <td>And the waiter said, \"Escherk,\" and he wanted ...</td>\n",
       "      <td>그 웨이터가 \"에셔크\"라고 말했습니다. 그는 무슨 일이 일어났는지 설명하고 싶었습니다.</td>\n",
       "    </tr>\n",
       "    <tr>\n",
       "      <th>765</th>\n",
       "      <td>I didn't know sharks had such handsome, beauti...</td>\n",
       "      <td>저는 상어가 이렇게 멋진, 아름답게 형성된 꼬리를 가지고 있다는 것을 몰랐습니다.</td>\n",
       "      <td>I didn't know sharks had this beautiful, beaut...</td>\n",
       "      <td>저는 상어가 이렇게 아름답고 잘 형성된 꼬리를 가지고 있다는 것을 몰랐습니다.</td>\n",
       "      <td>I didn't know sharks had this beautiful, well-...</td>\n",
       "      <td>저는 상어가 이렇게 아름답고 잘 형성된 꼬리를 가지고 있다는 것을 몰랐습니다.</td>\n",
       "    </tr>\n",
       "    <tr>\n",
       "      <th>766</th>\n",
       "      <td>I didn't either, her male companion said.</td>\n",
       "      <td>저도 몰랐습니다. 그녀의 남자 동료가 말했습니다.</td>\n",
       "      <td>I didn't know, her male colleagues said.</td>\n",
       "      <td>저는 몰랐습니다. 그녀의 남성 동료들은 말했습니다.</td>\n",
       "      <td>I didn't know. Her male colleagues told me.</td>\n",
       "      <td>저는 몰랐습니다. 그녀의 남성 동료들이 말했습니다.</td>\n",
       "    </tr>\n",
       "    <tr>\n",
       "      <th>767</th>\n",
       "      <td>Up the road, in his shack, the old man was sle...</td>\n",
       "      <td>길 위의 텐트에서 늙은 남자가 다시 자고 있었습니다. 그는 여전히 얼굴에 누워 있었...</td>\n",
       "      <td>And in the tent on the street, the old man was...</td>\n",
       "      <td>길에 있는 텐트에서 노년이 다시 자고 있었습니다. 그는 여전히 얼굴을 내려놓고 있었...</td>\n",
       "      <td>The old man was sleeping again in a tent on th...</td>\n",
       "      <td>그 노인은 거리의 텐트에서 다시 자고 있었습니다. 그는 여전히 얼굴을 내려놓고 있었...</td>\n",
       "    </tr>\n",
       "  </tbody>\n",
       "</table>\n",
       "<p>768 rows × 6 columns</p>\n",
       "</div>"
      ],
      "text/plain": [
       "                                              original  \\\n",
       "0    He was an old man who fished alone in a skiff ...   \n",
       "1    In the first forty days a boy had been with hi...   \n",
       "2    It made the boy sad to see the old man come in...   \n",
       "3    The sail was patched with flour sacks and, fur...   \n",
       "4    The old man was thin and gaunt with deep wrink...   \n",
       "..                                                 ...   \n",
       "763  What's that? she asked a waiter and pointed to...   \n",
       "764  Tiburon, the waiter said, \"Eshark.\" He was mea...   \n",
       "765  I didn't know sharks had such handsome, beauti...   \n",
       "766          I didn't either, her male companion said.   \n",
       "767  Up the road, in his shack, the old man was sle...   \n",
       "\n",
       "                                             MBart_ko1  \\\n",
       "0    그는 멕시코만에 있는 스키프에서 혼자 낚시를 한 늙은 남자였습니다. 그는 이제 84...   \n",
       "1    처음 40일 동안 한 남자아이가 그와 함께 있었습니다. 하지만 40일 동안 물고기가...   \n",
       "2    그 소년은 그 노년이 매일 스키프가 텅 비어 들어오는 것을 보고 슬픔을 느꼈습니다....   \n",
       "3          배는 빵 봉투로 덮여있었고, 털이 붙어서 영구적인 패배의 깃발처럼 보였습니다.   \n",
       "4                         늙은 남자는 얇고 엉덩이에 깊은 흉터가 있었습니다.   \n",
       "..                                                 ...   \n",
       "763  그게 뭘까요? 그녀는 웨이터에게 물어봤습니다. 그리고 그 거대한 물고기의 긴 척추를...   \n",
       "764     웨이터는 \"에셔크\"라고 말했습니다. 그는 무슨 일이 일어났는지 설명하고 싶었습니다.   \n",
       "765      저는 상어가 이렇게 멋진, 아름답게 형성된 꼬리를 가지고 있다는 것을 몰랐습니다.   \n",
       "766                        저도 몰랐습니다. 그녀의 남자 동료가 말했습니다.   \n",
       "767  길 위의 텐트에서 늙은 남자가 다시 자고 있었습니다. 그는 여전히 얼굴에 누워 있었...   \n",
       "\n",
       "                                             MBart_en2  \\\n",
       "0    He was an old man who fished alone on a skiff ...   \n",
       "1    A boy was with him for the first 40 days, but ...   \n",
       "2    The boy was sad to see the old man coming in e...   \n",
       "3    The ship was covered in a bag of bread, and it...   \n",
       "4    The old man had thin, deep scars on his buttocks.   \n",
       "..                                                 ...   \n",
       "763  What was that? She asked the waiter, and she p...   \n",
       "764  And the waiter said, \"Escherk,\" and he wanted ...   \n",
       "765  I didn't know sharks had this beautiful, beaut...   \n",
       "766           I didn't know, her male colleagues said.   \n",
       "767  And in the tent on the street, the old man was...   \n",
       "\n",
       "                                             MBart_ko3  \\\n",
       "0    그는 멕시코만에 있는 스키프에서 혼자 어획하는 노인이었습니다. 그는 84일 동안 어...   \n",
       "1    첫 40일 동안 한 남자아이가 그와 함께 있었습니다. 하지만 첫 40일 동안 물고기...   \n",
       "2    그 소년은 그 노년이 매일 비어있는 스키프를 입고 오는 것을 보고 슬퍼했습니다. 그...   \n",
       "3          배는 빵 봉투로 덮여있었고, 장식이 되어서 영구적인 패배 깃발처럼 보였습니다.   \n",
       "4                          그 노인은 엉덩이에 얇고 깊은 상처가 있었습니다.   \n",
       "..                                                 ...   \n",
       "763  그게 무엇일까요? 그녀는 웨이터에게 물었습니다. 그리고 거대한 물고기의 긴 척추를 ...   \n",
       "764   그 웨이터가 \"에셔크\"라고 말했습니다. 그는 무슨 일이 일어났는지 설명하고 싶었습니다.   \n",
       "765        저는 상어가 이렇게 아름답고 잘 형성된 꼬리를 가지고 있다는 것을 몰랐습니다.   \n",
       "766                       저는 몰랐습니다. 그녀의 남성 동료들은 말했습니다.   \n",
       "767  길에 있는 텐트에서 노년이 다시 자고 있었습니다. 그는 여전히 얼굴을 내려놓고 있었...   \n",
       "\n",
       "                                             MBart_en4  \\\n",
       "0    He was an elderly man who fished alone on a sk...   \n",
       "1    A boy was with him for the first 40 days, but ...   \n",
       "2    The boy was sad to see that the old man was co...   \n",
       "3    The ship was covered in a bag of bread, and it...   \n",
       "4    The old man had a thin, profound scar on his b...   \n",
       "..                                                 ...   \n",
       "763  What is that? She asked the waiter, and she po...   \n",
       "764  And the waiter said, \"Escherk,\" and he wanted ...   \n",
       "765  I didn't know sharks had this beautiful, well-...   \n",
       "766        I didn't know. Her male colleagues told me.   \n",
       "767  The old man was sleeping again in a tent on th...   \n",
       "\n",
       "                                             MBart_ko5  \n",
       "0    그는 멕시코만에 있는 스키프에서 혼자 어획하는 노인이었습니다. 84일 동안 어획을 ...  \n",
       "1    한 소년은 처음 40일 동안 그와 함께 있었지만, 처음 40일 동안 물고기가 없었을...  \n",
       "2    그 소년은 그 노년이 매일 비어있는 스키를 타고 오는 것을 보고 슬퍼했습니다. 그는...  \n",
       "3             배는 빵 가방에 덮여있었고 패배의 영구적인 깃발처럼 장식되어 있었습니다.  \n",
       "4                         그 노인은 엉덩이에 얇고 심각한 상처가 있었습니다.  \n",
       "..                                                 ...  \n",
       "763  그게 무엇일까요? 그녀는 웨이터에게 물었습니다. 그리고 그녀는 이 거대한 물고기의 ...  \n",
       "764   그 웨이터가 \"에셔크\"라고 말했습니다. 그는 무슨 일이 일어났는지 설명하고 싶었습니다.  \n",
       "765        저는 상어가 이렇게 아름답고 잘 형성된 꼬리를 가지고 있다는 것을 몰랐습니다.  \n",
       "766                       저는 몰랐습니다. 그녀의 남성 동료들이 말했습니다.  \n",
       "767  그 노인은 거리의 텐트에서 다시 자고 있었습니다. 그는 여전히 얼굴을 내려놓고 있었...  \n",
       "\n",
       "[768 rows x 6 columns]"
      ]
     },
     "execution_count": 24,
     "metadata": {},
     "output_type": "execute_result"
    }
   ],
   "source": [
    "exp1"
   ]
  }
 ],
 "metadata": {
  "kernelspec": {
   "display_name": "py3.10",
   "language": "python",
   "name": "python3"
  },
  "language_info": {
   "codemirror_mode": {
    "name": "ipython",
    "version": 3
   },
   "file_extension": ".py",
   "mimetype": "text/x-python",
   "name": "python",
   "nbconvert_exporter": "python",
   "pygments_lexer": "ipython3",
   "version": "3.10.9"
  },
  "orig_nbformat": 4,
  "vscode": {
   "interpreter": {
    "hash": "2c8f0e5dedb0bca84d2e0b4fbfa2d31163667101b0d2986ebd077634811ae380"
   }
  }
 },
 "nbformat": 4,
 "nbformat_minor": 2
}

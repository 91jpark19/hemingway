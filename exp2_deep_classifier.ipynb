{
 "cells": [
  {
   "cell_type": "code",
   "execution_count": 1,
   "metadata": {},
   "outputs": [
    {
     "name": "stderr",
     "output_type": "stream",
     "text": [
      "/Users/mstudio/miniconda3/envs/py3.10/lib/python3.10/site-packages/tqdm/auto.py:22: TqdmWarning: IProgress not found. Please update jupyter and ipywidgets. See https://ipywidgets.readthedocs.io/en/stable/user_install.html\n",
      "  from .autonotebook import tqdm as notebook_tqdm\n"
     ]
    }
   ],
   "source": [
    "import pandas as pd\n",
    "import numpy as np\n",
    "from sklearn.model_selection import train_test_split\n",
    "from sklearn.metrics import accuracy_score, recall_score, precision_score, f1_score\n",
    "import torch\n",
    "from transformers import BertTokenizer\n",
    "from transformers import RobertaTokenizer\n",
    "# from transformers import GPT2TokenizerFast\n",
    "from transformers import AlbertTokenizer\n",
    "from transformers import DistilBertTokenizer\n",
    "from transformers import TrainingArguments, Trainer\n",
    "from transformers import BertForSequenceClassification\n",
    "from transformers import RobertaForSequenceClassification\n",
    "# from transformers import GPT2ForSequenceClassification\n",
    "from transformers import AlbertForSequenceClassification\n",
    "from transformers import DistilBertForSequenceClassification\n",
    "import warnings"
   ]
  },
  {
   "cell_type": "code",
   "execution_count": 2,
   "metadata": {},
   "outputs": [],
   "source": [
    "ht_small=pd.read_csv('/Volumes/T7/mt-hemingway/data/hypothesis/small.csv')\n",
    "ht_small=ht_small.dropna()\n",
    "ht_big=pd.read_csv('/Volumes/T7/mt-hemingway/data/hypothesis/big.csv')\n",
    "ht_big=ht_big.dropna()\n",
    "marianmt_m2m100=pd.read_csv('/Volumes/T7/mt-hemingway/data/hypothesis/exp2/MarianMT_DE/MarianMT_DE_M2M100_KO.csv')\n",
    "marianmt_m2m100=marianmt_m2m100.dropna()\n",
    "marianmt_mbart=pd.read_csv('/Volumes/T7/mt-hemingway/data/hypothesis/exp2/MarianMT_DE/MarianMT_DE_MBart_KO.csv')\n",
    "marianmt_mbart=marianmt_mbart.dropna()\n",
    "m2m100_mbart=pd.read_csv('/Volumes/T7/mt-hemingway/data/hypothesis/exp2/M2M100_DE/M2M100_DE_MBart_KO.csv')\n",
    "m2m100_mbart=m2m100_mbart.dropna()\n",
    "m2m100_m2m100=pd.read_csv('/Volumes/T7/mt-hemingway/data/hypothesis/exp2/M2M100_DE/M2M100_DE_M2M100_KO.csv')\n",
    "m2m100_m2m100=m2m100_m2m100.dropna()\n",
    "mbart_m2m100=pd.read_csv('/Volumes/T7/mt-hemingway/data/hypothesis/exp2/MBart_DE/MBart_DE_M2M100_KO.csv')\n",
    "mbart_m2m100=mbart_m2m100.dropna()\n",
    "mbart_mbart=pd.read_csv('/Volumes/T7/mt-hemingway/data/hypothesis/exp2/MBart_DE/MBart_DE_MBart_KO.csv')\n",
    "mbart_mbart=mbart_mbart.dropna()"
   ]
  },
  {
   "cell_type": "code",
   "execution_count": 3,
   "metadata": {},
   "outputs": [],
   "source": [
    "small_marianmt_m2m100=[ht_small.sample(ht_small.shape[0]), marianmt_m2m100.sample(marianmt_m2m100.shape[0])]\n",
    "small_marianmt_m2m100=pd.concat(small_marianmt_m2m100)\n",
    "small_marianmt_mbart=[ht_small.sample(ht_small.shape[0]), marianmt_mbart.sample(marianmt_mbart.shape[0])]\n",
    "small_marianmt_mbart=pd.concat(small_marianmt_mbart)\n",
    "small_m2m100_mbart=[ht_small.sample(ht_small.shape[0]), m2m100_mbart.sample(m2m100_mbart.shape[0])]\n",
    "small_m2m100_mbart=pd.concat(small_m2m100_mbart)\n",
    "small_m2m100_m2m100=[ht_small.sample(ht_small.shape[0]), m2m100_m2m100.sample(m2m100_m2m100.shape[0])]\n",
    "small_m2m100_m2m100=pd.concat(small_m2m100_m2m100)\n",
    "small_mbart_m2m100=[ht_small.sample(ht_small.shape[0]), mbart_m2m100.sample(mbart_m2m100.shape[0])]\n",
    "small_mbart_m2m100=pd.concat(small_mbart_m2m100)\n",
    "small_mbart_mbart=[ht_small.sample(ht_small.shape[0]), mbart_mbart.sample(mbart_mbart.shape[0])]\n",
    "small_mbart_mbart=pd.concat(small_mbart_mbart)\n",
    "big_marianmt_m2m100=[ht_big.sample(ht_big.shape[0]), marianmt_m2m100.sample(marianmt_m2m100.shape[0])]\n",
    "big_marianmt_m2m100=pd.concat(big_marianmt_m2m100)\n",
    "big_marianmt_mbart=[ht_big.sample(ht_big.shape[0]), marianmt_mbart.sample(marianmt_mbart.shape[0])]\n",
    "big_marianmt_mbart=pd.concat(big_marianmt_mbart)\n",
    "big_m2m100_mbart=[ht_big.sample(ht_big.shape[0]), m2m100_mbart.sample(m2m100_mbart.shape[0])]\n",
    "big_m2m100_mbart=pd.concat(big_m2m100_mbart)\n",
    "big_m2m100_m2m100=[ht_big.sample(ht_big.shape[0]), m2m100_m2m100.sample(m2m100_m2m100.shape[0])]\n",
    "big_m2m100_m2m100=pd.concat(big_m2m100_m2m100)\n",
    "big_mbart_m2m100=[ht_big.sample(ht_big.shape[0]), mbart_m2m100.sample(mbart_m2m100.shape[0])]\n",
    "big_mbart_m2m100=pd.concat(big_mbart_m2m100)\n",
    "big_mbart_mbart=[ht_big.sample(ht_big.shape[0]), mbart_mbart.sample(mbart_mbart.shape[0])]\n",
    "big_mbart_mbart=pd.concat(big_mbart_mbart)"
   ]
  },
  {
   "cell_type": "code",
   "execution_count": 4,
   "metadata": {},
   "outputs": [],
   "source": [
    "def convert_label(data:pd.DataFrame):\n",
    "    data['label']=data['label'].replace({data['label'].groupby(data['label']).count().keys()[0]:0, data['label'].groupby(data['label']).count().keys()[1]:1})\n",
    "    return data"
   ]
  },
  {
   "cell_type": "code",
   "execution_count": 5,
   "metadata": {},
   "outputs": [],
   "source": [
    "small_marianmt_m2m100=convert_label(small_marianmt_m2m100)\n",
    "small_marianmt_mbart=convert_label(small_marianmt_mbart)\n",
    "small_m2m100_mbart=convert_label(small_m2m100_mbart)\n",
    "small_m2m100_m2m100=convert_label(small_m2m100_m2m100)\n",
    "small_mbart_m2m100=convert_label(small_mbart_m2m100)\n",
    "small_mbart_mbart=convert_label(small_mbart_mbart)\n",
    "big_marianmt_m2m100=convert_label(big_marianmt_m2m100)\n",
    "big_marianmt_mbart=convert_label(big_marianmt_mbart)\n",
    "big_m2m100_mbart=convert_label(big_m2m100_mbart)\n",
    "big_m2m100_m2m100=convert_label(big_m2m100_m2m100)\n",
    "big_mbart_m2m100=convert_label(big_mbart_m2m100)\n",
    "big_mbart_mbart=convert_label(big_mbart_mbart)"
   ]
  },
  {
   "cell_type": "code",
   "execution_count": 6,
   "metadata": {},
   "outputs": [
    {
     "name": "stdout",
     "output_type": "stream",
     "text": [
      "CPU times: user 1.56 ms, sys: 1.06 ms, total: 2.62 ms\n",
      "Wall time: 1.83 ms\n"
     ]
    }
   ],
   "source": [
    "%%time\n",
    "X=list(big_mbart_mbart['text'])\n",
    "y=list(big_mbart_mbart['label'])\n",
    "X_train, X_test, y_train, y_test = train_test_split(X,y, test_size=0.2, stratify=y, random_state=42)"
   ]
  },
  {
   "cell_type": "code",
   "execution_count": 7,
   "metadata": {},
   "outputs": [
    {
     "name": "stderr",
     "output_type": "stream",
     "text": [
      "Some weights of the model checkpoint at bert-base-uncased were not used when initializing BertForSequenceClassification: ['cls.predictions.transform.dense.bias', 'cls.predictions.transform.LayerNorm.weight', 'cls.predictions.decoder.weight', 'cls.predictions.transform.dense.weight', 'cls.seq_relationship.bias', 'cls.predictions.bias', 'cls.seq_relationship.weight', 'cls.predictions.transform.LayerNorm.bias']\n",
      "- This IS expected if you are initializing BertForSequenceClassification from the checkpoint of a model trained on another task or with another architecture (e.g. initializing a BertForSequenceClassification model from a BertForPreTraining model).\n",
      "- This IS NOT expected if you are initializing BertForSequenceClassification from the checkpoint of a model that you expect to be exactly identical (initializing a BertForSequenceClassification model from a BertForSequenceClassification model).\n",
      "Some weights of BertForSequenceClassification were not initialized from the model checkpoint at bert-base-uncased and are newly initialized: ['classifier.weight', 'classifier.bias']\n",
      "You should probably TRAIN this model on a down-stream task to be able to use it for predictions and inference.\n",
      "Some weights of the model checkpoint at albert-base-v2 were not used when initializing AlbertForSequenceClassification: ['predictions.decoder.weight', 'predictions.LayerNorm.weight', 'predictions.dense.weight', 'predictions.dense.bias', 'predictions.bias', 'predictions.decoder.bias', 'predictions.LayerNorm.bias']\n",
      "- This IS expected if you are initializing AlbertForSequenceClassification from the checkpoint of a model trained on another task or with another architecture (e.g. initializing a BertForSequenceClassification model from a BertForPreTraining model).\n",
      "- This IS NOT expected if you are initializing AlbertForSequenceClassification from the checkpoint of a model that you expect to be exactly identical (initializing a BertForSequenceClassification model from a BertForSequenceClassification model).\n",
      "Some weights of AlbertForSequenceClassification were not initialized from the model checkpoint at albert-base-v2 and are newly initialized: ['classifier.weight', 'classifier.bias']\n",
      "You should probably TRAIN this model on a down-stream task to be able to use it for predictions and inference.\n",
      "Some weights of the model checkpoint at roberta-base were not used when initializing RobertaForSequenceClassification: ['lm_head.dense.weight', 'lm_head.layer_norm.weight', 'lm_head.decoder.weight', 'lm_head.bias', 'lm_head.layer_norm.bias', 'lm_head.dense.bias', 'roberta.pooler.dense.weight', 'roberta.pooler.dense.bias']\n",
      "- This IS expected if you are initializing RobertaForSequenceClassification from the checkpoint of a model trained on another task or with another architecture (e.g. initializing a BertForSequenceClassification model from a BertForPreTraining model).\n",
      "- This IS NOT expected if you are initializing RobertaForSequenceClassification from the checkpoint of a model that you expect to be exactly identical (initializing a BertForSequenceClassification model from a BertForSequenceClassification model).\n",
      "Some weights of RobertaForSequenceClassification were not initialized from the model checkpoint at roberta-base and are newly initialized: ['classifier.dense.bias', 'classifier.dense.weight', 'classifier.out_proj.weight', 'classifier.out_proj.bias']\n",
      "You should probably TRAIN this model on a down-stream task to be able to use it for predictions and inference.\n"
     ]
    }
   ],
   "source": [
    "bert_tokenizer=BertTokenizer.from_pretrained('bert-base-uncased')\n",
    "albert_tokenizer=AlbertTokenizer.from_pretrained('albert-base-v2')\n",
    "roberta_tokenizer=RobertaTokenizer.from_pretrained('roberta-base')\n",
    "bert_model=BertForSequenceClassification.from_pretrained('bert-base-uncased', num_labels=2)\n",
    "albert_model=AlbertForSequenceClassification.from_pretrained('albert-base-v2', num_labels=2)\n",
    "roberta_model=RobertaForSequenceClassification.from_pretrained('roberta-base', num_labels=2)\n",
    "import warnings"
   ]
  },
  {
   "cell_type": "code",
   "execution_count": 8,
   "metadata": {},
   "outputs": [
    {
     "data": {
      "text/plain": [
       "device(type='mps')"
      ]
     },
     "execution_count": 8,
     "metadata": {},
     "output_type": "execute_result"
    }
   ],
   "source": [
    "device=torch.device('mps')\n",
    "bert_model.to(device)\n",
    "roberta_model.to(torch.device('cpu'))\n",
    "albert_model.to(torch.device(device))\n",
    "device"
   ]
  },
  {
   "cell_type": "code",
   "execution_count": 9,
   "metadata": {},
   "outputs": [],
   "source": [
    "X_train_tokenized_bert=bert_tokenizer(X_train, padding=True, truncation=True)#, max_length=512)\n",
    "X_test_tokenized_bert=bert_tokenizer(X_test, padding=True, truncation=True)#, max_lenght=512)\n",
    "X_train_tokenized_roberta=roberta_tokenizer(X_train, padding=True, truncation=True)#, max_length=512)\n",
    "X_test_tokenized_roberta=roberta_tokenizer(X_test, padding=True, truncation=True)#, max_lenght=512)\n",
    "X_train_tokenized_albert=albert_tokenizer(X_train, padding=True, truncation=True)#, max_length=512)\n",
    "X_test_tokenized_albert=albert_tokenizer(X_test, padding=True, truncation=True)#, max_lenght=512)"
   ]
  },
  {
   "cell_type": "code",
   "execution_count": 10,
   "metadata": {},
   "outputs": [],
   "source": [
    "#create torch dataset\n",
    "class Dataset(torch.utils.data.Dataset):\n",
    "    def __init__(self, encodings, labels=None):\n",
    "        self.encodings = encodings\n",
    "        self.labels = labels\n",
    "\n",
    "    def __getitem__(self, idx):\n",
    "        item = {key: torch.tensor(val[idx]) for key, val in self.encodings.items()}\n",
    "        if self.labels:\n",
    "            item[\"labels\"] = torch.tensor(self.labels[idx])\n",
    "        return item\n",
    "\n",
    "    def __len__(self):\n",
    "        return len(self.encodings[\"input_ids\"])"
   ]
  },
  {
   "cell_type": "code",
   "execution_count": 11,
   "metadata": {},
   "outputs": [],
   "source": [
    "train_dataset_bert=Dataset(X_train_tokenized_bert, y_train)\n",
    "test_dataset_bert=Dataset(X_test_tokenized_bert, y_test)\n",
    "train_dataset_roberta=Dataset(X_train_tokenized_roberta, y_train)\n",
    "test_dataset_roberta=Dataset(X_test_tokenized_roberta, y_test)\n",
    "train_dataset_albert=Dataset(X_train_tokenized_albert, y_train)\n",
    "test_dataset_albert=Dataset(X_test_tokenized_albert, y_test)"
   ]
  },
  {
   "cell_type": "code",
   "execution_count": 12,
   "metadata": {},
   "outputs": [],
   "source": [
    "def compute_metrics(p):\n",
    "    print(type(p))\n",
    "    pred, labels = p\n",
    "    pred=np.argmax(pred, axis=1)\n",
    "    accuracy=accuracy_score(y_true=labels, y_pred=pred)\n",
    "    recall=recall_score(y_true=labels, y_pred=pred)\n",
    "    precision=precision_score(y_true=labels, y_pred=pred)\n",
    "    f1=f1_score(y_true=labels, y_pred=pred)\n",
    "    return {'accuracy': accuracy, 'precision': precision, 'recall': recall, 'f1': f1}"
   ]
  },
  {
   "cell_type": "code",
   "execution_count": 13,
   "metadata": {},
   "outputs": [],
   "source": [
    "#define Trainer\n",
    "args_bert=TrainingArguments(\n",
    "    output_dir='output',\n",
    "    num_train_epochs=1,#higher may get the higer accuracy\n",
    "    per_device_train_batch_size=8,\n",
    "    use_mps_device=True\n",
    ")\n",
    "trainer_bert=Trainer(\n",
    "    model=bert_model,\n",
    "    args=args_bert,\n",
    "    train_dataset=train_dataset_bert,\n",
    "    eval_dataset=test_dataset_bert,\n",
    "    compute_metrics=compute_metrics,\n",
    ")"
   ]
  },
  {
   "cell_type": "code",
   "execution_count": 14,
   "metadata": {},
   "outputs": [
    {
     "name": "stderr",
     "output_type": "stream",
     "text": [
      "/Users/mstudio/miniconda3/envs/py3.10/lib/python3.10/site-packages/transformers/optimization.py:306: FutureWarning: This implementation of AdamW is deprecated and will be removed in a future version. Use the PyTorch implementation torch.optim.AdamW instead, or set `no_deprecation_warning=True` to disable this warning\n",
      "  warnings.warn(\n",
      "***** Running training *****\n",
      "  Num examples = 1220\n",
      "  Num Epochs = 1\n",
      "  Instantaneous batch size per device = 8\n",
      "  Total train batch size (w. parallel, distributed & accumulation) = 8\n",
      "  Gradient Accumulation steps = 1\n",
      "  Total optimization steps = 153\n",
      "  Number of trainable parameters = 109483778\n",
      "100%|██████████| 153/153 [01:29<00:00,  1.82it/s]\n",
      "\n",
      "Training completed. Do not forget to share your model on huggingface.co/models =)\n",
      "\n",
      "\n",
      "100%|██████████| 153/153 [01:29<00:00,  1.71it/s]"
     ]
    },
    {
     "name": "stdout",
     "output_type": "stream",
     "text": [
      "{'train_runtime': 89.4315, 'train_samples_per_second': 13.642, 'train_steps_per_second': 1.711, 'train_loss': 0.4155426025390625, 'epoch': 1.0}\n"
     ]
    },
    {
     "name": "stderr",
     "output_type": "stream",
     "text": [
      "\n"
     ]
    },
    {
     "data": {
      "text/plain": [
       "TrainOutput(global_step=153, training_loss=0.4155426025390625, metrics={'train_runtime': 89.4315, 'train_samples_per_second': 13.642, 'train_steps_per_second': 1.711, 'train_loss': 0.4155426025390625, 'epoch': 1.0})"
      ]
     },
     "execution_count": 14,
     "metadata": {},
     "output_type": "execute_result"
    }
   ],
   "source": [
    "trainer_bert.train()"
   ]
  },
  {
   "cell_type": "code",
   "execution_count": 15,
   "metadata": {},
   "outputs": [
    {
     "name": "stderr",
     "output_type": "stream",
     "text": [
      "***** Running Evaluation *****\n",
      "  Num examples = 306\n",
      "  Batch size = 8\n",
      "100%|██████████| 39/39 [00:06<00:00,  6.46it/s]"
     ]
    },
    {
     "name": "stdout",
     "output_type": "stream",
     "text": [
      "<class 'transformers.trainer_utils.EvalPrediction'>\n"
     ]
    },
    {
     "name": "stderr",
     "output_type": "stream",
     "text": [
      "\n"
     ]
    },
    {
     "data": {
      "text/plain": [
       "{'eval_loss': 0.25748103857040405,\n",
       " 'eval_accuracy': 0.9117647058823529,\n",
       " 'eval_precision': 0.8757396449704142,\n",
       " 'eval_recall': 0.961038961038961,\n",
       " 'eval_f1': 0.9164086687306501,\n",
       " 'eval_runtime': 6.6715,\n",
       " 'eval_samples_per_second': 45.866,\n",
       " 'eval_steps_per_second': 5.846,\n",
       " 'epoch': 1.0}"
      ]
     },
     "execution_count": 15,
     "metadata": {},
     "output_type": "execute_result"
    }
   ],
   "source": [
    "trainer_bert.evaluate()"
   ]
  },
  {
   "cell_type": "code",
   "execution_count": 16,
   "metadata": {},
   "outputs": [
    {
     "name": "stderr",
     "output_type": "stream",
     "text": [
      "PyTorch: setting up devices\n",
      "The default value for the training argument `--report_to` will change in v5 (from all installed integrations to none). In v5, you will need to use `--report_to all` to get the same behavior as now. You should start updating your code and make this info disappear :-).\n"
     ]
    }
   ],
   "source": [
    "args_roberta=TrainingArguments(\n",
    "    output_dir='output',\n",
    "    num_train_epochs=1,#higher may get the higer accuracy\n",
    "    per_device_train_batch_size=8,\n",
    "    # use_mps_device=True,\n",
    "    # pytorch_device='cpu',\n",
    ")\n",
    "trainer_roberta=Trainer(\n",
    "    model=roberta_model,\n",
    "    args=args_roberta,\n",
    "    train_dataset=train_dataset_roberta,\n",
    "    eval_dataset=test_dataset_roberta,\n",
    "    compute_metrics=compute_metrics,\n",
    ")"
   ]
  },
  {
   "cell_type": "code",
   "execution_count": 17,
   "metadata": {},
   "outputs": [
    {
     "name": "stderr",
     "output_type": "stream",
     "text": [
      "/Users/mstudio/miniconda3/envs/py3.10/lib/python3.10/site-packages/transformers/optimization.py:306: FutureWarning: This implementation of AdamW is deprecated and will be removed in a future version. Use the PyTorch implementation torch.optim.AdamW instead, or set `no_deprecation_warning=True` to disable this warning\n",
      "  warnings.warn(\n",
      "***** Running training *****\n",
      "  Num examples = 1220\n",
      "  Num Epochs = 1\n",
      "  Instantaneous batch size per device = 8\n",
      "  Total train batch size (w. parallel, distributed & accumulation) = 8\n",
      "  Gradient Accumulation steps = 1\n",
      "  Total optimization steps = 153\n",
      "  Number of trainable parameters = 124647170\n",
      "100%|██████████| 153/153 [13:32<00:00,  4.60s/it]\n",
      "\n",
      "Training completed. Do not forget to share your model on huggingface.co/models =)\n",
      "\n",
      "\n",
      "100%|██████████| 153/153 [13:32<00:00,  5.31s/it]"
     ]
    },
    {
     "name": "stdout",
     "output_type": "stream",
     "text": [
      "{'train_runtime': 812.3285, 'train_samples_per_second': 1.502, 'train_steps_per_second': 0.188, 'train_loss': 0.38239844328437755, 'epoch': 1.0}\n"
     ]
    },
    {
     "name": "stderr",
     "output_type": "stream",
     "text": [
      "\n"
     ]
    },
    {
     "data": {
      "text/plain": [
       "TrainOutput(global_step=153, training_loss=0.38239844328437755, metrics={'train_runtime': 812.3285, 'train_samples_per_second': 1.502, 'train_steps_per_second': 0.188, 'train_loss': 0.38239844328437755, 'epoch': 1.0})"
      ]
     },
     "execution_count": 17,
     "metadata": {},
     "output_type": "execute_result"
    }
   ],
   "source": [
    "trainer_roberta.train()"
   ]
  },
  {
   "cell_type": "code",
   "execution_count": 18,
   "metadata": {},
   "outputs": [
    {
     "name": "stderr",
     "output_type": "stream",
     "text": [
      "***** Running Evaluation *****\n",
      "  Num examples = 306\n",
      "  Batch size = 8\n",
      "100%|██████████| 39/39 [00:38<00:00,  1.01it/s]"
     ]
    },
    {
     "name": "stdout",
     "output_type": "stream",
     "text": [
      "<class 'transformers.trainer_utils.EvalPrediction'>\n"
     ]
    },
    {
     "name": "stderr",
     "output_type": "stream",
     "text": [
      "\n"
     ]
    },
    {
     "data": {
      "text/plain": [
       "{'eval_loss': 0.10036637634038925,\n",
       " 'eval_accuracy': 0.9705882352941176,\n",
       " 'eval_precision': 0.9617834394904459,\n",
       " 'eval_recall': 0.9805194805194806,\n",
       " 'eval_f1': 0.9710610932475885,\n",
       " 'eval_runtime': 39.8919,\n",
       " 'eval_samples_per_second': 7.671,\n",
       " 'eval_steps_per_second': 0.978,\n",
       " 'epoch': 1.0}"
      ]
     },
     "execution_count": 18,
     "metadata": {},
     "output_type": "execute_result"
    }
   ],
   "source": [
    "trainer_roberta.evaluate()"
   ]
  },
  {
   "cell_type": "code",
   "execution_count": 13,
   "metadata": {},
   "outputs": [],
   "source": [
    "args_albert=TrainingArguments(\n",
    "    output_dir='output',\n",
    "    num_train_epochs=1,#higher may get the higer accuracy\n",
    "    per_device_train_batch_size=8,\n",
    "    use_mps_device=True\n",
    ")\n",
    "trainer_albert=Trainer(\n",
    "    model=albert_model,\n",
    "    args=args_albert,\n",
    "    train_dataset=train_dataset_albert,\n",
    "    eval_dataset=test_dataset_albert,\n",
    "    compute_metrics=compute_metrics,\n",
    ")"
   ]
  },
  {
   "cell_type": "code",
   "execution_count": 14,
   "metadata": {},
   "outputs": [
    {
     "name": "stderr",
     "output_type": "stream",
     "text": [
      "/Users/mstudio/miniconda3/envs/py3.10/lib/python3.10/site-packages/transformers/optimization.py:306: FutureWarning: This implementation of AdamW is deprecated and will be removed in a future version. Use the PyTorch implementation torch.optim.AdamW instead, or set `no_deprecation_warning=True` to disable this warning\n",
      "  warnings.warn(\n",
      "***** Running training *****\n",
      "  Num examples = 1220\n",
      "  Num Epochs = 1\n",
      "  Instantaneous batch size per device = 8\n",
      "  Total train batch size (w. parallel, distributed & accumulation) = 8\n",
      "  Gradient Accumulation steps = 1\n",
      "  Total optimization steps = 153\n",
      "  Number of trainable parameters = 11685122\n",
      "100%|██████████| 153/153 [01:17<00:00,  2.07it/s]\n",
      "\n",
      "Training completed. Do not forget to share your model on huggingface.co/models =)\n",
      "\n",
      "\n",
      "100%|██████████| 153/153 [01:17<00:00,  1.98it/s]"
     ]
    },
    {
     "name": "stdout",
     "output_type": "stream",
     "text": [
      "{'train_runtime': 77.3033, 'train_samples_per_second': 15.782, 'train_steps_per_second': 1.979, 'train_loss': 0.4446257048962163, 'epoch': 1.0}\n"
     ]
    },
    {
     "name": "stderr",
     "output_type": "stream",
     "text": [
      "\n"
     ]
    },
    {
     "data": {
      "text/plain": [
       "TrainOutput(global_step=153, training_loss=0.4446257048962163, metrics={'train_runtime': 77.3033, 'train_samples_per_second': 15.782, 'train_steps_per_second': 1.979, 'train_loss': 0.4446257048962163, 'epoch': 1.0})"
      ]
     },
     "execution_count": 14,
     "metadata": {},
     "output_type": "execute_result"
    }
   ],
   "source": [
    "trainer_albert.train()"
   ]
  },
  {
   "cell_type": "code",
   "execution_count": 15,
   "metadata": {},
   "outputs": [
    {
     "name": "stderr",
     "output_type": "stream",
     "text": [
      "***** Running Evaluation *****\n",
      "  Num examples = 306\n",
      "  Batch size = 8\n",
      "100%|██████████| 39/39 [00:06<00:00,  5.71it/s]"
     ]
    },
    {
     "name": "stdout",
     "output_type": "stream",
     "text": [
      "<class 'transformers.trainer_utils.EvalPrediction'>\n"
     ]
    },
    {
     "name": "stderr",
     "output_type": "stream",
     "text": [
      "\n"
     ]
    },
    {
     "data": {
      "text/plain": [
       "{'eval_loss': 0.36952126026153564,\n",
       " 'eval_accuracy': 0.8529411764705882,\n",
       " 'eval_precision': 0.8224852071005917,\n",
       " 'eval_recall': 0.9025974025974026,\n",
       " 'eval_f1': 0.8606811145510836,\n",
       " 'eval_runtime': 7.4458,\n",
       " 'eval_samples_per_second': 41.097,\n",
       " 'eval_steps_per_second': 5.238,\n",
       " 'epoch': 1.0}"
      ]
     },
     "execution_count": 15,
     "metadata": {},
     "output_type": "execute_result"
    }
   ],
   "source": [
    "trainer_albert.evaluate()"
   ]
  }
 ],
 "metadata": {
  "kernelspec": {
   "display_name": "py3.10",
   "language": "python",
   "name": "python3"
  },
  "language_info": {
   "codemirror_mode": {
    "name": "ipython",
    "version": 3
   },
   "file_extension": ".py",
   "mimetype": "text/x-python",
   "name": "python",
   "nbconvert_exporter": "python",
   "pygments_lexer": "ipython3",
   "version": "3.10.9"
  },
  "orig_nbformat": 4,
  "vscode": {
   "interpreter": {
    "hash": "2c8f0e5dedb0bca84d2e0b4fbfa2d31163667101b0d2986ebd077634811ae380"
   }
  }
 },
 "nbformat": 4,
 "nbformat_minor": 2
}

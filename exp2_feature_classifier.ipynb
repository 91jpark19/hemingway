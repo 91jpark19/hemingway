{
 "cells": [
  {
   "cell_type": "code",
   "execution_count": 1,
   "metadata": {},
   "outputs": [],
   "source": [
    "import pandas as pd\n",
    "import numpy as np\n",
    "import nltk\n",
    "stop=nltk.corpus.stopwords.words('english')\n",
    "from nltk import word_tokenize\n",
    "import warnings\n",
    "warnings.filterwarnings('ignore')\n",
    "from collections import Counter"
   ]
  },
  {
   "cell_type": "code",
   "execution_count": 2,
   "metadata": {},
   "outputs": [],
   "source": [
    "from sklearn.model_selection import train_test_split\n",
    "from sklearn.metrics import accuracy_score, recall_score, precision_score, f1_score\n",
    "from sklearn.feature_extraction.text import CountVectorizer\n",
    "from sklearn.feature_extraction.text import TfidfVectorizer\n",
    "from sklearn.naive_bayes import MultinomialNB\n",
    "from sklearn.svm import SVC\n",
    "from sklearn.tree import DecisionTreeClassifier\n",
    "from sklearn.ensemble import RandomForestClassifier\n",
    "from sklearn.linear_model import LogisticRegression\n",
    "from sklearn import metrics"
   ]
  },
  {
   "cell_type": "code",
   "execution_count": 3,
   "metadata": {},
   "outputs": [],
   "source": [
    "ht_small=pd.read_csv('/Volumes/T7/mt-hemingway/data/hypothesis/small.csv')\n",
    "ht_small=ht_small.dropna()\n",
    "ht_big=pd.read_csv('/Volumes/T7/mt-hemingway/data/hypothesis/big.csv')\n",
    "ht_big=ht_big.dropna()\n",
    "marianmt_m2m100=pd.read_csv('/Volumes/T7/mt-hemingway/data/hypothesis/exp2/MarianMT_DE/MarianMT_DE_M2M100_KO.csv')\n",
    "marianmt_m2m100=marianmt_m2m100.dropna()\n",
    "marianmt_mbart=pd.read_csv('/Volumes/T7/mt-hemingway/data/hypothesis/exp2/MarianMT_DE/MarianMT_DE_MBart_KO.csv')\n",
    "marianmt_mbart=marianmt_mbart.dropna()\n",
    "m2m100_mbart=pd.read_csv('/Volumes/T7/mt-hemingway/data/hypothesis/exp2/M2M100_DE/M2M100_DE_MBart_KO.csv')\n",
    "m2m100_mbart=m2m100_mbart.dropna()\n",
    "m2m100_m2m100=pd.read_csv('/Volumes/T7/mt-hemingway/data/hypothesis/exp2/M2M100_DE/M2M100_DE_M2M100_KO.csv')\n",
    "m2m100_m2m100=m2m100_m2m100.dropna()\n",
    "mbart_m2m100=pd.read_csv('/Volumes/T7/mt-hemingway/data/hypothesis/exp2/MBart_DE/MBart_DE_M2M100_KO.csv')\n",
    "mbart_m2m100=mbart_m2m100.dropna()\n",
    "mbart_mbart=pd.read_csv('/Volumes/T7/mt-hemingway/data/hypothesis/exp2/MBart_DE/MBart_DE_MBart_KO.csv')\n",
    "mbart_mbart=mbart_mbart.dropna()"
   ]
  },
  {
   "cell_type": "code",
   "execution_count": 4,
   "metadata": {},
   "outputs": [],
   "source": [
    "small_marianmt_m2m100=[ht_small.sample(ht_small.shape[0]), marianmt_m2m100.sample(marianmt_m2m100.shape[0])]\n",
    "small_marianmt_m2m100=pd.concat(small_marianmt_m2m100)\n",
    "small_marianmt_mbart=[ht_small.sample(ht_small.shape[0]), marianmt_mbart.sample(marianmt_mbart.shape[0])]\n",
    "small_marianmt_mbart=pd.concat(small_marianmt_mbart)\n",
    "small_m2m100_mbart=[ht_small.sample(ht_small.shape[0]), m2m100_mbart.sample(m2m100_mbart.shape[0])]\n",
    "small_m2m100_mbart=pd.concat(small_m2m100_mbart)\n",
    "small_m2m100_m2m100=[ht_small.sample(ht_small.shape[0]), m2m100_m2m100.sample(m2m100_m2m100.shape[0])]\n",
    "small_m2m100_m2m100=pd.concat(small_m2m100_m2m100)\n",
    "small_mbart_m2m100=[ht_small.sample(ht_small.shape[0]), mbart_m2m100.sample(mbart_m2m100.shape[0])]\n",
    "small_mbart_m2m100=pd.concat(small_mbart_m2m100)\n",
    "small_mbart_mbart=[ht_small.sample(ht_small.shape[0]), mbart_mbart.sample(mbart_mbart.shape[0])]\n",
    "small_mbart_mbart=pd.concat(small_mbart_mbart)\n",
    "big_marianmt_m2m100=[ht_big.sample(ht_big.shape[0]), marianmt_m2m100.sample(marianmt_m2m100.shape[0])]\n",
    "big_marianmt_m2m100=pd.concat(big_marianmt_m2m100)\n",
    "big_marianmt_mbart=[ht_big.sample(ht_big.shape[0]), marianmt_mbart.sample(marianmt_mbart.shape[0])]\n",
    "big_marianmt_mbart=pd.concat(big_marianmt_mbart)\n",
    "big_m2m100_mbart=[ht_big.sample(ht_big.shape[0]), m2m100_mbart.sample(m2m100_mbart.shape[0])]\n",
    "big_m2m100_mbart=pd.concat(big_m2m100_mbart)\n",
    "big_m2m100_m2m100=[ht_big.sample(ht_big.shape[0]), m2m100_m2m100.sample(m2m100_m2m100.shape[0])]\n",
    "big_m2m100_m2m100=pd.concat(big_m2m100_m2m100)\n",
    "big_mbart_m2m100=[ht_big.sample(ht_big.shape[0]), mbart_m2m100.sample(mbart_m2m100.shape[0])]\n",
    "big_mbart_m2m100=pd.concat(big_mbart_m2m100)\n",
    "big_mbart_mbart=[ht_big.sample(ht_big.shape[0]), mbart_mbart.sample(mbart_mbart.shape[0])]\n",
    "big_mbart_mbart=pd.concat(big_mbart_mbart)"
   ]
  },
  {
   "cell_type": "code",
   "execution_count": 5,
   "metadata": {},
   "outputs": [],
   "source": [
    "def convert_label(data:pd.DataFrame):\n",
    "    data['label']=data['label'].replace({data['label'].groupby(data['label']).count().keys()[0]:0, data['label'].groupby(data['label']).count().keys()[1]:1})\n",
    "    return data"
   ]
  },
  {
   "cell_type": "code",
   "execution_count": 6,
   "metadata": {},
   "outputs": [],
   "source": [
    "small_marianmt_m2m100=convert_label(small_marianmt_m2m100)\n",
    "small_marianmt_m2m100=convert_label(small_marianmt_m2m100)\n",
    "small_marianmt_mbart=convert_label(small_marianmt_mbart)\n",
    "small_m2m100_mbart=convert_label(small_m2m100_mbart)\n",
    "small_m2m100_m2m100=convert_label(small_m2m100_m2m100)\n",
    "small_mbart_m2m100=convert_label(small_mbart_m2m100)\n",
    "small_mbart_mbart=convert_label(small_mbart_mbart)\n",
    "big_marianmt_m2m100=convert_label(big_marianmt_m2m100)\n",
    "big_marianmt_mbart=convert_label(big_marianmt_mbart)\n",
    "big_m2m100_mbart=convert_label(big_m2m100_mbart)\n",
    "big_m2m100_m2m100=convert_label(big_m2m100_m2m100)\n",
    "big_mbart_m2m100=convert_label(big_mbart_m2m100)\n",
    "big_mbart_mbart=convert_label(big_mbart_mbart)"
   ]
  },
  {
   "cell_type": "code",
   "execution_count": 7,
   "metadata": {},
   "outputs": [
    {
     "name": "stdout",
     "output_type": "stream",
     "text": [
      "CPU times: user 1.44 ms, sys: 472 µs, total: 1.91 ms\n",
      "Wall time: 1.57 ms\n"
     ]
    }
   ],
   "source": [
    "%%time\n",
    "X=list(big_m2m100_mbart['text'])\n",
    "y=list(big_m2m100_mbart['label'])\n",
    "X_train, X_test, y_train, y_test = train_test_split(X,y, test_size=0.2, stratify=y, random_state=42)"
   ]
  },
  {
   "cell_type": "code",
   "execution_count": 8,
   "metadata": {},
   "outputs": [],
   "source": [
    "unigram_count_vectorizer = CountVectorizer(encoding='latin-1', binary=False, min_df=2)#, stop_words='korean')"
   ]
  },
  {
   "cell_type": "code",
   "execution_count": 9,
   "metadata": {},
   "outputs": [],
   "source": [
    "X_train_count_vec = unigram_count_vectorizer.fit_transform(X_train)\n",
    "X_test_count_vec = unigram_count_vectorizer.transform(X_test)"
   ]
  },
  {
   "cell_type": "code",
   "execution_count": 10,
   "metadata": {},
   "outputs": [],
   "source": [
    "clf = MultinomialNB().fit(X_train_count_vec, y_train)\n",
    "svm = SVC(kernel='linear', C=1, random_state=0).fit(X_train_count_vec, y_train)\n",
    "tree = DecisionTreeClassifier(random_state=0).fit(X_train_count_vec, y_train)\n",
    "regression = LogisticRegression(random_state=0).fit(X_train_count_vec, y_train)\n",
    "forest = RandomForestClassifier(n_estimators=100, random_state=0).fit(X_train_count_vec, y_train)"
   ]
  },
  {
   "cell_type": "code",
   "execution_count": 11,
   "metadata": {},
   "outputs": [
    {
     "data": {
      "text/plain": [
       "306"
      ]
     },
     "execution_count": 11,
     "metadata": {},
     "output_type": "execute_result"
    }
   ],
   "source": [
    "len(X_test)"
   ]
  },
  {
   "cell_type": "code",
   "execution_count": 12,
   "metadata": {},
   "outputs": [],
   "source": [
    "X_test_unigram_count_vec = unigram_count_vectorizer.transform(X_test)"
   ]
  },
  {
   "cell_type": "code",
   "execution_count": 13,
   "metadata": {},
   "outputs": [
    {
     "name": "stdout",
     "output_type": "stream",
     "text": [
      "(1222, 3040)\n"
     ]
    }
   ],
   "source": [
    "print(X_train_count_vec.shape)"
   ]
  },
  {
   "cell_type": "code",
   "execution_count": 14,
   "metadata": {},
   "outputs": [
    {
     "name": "stdout",
     "output_type": "stream",
     "text": [
      "              precision    recall  f1-score   support\n",
      "\n",
      "           0     1.0000    0.7434    0.8528       152\n",
      "           1     0.7979    1.0000    0.8876       154\n",
      "\n",
      "    accuracy                         0.8725       306\n",
      "   macro avg     0.8990    0.8717    0.8702       306\n",
      "weighted avg     0.8983    0.8725    0.8703       306\n",
      "\n"
     ]
    }
   ],
   "source": [
    "#1. MultinomialNB\n",
    "y_pred = clf.predict(X_test_unigram_count_vec)\n",
    "print(metrics.classification_report(y_test, y_pred, digits=4))"
   ]
  },
  {
   "cell_type": "code",
   "execution_count": 15,
   "metadata": {},
   "outputs": [
    {
     "name": "stdout",
     "output_type": "stream",
     "text": [
      "              precision    recall  f1-score   support\n",
      "\n",
      "           0     0.8512    0.9408    0.8937       152\n",
      "           1     0.9348    0.8377    0.8836       154\n",
      "\n",
      "    accuracy                         0.8889       306\n",
      "   macro avg     0.8930    0.8892    0.8887       306\n",
      "weighted avg     0.8933    0.8889    0.8886       306\n",
      "\n"
     ]
    }
   ],
   "source": [
    "#2 SVM\n",
    "y_pred = svm.predict(X_test_unigram_count_vec)\n",
    "print(metrics.classification_report(y_test, y_pred, digits=4))"
   ]
  },
  {
   "cell_type": "code",
   "execution_count": 16,
   "metadata": {},
   "outputs": [
    {
     "name": "stdout",
     "output_type": "stream",
     "text": [
      "              precision    recall  f1-score   support\n",
      "\n",
      "           0     0.8305    0.9671    0.8936       152\n",
      "           1     0.9612    0.8052    0.8763       154\n",
      "\n",
      "    accuracy                         0.8856       306\n",
      "   macro avg     0.8959    0.8862    0.8850       306\n",
      "weighted avg     0.8963    0.8856    0.8849       306\n",
      "\n"
     ]
    }
   ],
   "source": [
    "#3 Decision Tree\n",
    "y_pred = tree.predict(X_test_unigram_count_vec)\n",
    "print(metrics.classification_report(y_test, y_pred, digits=4))"
   ]
  },
  {
   "cell_type": "code",
   "execution_count": 17,
   "metadata": {},
   "outputs": [
    {
     "name": "stdout",
     "output_type": "stream",
     "text": [
      "              precision    recall  f1-score   support\n",
      "\n",
      "           0     0.8841    0.9539    0.9177       152\n",
      "           1     0.9507    0.8766    0.9122       154\n",
      "\n",
      "    accuracy                         0.9150       306\n",
      "   macro avg     0.9174    0.9153    0.9149       306\n",
      "weighted avg     0.9176    0.9150    0.9149       306\n",
      "\n"
     ]
    }
   ],
   "source": [
    "#4 Logistic Regression\n",
    "y_pred = regression.predict(X_test_unigram_count_vec)\n",
    "print(metrics.classification_report(y_test, y_pred, digits=4))"
   ]
  },
  {
   "cell_type": "code",
   "execution_count": 18,
   "metadata": {},
   "outputs": [
    {
     "name": "stdout",
     "output_type": "stream",
     "text": [
      "              precision    recall  f1-score   support\n",
      "\n",
      "           0     0.8466    0.9803    0.9085       152\n",
      "           1     0.9769    0.8247    0.8944       154\n",
      "\n",
      "    accuracy                         0.9020       306\n",
      "   macro avg     0.9118    0.9025    0.9015       306\n",
      "weighted avg     0.9122    0.9020    0.9014       306\n",
      "\n"
     ]
    }
   ],
   "source": [
    "#5 Random Forest\n",
    "y_pred = forest.predict(X_test_unigram_count_vec)\n",
    "print(metrics.classification_report(y_test, y_pred, digits=4))"
   ]
  }
 ],
 "metadata": {
  "kernelspec": {
   "display_name": "py3.10",
   "language": "python",
   "name": "python3"
  },
  "language_info": {
   "codemirror_mode": {
    "name": "ipython",
    "version": 3
   },
   "file_extension": ".py",
   "mimetype": "text/x-python",
   "name": "python",
   "nbconvert_exporter": "python",
   "pygments_lexer": "ipython3",
   "version": "3.10.9"
  },
  "orig_nbformat": 4,
  "vscode": {
   "interpreter": {
    "hash": "2c8f0e5dedb0bca84d2e0b4fbfa2d31163667101b0d2986ebd077634811ae380"
   }
  }
 },
 "nbformat": 4,
 "nbformat_minor": 2
}

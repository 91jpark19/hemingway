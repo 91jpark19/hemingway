{
 "cells": [
  {
   "cell_type": "code",
   "execution_count": 1,
   "metadata": {},
   "outputs": [
    {
     "name": "stderr",
     "output_type": "stream",
     "text": [
      "/Users/mstudio/miniconda3/envs/py3.10/lib/python3.10/site-packages/tqdm/auto.py:22: TqdmWarning: IProgress not found. Please update jupyter and ipywidgets. See https://ipywidgets.readthedocs.io/en/stable/user_install.html\n",
      "  from .autonotebook import tqdm as notebook_tqdm\n"
     ]
    }
   ],
   "source": [
    "import pandas as pd\n",
    "import numpy as np\n",
    "from sklearn.model_selection import train_test_split\n",
    "from sklearn.metrics import accuracy_score, recall_score, precision_score, f1_score\n",
    "import torch\n",
    "from transformers import BertTokenizer\n",
    "from transformers import RobertaTokenizer\n",
    "# from transformers import GPT2TokenizerFast\n",
    "from transformers import AlbertTokenizer\n",
    "from transformers import DistilBertTokenizer\n",
    "from transformers import TrainingArguments, Trainer\n",
    "from transformers import BertForSequenceClassification\n",
    "from transformers import RobertaForSequenceClassification\n",
    "# from transformers import GPT2ForSequenceClassification\n",
    "from transformers import AlbertForSequenceClassification\n",
    "from transformers import DistilBertForSequenceClassification\n",
    "import warnings"
   ]
  },
  {
   "cell_type": "code",
   "execution_count": 2,
   "metadata": {},
   "outputs": [],
   "source": [
    "ht_small=pd.read_csv('/Volumes/T7/mt-hemingway/data/hypothesis/small.csv')\n",
    "ht_small=ht_small.dropna()\n",
    "ht_big=pd.read_csv('/Volumes/T7/mt-hemingway/data/hypothesis/big.csv')\n",
    "ht_big=ht_big.dropna()\n",
    "mt_first=pd.read_csv('/Volumes/T7/mt-hemingway/data/hypothesis/exp1/MBart/MBart_KO1.csv')\n",
    "mt_first=mt_first.dropna()\n",
    "mt_second=pd.read_csv('/Volumes/T7/mt-hemingway/data/hypothesis/exp1/MBart/MBart_KO2.csv')\n",
    "mt_second=mt_second.dropna()\n",
    "mt_third=pd.read_csv('/Volumes/T7/mt-hemingway/data/hypothesis/exp1/MBart/MBart_KO3.csv')\n",
    "mt_third=mt_third.dropna()"
   ]
  },
  {
   "cell_type": "code",
   "execution_count": 3,
   "metadata": {},
   "outputs": [],
   "source": [
    "small_first=[ht_small.sample(ht_small.shape[0]), mt_first.sample(mt_first.shape[0])]\n",
    "small_first=pd.concat(small_first)\n",
    "small_second=[ht_small.sample(ht_small.shape[0]), mt_second.sample(mt_second.shape[0])]\n",
    "small_second=pd.concat(small_second)\n",
    "small_third=[ht_small.sample(ht_small.shape[0]), mt_third.sample(mt_third.shape[0])]\n",
    "small_third=pd.concat(small_third)\n",
    "big_first=[ht_big.sample(ht_big.shape[0]), mt_first.sample(mt_first.shape[0])]\n",
    "big_first=pd.concat(big_first)\n",
    "big_second=[ht_big.sample(ht_big.shape[0]), mt_second.sample(mt_second.shape[0])]\n",
    "big_second=pd.concat(big_second)\n",
    "big_third=[ht_big.sample(ht_big.shape[0]), mt_third.sample(mt_third.shape[0])]\n",
    "big_third=pd.concat(big_third)"
   ]
  },
  {
   "cell_type": "code",
   "execution_count": 4,
   "metadata": {},
   "outputs": [],
   "source": [
    "def convert_label(data:pd.DataFrame):\n",
    "    data['label']=data['label'].replace({data['label'].groupby(data['label']).count().keys()[0]:0, data['label'].groupby(data['label']).count().keys()[1]:1})\n",
    "    return data"
   ]
  },
  {
   "cell_type": "code",
   "execution_count": 5,
   "metadata": {},
   "outputs": [],
   "source": [
    "small_first=convert_label(small_first)\n",
    "small_second=convert_label(small_second)\n",
    "small_third=convert_label(small_third)\n",
    "big_first=convert_label(big_first)\n",
    "big_second=convert_label(big_second)\n",
    "big_third=convert_label(big_third)"
   ]
  },
  {
   "cell_type": "code",
   "execution_count": 6,
   "metadata": {},
   "outputs": [
    {
     "name": "stdout",
     "output_type": "stream",
     "text": [
      "CPU times: user 1.56 ms, sys: 453 µs, total: 2.01 ms\n",
      "Wall time: 1.63 ms\n"
     ]
    }
   ],
   "source": [
    "%%time\n",
    "X=list(big_third['text'])\n",
    "y=list(big_third['label'])\n",
    "X_train, X_test, y_train, y_test = train_test_split(X,y, test_size=0.2, stratify=y, random_state=42)"
   ]
  },
  {
   "cell_type": "code",
   "execution_count": 7,
   "metadata": {},
   "outputs": [
    {
     "name": "stderr",
     "output_type": "stream",
     "text": [
      "Some weights of the model checkpoint at bert-base-uncased were not used when initializing BertForSequenceClassification: ['cls.predictions.transform.LayerNorm.weight', 'cls.seq_relationship.weight', 'cls.predictions.transform.dense.bias', 'cls.predictions.decoder.weight', 'cls.predictions.bias', 'cls.seq_relationship.bias', 'cls.predictions.transform.dense.weight', 'cls.predictions.transform.LayerNorm.bias']\n",
      "- This IS expected if you are initializing BertForSequenceClassification from the checkpoint of a model trained on another task or with another architecture (e.g. initializing a BertForSequenceClassification model from a BertForPreTraining model).\n",
      "- This IS NOT expected if you are initializing BertForSequenceClassification from the checkpoint of a model that you expect to be exactly identical (initializing a BertForSequenceClassification model from a BertForSequenceClassification model).\n",
      "Some weights of BertForSequenceClassification were not initialized from the model checkpoint at bert-base-uncased and are newly initialized: ['classifier.bias', 'classifier.weight']\n",
      "You should probably TRAIN this model on a down-stream task to be able to use it for predictions and inference.\n",
      "Some weights of the model checkpoint at albert-base-v2 were not used when initializing AlbertForSequenceClassification: ['predictions.dense.bias', 'predictions.LayerNorm.weight', 'predictions.decoder.weight', 'predictions.LayerNorm.bias', 'predictions.decoder.bias', 'predictions.bias', 'predictions.dense.weight']\n",
      "- This IS expected if you are initializing AlbertForSequenceClassification from the checkpoint of a model trained on another task or with another architecture (e.g. initializing a BertForSequenceClassification model from a BertForPreTraining model).\n",
      "- This IS NOT expected if you are initializing AlbertForSequenceClassification from the checkpoint of a model that you expect to be exactly identical (initializing a BertForSequenceClassification model from a BertForSequenceClassification model).\n",
      "Some weights of AlbertForSequenceClassification were not initialized from the model checkpoint at albert-base-v2 and are newly initialized: ['classifier.bias', 'classifier.weight']\n",
      "You should probably TRAIN this model on a down-stream task to be able to use it for predictions and inference.\n",
      "Some weights of the model checkpoint at roberta-base were not used when initializing RobertaForSequenceClassification: ['lm_head.dense.bias', 'lm_head.decoder.weight', 'lm_head.layer_norm.weight', 'roberta.pooler.dense.bias', 'lm_head.layer_norm.bias', 'lm_head.bias', 'roberta.pooler.dense.weight', 'lm_head.dense.weight']\n",
      "- This IS expected if you are initializing RobertaForSequenceClassification from the checkpoint of a model trained on another task or with another architecture (e.g. initializing a BertForSequenceClassification model from a BertForPreTraining model).\n",
      "- This IS NOT expected if you are initializing RobertaForSequenceClassification from the checkpoint of a model that you expect to be exactly identical (initializing a BertForSequenceClassification model from a BertForSequenceClassification model).\n",
      "Some weights of RobertaForSequenceClassification were not initialized from the model checkpoint at roberta-base and are newly initialized: ['classifier.dense.weight', 'classifier.dense.bias', 'classifier.out_proj.bias', 'classifier.out_proj.weight']\n",
      "You should probably TRAIN this model on a down-stream task to be able to use it for predictions and inference.\n"
     ]
    }
   ],
   "source": [
    "bert_tokenizer=BertTokenizer.from_pretrained('bert-base-uncased')\n",
    "albert_tokenizer=AlbertTokenizer.from_pretrained('albert-base-v2')\n",
    "roberta_tokenizer=RobertaTokenizer.from_pretrained('roberta-base')\n",
    "bert_model=BertForSequenceClassification.from_pretrained('bert-base-uncased', num_labels=2)\n",
    "albert_model=AlbertForSequenceClassification.from_pretrained('albert-base-v2', num_labels=2)\n",
    "roberta_model=RobertaForSequenceClassification.from_pretrained('roberta-base', num_labels=2)\n",
    "import warnings"
   ]
  },
  {
   "cell_type": "code",
   "execution_count": 8,
   "metadata": {},
   "outputs": [
    {
     "data": {
      "text/plain": [
       "device(type='mps')"
      ]
     },
     "execution_count": 8,
     "metadata": {},
     "output_type": "execute_result"
    }
   ],
   "source": [
    "device=torch.device('mps')\n",
    "bert_model.to(device)\n",
    "roberta_model.to(torch.device('cpu'))\n",
    "albert_model.to(torch.device(device))\n",
    "device"
   ]
  },
  {
   "cell_type": "code",
   "execution_count": 9,
   "metadata": {},
   "outputs": [],
   "source": [
    "X_train_tokenized_bert=bert_tokenizer(X_train, padding=True, truncation=True)#, max_length=512)\n",
    "X_test_tokenized_bert=bert_tokenizer(X_test, padding=True, truncation=True)#, max_lenght=512)\n",
    "X_train_tokenized_roberta=roberta_tokenizer(X_train, padding=True, truncation=True)#, max_length=512)\n",
    "X_test_tokenized_roberta=roberta_tokenizer(X_test, padding=True, truncation=True)#, max_lenght=512)\n",
    "X_train_tokenized_albert=albert_tokenizer(X_train, padding=True, truncation=True)#, max_length=512)\n",
    "X_test_tokenized_albert=albert_tokenizer(X_test, padding=True, truncation=True)#, max_lenght=512)"
   ]
  },
  {
   "cell_type": "code",
   "execution_count": 10,
   "metadata": {},
   "outputs": [],
   "source": [
    "#create torch dataset\n",
    "class Dataset(torch.utils.data.Dataset):\n",
    "    def __init__(self, encodings, labels=None):\n",
    "        self.encodings = encodings\n",
    "        self.labels = labels\n",
    "\n",
    "    def __getitem__(self, idx):\n",
    "        item = {key: torch.tensor(val[idx]) for key, val in self.encodings.items()}\n",
    "        if self.labels:\n",
    "            item[\"labels\"] = torch.tensor(self.labels[idx])\n",
    "        return item\n",
    "\n",
    "    def __len__(self):\n",
    "        return len(self.encodings[\"input_ids\"])"
   ]
  },
  {
   "cell_type": "code",
   "execution_count": 11,
   "metadata": {},
   "outputs": [],
   "source": [
    "train_dataset_bert=Dataset(X_train_tokenized_bert, y_train)\n",
    "test_dataset_bert=Dataset(X_test_tokenized_bert, y_test)\n",
    "train_dataset_roberta=Dataset(X_train_tokenized_roberta, y_train)\n",
    "test_dataset_roberta=Dataset(X_test_tokenized_roberta, y_test)\n",
    "train_dataset_albert=Dataset(X_train_tokenized_albert, y_train)\n",
    "test_dataset_albert=Dataset(X_test_tokenized_albert, y_test)"
   ]
  },
  {
   "cell_type": "code",
   "execution_count": 12,
   "metadata": {},
   "outputs": [],
   "source": [
    "def compute_metrics(p):\n",
    "    print(type(p))\n",
    "    pred, labels = p\n",
    "    pred=np.argmax(pred, axis=1)\n",
    "    accuracy=accuracy_score(y_true=labels, y_pred=pred)\n",
    "    recall=recall_score(y_true=labels, y_pred=pred)\n",
    "    precision=precision_score(y_true=labels, y_pred=pred)\n",
    "    f1=f1_score(y_true=labels, y_pred=pred)\n",
    "    return {'accuracy': accuracy, 'precision': precision, 'recall': recall, 'f1': f1}"
   ]
  },
  {
   "cell_type": "code",
   "execution_count": 13,
   "metadata": {},
   "outputs": [],
   "source": [
    "#define Trainer\n",
    "args_bert=TrainingArguments(\n",
    "    output_dir='output',\n",
    "    num_train_epochs=1,#higher may get the higer accuracy\n",
    "    per_device_train_batch_size=8,\n",
    "    use_mps_device=True\n",
    ")\n",
    "trainer_bert=Trainer(\n",
    "    model=bert_model,\n",
    "    args=args_bert,\n",
    "    train_dataset=train_dataset_bert,\n",
    "    eval_dataset=test_dataset_bert,\n",
    "    compute_metrics=compute_metrics,\n",
    ")"
   ]
  },
  {
   "cell_type": "code",
   "execution_count": 14,
   "metadata": {},
   "outputs": [
    {
     "name": "stderr",
     "output_type": "stream",
     "text": [
      "PyTorch: setting up devices\n",
      "The default value for the training argument `--report_to` will change in v5 (from all installed integrations to none). In v5, you will need to use `--report_to all` to get the same behavior as now. You should start updating your code and make this info disappear :-).\n"
     ]
    }
   ],
   "source": [
    "args_roberta=TrainingArguments(\n",
    "    output_dir='output',\n",
    "    num_train_epochs=1,#higher may get the higer accuracy\n",
    "    per_device_train_batch_size=8,\n",
    "    # use_mps_device=True,\n",
    "    # pytorch_device='cpu',\n",
    ")\n",
    "trainer_roberta=Trainer(\n",
    "    model=roberta_model,\n",
    "    args=args_roberta,\n",
    "    train_dataset=train_dataset_roberta,\n",
    "    eval_dataset=test_dataset_roberta,\n",
    "    compute_metrics=compute_metrics,\n",
    ")"
   ]
  },
  {
   "cell_type": "code",
   "execution_count": 17,
   "metadata": {},
   "outputs": [
    {
     "name": "stderr",
     "output_type": "stream",
     "text": [
      "PyTorch: setting up devices\n",
      "The default value for the training argument `--report_to` will change in v5 (from all installed integrations to none). In v5, you will need to use `--report_to all` to get the same behavior as now. You should start updating your code and make this info disappear :-).\n"
     ]
    }
   ],
   "source": [
    "args_albert=TrainingArguments(\n",
    "    output_dir='output',\n",
    "    num_train_epochs=1,#higher may get the higer accuracy\n",
    "    per_device_train_batch_size=8,\n",
    "    use_mps_device=True\n",
    ")\n",
    "trainer_albert=Trainer(\n",
    "    model=albert_model,\n",
    "    args=args_albert,\n",
    "    train_dataset=train_dataset_albert,\n",
    "    eval_dataset=test_dataset_albert,\n",
    "    compute_metrics=compute_metrics,\n",
    ")"
   ]
  },
  {
   "cell_type": "code",
   "execution_count": 15,
   "metadata": {},
   "outputs": [
    {
     "name": "stderr",
     "output_type": "stream",
     "text": [
      "/Users/mstudio/miniconda3/envs/py3.10/lib/python3.10/site-packages/transformers/optimization.py:306: FutureWarning: This implementation of AdamW is deprecated and will be removed in a future version. Use the PyTorch implementation torch.optim.AdamW instead, or set `no_deprecation_warning=True` to disable this warning\n",
      "  warnings.warn(\n",
      "***** Running training *****\n",
      "  Num examples = 1228\n",
      "  Num Epochs = 1\n",
      "  Instantaneous batch size per device = 8\n",
      "  Total train batch size (w. parallel, distributed & accumulation) = 8\n",
      "  Gradient Accumulation steps = 1\n",
      "  Total optimization steps = 154\n",
      "  Number of trainable parameters = 109483778\n",
      "100%|██████████| 154/154 [01:31<00:00,  1.82it/s]\n",
      "\n",
      "Training completed. Do not forget to share your model on huggingface.co/models =)\n",
      "\n",
      "\n",
      "100%|██████████| 154/154 [01:31<00:00,  1.68it/s]"
     ]
    },
    {
     "name": "stdout",
     "output_type": "stream",
     "text": [
      "{'train_runtime': 91.6352, 'train_samples_per_second': 13.401, 'train_steps_per_second': 1.681, 'train_loss': 0.6099062337503804, 'epoch': 1.0}\n"
     ]
    },
    {
     "name": "stderr",
     "output_type": "stream",
     "text": [
      "\n"
     ]
    },
    {
     "data": {
      "text/plain": [
       "TrainOutput(global_step=154, training_loss=0.6099062337503804, metrics={'train_runtime': 91.6352, 'train_samples_per_second': 13.401, 'train_steps_per_second': 1.681, 'train_loss': 0.6099062337503804, 'epoch': 1.0})"
      ]
     },
     "execution_count": 15,
     "metadata": {},
     "output_type": "execute_result"
    }
   ],
   "source": [
    "trainer_bert.train()"
   ]
  },
  {
   "cell_type": "code",
   "execution_count": 15,
   "metadata": {},
   "outputs": [
    {
     "name": "stderr",
     "output_type": "stream",
     "text": [
      "/Users/mstudio/miniconda3/envs/py3.10/lib/python3.10/site-packages/transformers/optimization.py:306: FutureWarning: This implementation of AdamW is deprecated and will be removed in a future version. Use the PyTorch implementation torch.optim.AdamW instead, or set `no_deprecation_warning=True` to disable this warning\n",
      "  warnings.warn(\n",
      "***** Running training *****\n",
      "  Num examples = 1228\n",
      "  Num Epochs = 1\n",
      "  Instantaneous batch size per device = 8\n",
      "  Total train batch size (w. parallel, distributed & accumulation) = 8\n",
      "  Gradient Accumulation steps = 1\n",
      "  Total optimization steps = 154\n",
      "  Number of trainable parameters = 124647170\n",
      "100%|██████████| 154/154 [13:00<00:00,  4.39s/it]\n",
      "\n",
      "Training completed. Do not forget to share your model on huggingface.co/models =)\n",
      "\n",
      "\n",
      "100%|██████████| 154/154 [13:00<00:00,  5.07s/it]"
     ]
    },
    {
     "name": "stdout",
     "output_type": "stream",
     "text": [
      "{'train_runtime': 780.0745, 'train_samples_per_second': 1.574, 'train_steps_per_second': 0.197, 'train_loss': 0.6896689774154069, 'epoch': 1.0}\n"
     ]
    },
    {
     "name": "stderr",
     "output_type": "stream",
     "text": [
      "\n"
     ]
    },
    {
     "data": {
      "text/plain": [
       "TrainOutput(global_step=154, training_loss=0.6896689774154069, metrics={'train_runtime': 780.0745, 'train_samples_per_second': 1.574, 'train_steps_per_second': 0.197, 'train_loss': 0.6896689774154069, 'epoch': 1.0})"
      ]
     },
     "execution_count": 15,
     "metadata": {},
     "output_type": "execute_result"
    }
   ],
   "source": [
    "trainer_roberta.train()"
   ]
  },
  {
   "cell_type": "code",
   "execution_count": 18,
   "metadata": {},
   "outputs": [
    {
     "name": "stderr",
     "output_type": "stream",
     "text": [
      "/Users/mstudio/miniconda3/envs/py3.10/lib/python3.10/site-packages/transformers/optimization.py:306: FutureWarning: This implementation of AdamW is deprecated and will be removed in a future version. Use the PyTorch implementation torch.optim.AdamW instead, or set `no_deprecation_warning=True` to disable this warning\n",
      "  warnings.warn(\n",
      "***** Running training *****\n",
      "  Num examples = 1228\n",
      "  Num Epochs = 1\n",
      "  Instantaneous batch size per device = 8\n",
      "  Total train batch size (w. parallel, distributed & accumulation) = 8\n",
      "  Gradient Accumulation steps = 1\n",
      "  Total optimization steps = 154\n",
      "  Number of trainable parameters = 11685122\n",
      "100%|██████████| 154/154 [01:15<00:00,  2.15it/s]\n",
      "\n",
      "Training completed. Do not forget to share your model on huggingface.co/models =)\n",
      "\n",
      "\n",
      "100%|██████████| 154/154 [01:15<00:00,  2.05it/s]"
     ]
    },
    {
     "name": "stdout",
     "output_type": "stream",
     "text": [
      "{'train_runtime': 75.1786, 'train_samples_per_second': 16.334, 'train_steps_per_second': 2.048, 'train_loss': 0.7131630042930702, 'epoch': 1.0}\n"
     ]
    },
    {
     "name": "stderr",
     "output_type": "stream",
     "text": [
      "\n"
     ]
    },
    {
     "data": {
      "text/plain": [
       "TrainOutput(global_step=154, training_loss=0.7131630042930702, metrics={'train_runtime': 75.1786, 'train_samples_per_second': 16.334, 'train_steps_per_second': 2.048, 'train_loss': 0.7131630042930702, 'epoch': 1.0})"
      ]
     },
     "execution_count": 18,
     "metadata": {},
     "output_type": "execute_result"
    }
   ],
   "source": [
    "trainer_albert.train()"
   ]
  },
  {
   "cell_type": "code",
   "execution_count": 16,
   "metadata": {},
   "outputs": [
    {
     "name": "stderr",
     "output_type": "stream",
     "text": [
      "***** Running Evaluation *****\n",
      "  Num examples = 308\n",
      "  Batch size = 8\n",
      "100%|██████████| 39/39 [00:05<00:00,  6.54it/s]"
     ]
    },
    {
     "name": "stdout",
     "output_type": "stream",
     "text": [
      "<class 'transformers.trainer_utils.EvalPrediction'>\n"
     ]
    },
    {
     "name": "stderr",
     "output_type": "stream",
     "text": [
      "\n"
     ]
    },
    {
     "data": {
      "text/plain": [
       "{'eval_loss': 0.4934057891368866,\n",
       " 'eval_accuracy': 0.7564935064935064,\n",
       " 'eval_precision': 0.7762237762237763,\n",
       " 'eval_recall': 0.7207792207792207,\n",
       " 'eval_f1': 0.7474747474747475,\n",
       " 'eval_runtime': 6.3702,\n",
       " 'eval_samples_per_second': 48.35,\n",
       " 'eval_steps_per_second': 6.122,\n",
       " 'epoch': 1.0}"
      ]
     },
     "execution_count": 16,
     "metadata": {},
     "output_type": "execute_result"
    }
   ],
   "source": [
    "trainer_bert.evaluate()"
   ]
  },
  {
   "cell_type": "code",
   "execution_count": 16,
   "metadata": {},
   "outputs": [
    {
     "name": "stderr",
     "output_type": "stream",
     "text": [
      "***** Running Evaluation *****\n",
      "  Num examples = 308\n",
      "  Batch size = 8\n",
      "100%|██████████| 39/39 [00:37<00:00,  1.03it/s]"
     ]
    },
    {
     "name": "stdout",
     "output_type": "stream",
     "text": [
      "<class 'transformers.trainer_utils.EvalPrediction'>\n"
     ]
    },
    {
     "name": "stderr",
     "output_type": "stream",
     "text": [
      "\n"
     ]
    },
    {
     "data": {
      "text/plain": [
       "{'eval_loss': 0.6648804545402527,\n",
       " 'eval_accuracy': 0.711038961038961,\n",
       " 'eval_precision': 0.8350515463917526,\n",
       " 'eval_recall': 0.525974025974026,\n",
       " 'eval_f1': 0.6454183266932272,\n",
       " 'eval_runtime': 38.7947,\n",
       " 'eval_samples_per_second': 7.939,\n",
       " 'eval_steps_per_second': 1.005,\n",
       " 'epoch': 1.0}"
      ]
     },
     "execution_count": 16,
     "metadata": {},
     "output_type": "execute_result"
    }
   ],
   "source": [
    "trainer_roberta.evaluate()"
   ]
  },
  {
   "cell_type": "code",
   "execution_count": 19,
   "metadata": {},
   "outputs": [
    {
     "name": "stderr",
     "output_type": "stream",
     "text": [
      "***** Running Evaluation *****\n",
      "  Num examples = 308\n",
      "  Batch size = 8\n",
      "100%|██████████| 39/39 [00:04<00:00,  8.24it/s]"
     ]
    },
    {
     "name": "stdout",
     "output_type": "stream",
     "text": [
      "<class 'transformers.trainer_utils.EvalPrediction'>\n"
     ]
    },
    {
     "name": "stderr",
     "output_type": "stream",
     "text": [
      "\n"
     ]
    },
    {
     "data": {
      "text/plain": [
       "{'eval_loss': 0.6928556561470032,\n",
       " 'eval_accuracy': 0.5,\n",
       " 'eval_precision': 0.5,\n",
       " 'eval_recall': 1.0,\n",
       " 'eval_f1': 0.6666666666666666,\n",
       " 'eval_runtime': 4.9964,\n",
       " 'eval_samples_per_second': 61.644,\n",
       " 'eval_steps_per_second': 7.806,\n",
       " 'epoch': 1.0}"
      ]
     },
     "execution_count": 19,
     "metadata": {},
     "output_type": "execute_result"
    }
   ],
   "source": [
    "trainer_albert.evaluate()"
   ]
  }
 ],
 "metadata": {
  "kernelspec": {
   "display_name": "py3.10",
   "language": "python",
   "name": "python3"
  },
  "language_info": {
   "codemirror_mode": {
    "name": "ipython",
    "version": 3
   },
   "file_extension": ".py",
   "mimetype": "text/x-python",
   "name": "python",
   "nbconvert_exporter": "python",
   "pygments_lexer": "ipython3",
   "version": "3.10.9"
  },
  "orig_nbformat": 4,
  "vscode": {
   "interpreter": {
    "hash": "2c8f0e5dedb0bca84d2e0b4fbfa2d31163667101b0d2986ebd077634811ae380"
   }
  }
 },
 "nbformat": 4,
 "nbformat_minor": 2
}

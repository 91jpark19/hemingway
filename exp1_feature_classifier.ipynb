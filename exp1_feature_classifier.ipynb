{
 "cells": [
  {
   "cell_type": "code",
   "execution_count": 1,
   "metadata": {},
   "outputs": [],
   "source": [
    "import pandas as pd\n",
    "import numpy as np\n",
    "import nltk\n",
    "stop=nltk.corpus.stopwords.words('english')\n",
    "from nltk import word_tokenize\n",
    "import warnings\n",
    "warnings.filterwarnings('ignore')\n",
    "from collections import Counter"
   ]
  },
  {
   "cell_type": "code",
   "execution_count": 2,
   "metadata": {},
   "outputs": [],
   "source": [
    "from sklearn.model_selection import train_test_split\n",
    "from sklearn.metrics import accuracy_score, recall_score, precision_score, f1_score\n",
    "from sklearn.feature_extraction.text import CountVectorizer\n",
    "from sklearn.feature_extraction.text import TfidfVectorizer\n",
    "from sklearn.naive_bayes import MultinomialNB\n",
    "from sklearn.svm import SVC\n",
    "from sklearn.tree import DecisionTreeClassifier\n",
    "from sklearn.ensemble import RandomForestClassifier\n",
    "from sklearn.linear_model import LogisticRegression\n",
    "from sklearn import metrics"
   ]
  },
  {
   "cell_type": "code",
   "execution_count": 3,
   "metadata": {},
   "outputs": [],
   "source": [
    "ht_small=pd.read_csv('/Volumes/T7/mt-hemingway/data/hypothesis/small.csv')\n",
    "ht_small=ht_small.dropna()\n",
    "ht_big=pd.read_csv('/Volumes/T7/mt-hemingway/data/hypothesis/big.csv')\n",
    "ht_big=ht_big.dropna()\n",
    "mt_first=pd.read_csv('/Volumes/T7/mt-hemingway/data/hypothesis/exp1/MBart/MBart_KO1.csv')\n",
    "mt_first=mt_first.dropna()\n",
    "mt_second=pd.read_csv('/Volumes/T7/mt-hemingway/data/hypothesis/exp1/MBart/MBart_KO2.csv')\n",
    "mt_second=mt_second.dropna()\n",
    "mt_third=pd.read_csv('/Volumes/T7/mt-hemingway/data/hypothesis/exp1/MBart/MBart_KO3.csv')\n",
    "mt_third=mt_third.dropna()"
   ]
  },
  {
   "cell_type": "code",
   "execution_count": 4,
   "metadata": {},
   "outputs": [],
   "source": [
    "small_first=[ht_small.sample(ht_small.shape[0]), mt_first.sample(mt_first.shape[0])]\n",
    "small_first=pd.concat(small_first)\n",
    "small_second=[ht_small.sample(ht_small.shape[0]), mt_second.sample(mt_second.shape[0])]\n",
    "small_second=pd.concat(small_second)\n",
    "small_third=[ht_small.sample(ht_small.shape[0]), mt_third.sample(mt_third.shape[0])]\n",
    "small_third=pd.concat(small_third)\n",
    "big_first=[ht_big.sample(ht_big.shape[0]), mt_first.sample(mt_first.shape[0])]\n",
    "big_first=pd.concat(big_first)\n",
    "big_second=[ht_big.sample(ht_big.shape[0]), mt_second.sample(mt_second.shape[0])]\n",
    "big_second=pd.concat(big_second)\n",
    "big_third=[ht_big.sample(ht_big.shape[0]), mt_third.sample(mt_third.shape[0])]\n",
    "big_third=pd.concat(big_third)"
   ]
  },
  {
   "cell_type": "code",
   "execution_count": 5,
   "metadata": {},
   "outputs": [],
   "source": [
    "def convert_label(data:pd.DataFrame):\n",
    "    data['label']=data['label'].replace({data['label'].groupby(data['label']).count().keys()[0]:0, data['label'].groupby(data['label']).count().keys()[1]:1})\n",
    "    return data"
   ]
  },
  {
   "cell_type": "code",
   "execution_count": 6,
   "metadata": {},
   "outputs": [],
   "source": [
    "small_first=convert_label(small_first)\n",
    "small_second=convert_label(small_second)\n",
    "small_third=convert_label(small_third)\n",
    "big_first=convert_label(big_first)\n",
    "big_second=convert_label(big_second)\n",
    "big_third=convert_label(big_third)"
   ]
  },
  {
   "cell_type": "code",
   "execution_count": 7,
   "metadata": {},
   "outputs": [
    {
     "name": "stdout",
     "output_type": "stream",
     "text": [
      "CPU times: user 1.49 ms, sys: 1.14 ms, total: 2.63 ms\n",
      "Wall time: 1.75 ms\n"
     ]
    }
   ],
   "source": [
    "%%time\n",
    "X=list(big_third['text'])\n",
    "y=list(big_third['label'])\n",
    "X_train, X_test, y_train, y_test = train_test_split(X,y, test_size=0.2, stratify=y, random_state=42)"
   ]
  },
  {
   "cell_type": "code",
   "execution_count": 8,
   "metadata": {},
   "outputs": [],
   "source": [
    "unigram_count_vectorizer = CountVectorizer(encoding='latin-1', binary=False, min_df=2)#, stop_words='korean')"
   ]
  },
  {
   "cell_type": "code",
   "execution_count": 9,
   "metadata": {},
   "outputs": [],
   "source": [
    "X_train_count_vec = unigram_count_vectorizer.fit_transform(X_train)\n",
    "X_test_count_vec = unigram_count_vectorizer.transform(X_test)"
   ]
  },
  {
   "cell_type": "code",
   "execution_count": 10,
   "metadata": {},
   "outputs": [],
   "source": [
    "clf = MultinomialNB().fit(X_train_count_vec, y_train)\n",
    "svm = SVC(kernel='linear', C=1, random_state=0).fit(X_train_count_vec, y_train)\n",
    "tree = DecisionTreeClassifier(random_state=0).fit(X_train_count_vec, y_train)\n",
    "regression = LogisticRegression(random_state=0).fit(X_train_count_vec, y_train)\n",
    "forest = RandomForestClassifier(n_estimators=100, random_state=0).fit(X_train_count_vec, y_train)"
   ]
  },
  {
   "cell_type": "code",
   "execution_count": 11,
   "metadata": {},
   "outputs": [
    {
     "data": {
      "text/plain": [
       "308"
      ]
     },
     "execution_count": 11,
     "metadata": {},
     "output_type": "execute_result"
    }
   ],
   "source": [
    "len(X_test)"
   ]
  },
  {
   "cell_type": "code",
   "execution_count": 12,
   "metadata": {},
   "outputs": [],
   "source": [
    "X_test_unigram_count_vec = unigram_count_vectorizer.transform(X_test)"
   ]
  },
  {
   "cell_type": "code",
   "execution_count": 13,
   "metadata": {},
   "outputs": [
    {
     "name": "stdout",
     "output_type": "stream",
     "text": [
      "(1228, 3040)\n"
     ]
    }
   ],
   "source": [
    "print(X_train_count_vec.shape)"
   ]
  },
  {
   "cell_type": "code",
   "execution_count": 14,
   "metadata": {},
   "outputs": [
    {
     "name": "stdout",
     "output_type": "stream",
     "text": [
      "              precision    recall  f1-score   support\n",
      "\n",
      "           0     0.9740    0.9740    0.9740       154\n",
      "           1     0.9740    0.9740    0.9740       154\n",
      "\n",
      "    accuracy                         0.9740       308\n",
      "   macro avg     0.9740    0.9740    0.9740       308\n",
      "weighted avg     0.9740    0.9740    0.9740       308\n",
      "\n"
     ]
    }
   ],
   "source": [
    "#1. MultinomialNB\n",
    "y_pred = clf.predict(X_test_unigram_count_vec)\n",
    "print(metrics.classification_report(y_test, y_pred, digits=4))"
   ]
  },
  {
   "cell_type": "code",
   "execution_count": 15,
   "metadata": {},
   "outputs": [
    {
     "name": "stdout",
     "output_type": "stream",
     "text": [
      "              precision    recall  f1-score   support\n",
      "\n",
      "           0     0.8902    0.9481    0.9182       154\n",
      "           1     0.9444    0.8831    0.9128       154\n",
      "\n",
      "    accuracy                         0.9156       308\n",
      "   macro avg     0.9173    0.9156    0.9155       308\n",
      "weighted avg     0.9173    0.9156    0.9155       308\n",
      "\n"
     ]
    }
   ],
   "source": [
    "#2 SVM\n",
    "y_pred = svm.predict(X_test_unigram_count_vec)\n",
    "print(metrics.classification_report(y_test, y_pred, digits=4))"
   ]
  },
  {
   "cell_type": "code",
   "execution_count": 16,
   "metadata": {},
   "outputs": [
    {
     "name": "stdout",
     "output_type": "stream",
     "text": [
      "              precision    recall  f1-score   support\n",
      "\n",
      "           0     0.8681    0.8117    0.8389       154\n",
      "           1     0.8232    0.8766    0.8491       154\n",
      "\n",
      "    accuracy                         0.8442       308\n",
      "   macro avg     0.8456    0.8442    0.8440       308\n",
      "weighted avg     0.8456    0.8442    0.8440       308\n",
      "\n"
     ]
    }
   ],
   "source": [
    "#3 Decision Tree\n",
    "y_pred = tree.predict(X_test_unigram_count_vec)\n",
    "print(metrics.classification_report(y_test, y_pred, digits=4))"
   ]
  },
  {
   "cell_type": "code",
   "execution_count": 17,
   "metadata": {},
   "outputs": [
    {
     "name": "stdout",
     "output_type": "stream",
     "text": [
      "              precision    recall  f1-score   support\n",
      "\n",
      "           0     0.9119    0.9416    0.9265       154\n",
      "           1     0.9396    0.9091    0.9241       154\n",
      "\n",
      "    accuracy                         0.9253       308\n",
      "   macro avg     0.9258    0.9253    0.9253       308\n",
      "weighted avg     0.9258    0.9253    0.9253       308\n",
      "\n"
     ]
    }
   ],
   "source": [
    "#4 Logistic Regression\n",
    "y_pred = regression.predict(X_test_unigram_count_vec)\n",
    "print(metrics.classification_report(y_test, y_pred, digits=4))"
   ]
  },
  {
   "cell_type": "code",
   "execution_count": 18,
   "metadata": {},
   "outputs": [
    {
     "name": "stdout",
     "output_type": "stream",
     "text": [
      "              precision    recall  f1-score   support\n",
      "\n",
      "           0     0.9156    0.9156    0.9156       154\n",
      "           1     0.9156    0.9156    0.9156       154\n",
      "\n",
      "    accuracy                         0.9156       308\n",
      "   macro avg     0.9156    0.9156    0.9156       308\n",
      "weighted avg     0.9156    0.9156    0.9156       308\n",
      "\n"
     ]
    }
   ],
   "source": [
    "#5 Random Forest\n",
    "y_pred = forest.predict(X_test_unigram_count_vec)\n",
    "print(metrics.classification_report(y_test, y_pred, digits=4))"
   ]
  }
 ],
 "metadata": {
  "kernelspec": {
   "display_name": "py3.10",
   "language": "python",
   "name": "python3"
  },
  "language_info": {
   "codemirror_mode": {
    "name": "ipython",
    "version": 3
   },
   "file_extension": ".py",
   "mimetype": "text/x-python",
   "name": "python",
   "nbconvert_exporter": "python",
   "pygments_lexer": "ipython3",
   "version": "3.10.9"
  },
  "orig_nbformat": 4,
  "vscode": {
   "interpreter": {
    "hash": "2c8f0e5dedb0bca84d2e0b4fbfa2d31163667101b0d2986ebd077634811ae380"
   }
  }
 },
 "nbformat": 4,
 "nbformat_minor": 2
}

{
 "cells": [
  {
   "attachments": {},
   "cell_type": "markdown",
   "metadata": {},
   "source": [
    "Cosine similarity BERT sentence Transformers "
   ]
  },
  {
   "attachments": {},
   "cell_type": "markdown",
   "metadata": {},
   "source": [
    "https://www.sbert.net/docs/pretrained_models.html\n",
    "all-mpnet-base-v2 is chosen based on performance ssentence embeddings"
   ]
  },
  {
   "cell_type": "code",
   "execution_count": 1,
   "metadata": {},
   "outputs": [],
   "source": [
    "import pandas as pd\n",
    "import numpy as np\n",
    "from tqdm import tqdm\n",
    "import matplotlib.pyplot as plt"
   ]
  },
  {
   "cell_type": "code",
   "execution_count": 2,
   "metadata": {},
   "outputs": [
    {
     "name": "stderr",
     "output_type": "stream",
     "text": [
      "/Users/mstudio/miniforge3/envs/hemingway/lib/python3.11/site-packages/tqdm/auto.py:22: TqdmWarning: IProgress not found. Please update jupyter and ipywidgets. See https://ipywidgets.readthedocs.io/en/stable/user_install.html\n",
      "  from .autonotebook import tqdm as notebook_tqdm\n"
     ]
    }
   ],
   "source": [
    "from sentence_transformers import SentenceTransformer, util\n",
    "model = SentenceTransformer('all-mpnet-base-v2')"
   ]
  },
  {
   "cell_type": "code",
   "execution_count": 3,
   "metadata": {},
   "outputs": [],
   "source": [
    "data=pd.read_csv('data/book_final.csv')"
   ]
  },
  {
   "cell_type": "code",
   "execution_count": 4,
   "metadata": {},
   "outputs": [],
   "source": [
    "english_columns=['original', 'OPUS_small', 'OPUS_big', 'M2M100_small', 'M2M100_big', 'kakao_small', 'kakao_big', 'google_small', 'goggle_big']"
   ]
  },
  {
   "cell_type": "code",
   "execution_count": 5,
   "metadata": {},
   "outputs": [],
   "source": [
    "korean_columns=['small', 'big', 'kakao_org', 'M2M100_org', 'google_org']"
   ]
  },
  {
   "cell_type": "code",
   "execution_count": 6,
   "metadata": {},
   "outputs": [
    {
     "name": "stdout",
     "output_type": "stream",
     "text": [
      "9 5\n"
     ]
    }
   ],
   "source": [
    "print(len(english_columns), len(korean_columns))"
   ]
  },
  {
   "cell_type": "code",
   "execution_count": 7,
   "metadata": {},
   "outputs": [
    {
     "data": {
      "text/html": [
       "<div>\n",
       "<style scoped>\n",
       "    .dataframe tbody tr th:only-of-type {\n",
       "        vertical-align: middle;\n",
       "    }\n",
       "\n",
       "    .dataframe tbody tr th {\n",
       "        vertical-align: top;\n",
       "    }\n",
       "\n",
       "    .dataframe thead th {\n",
       "        text-align: right;\n",
       "    }\n",
       "</style>\n",
       "<table border=\"1\" class=\"dataframe\">\n",
       "  <thead>\n",
       "    <tr style=\"text-align: right;\">\n",
       "      <th></th>\n",
       "      <th>original</th>\n",
       "      <th>small</th>\n",
       "      <th>big</th>\n",
       "      <th>OPUS_small</th>\n",
       "      <th>OPUS_big</th>\n",
       "      <th>kakao_org</th>\n",
       "      <th>M2M100_org</th>\n",
       "      <th>M2M100_small</th>\n",
       "      <th>M2M100_big</th>\n",
       "      <th>kakao_small</th>\n",
       "      <th>kakao_big</th>\n",
       "      <th>google_org</th>\n",
       "      <th>google_small</th>\n",
       "      <th>google_big</th>\n",
       "    </tr>\n",
       "  </thead>\n",
       "  <tbody>\n",
       "    <tr>\n",
       "      <th>0</th>\n",
       "      <td>He was an old man who fished alone in a skiff ...</td>\n",
       "      <td>산티아고는 멕시코 만류에서 조각배를 타고 혼자 고기잡이를 하는 늙은 어부였다. 오늘...</td>\n",
       "      <td>그는 멕시코 해류에서 조각배를 타고 홀로 고기잡이하는 노인이었다. 여든 날하고도 나...</td>\n",
       "      <td>Santiago was an old fisherman riding alone in...</td>\n",
       "      <td>He was an old man riding on a rock boat in th...</td>\n",
       "      <td>그는 멕시코 만류에서 보트를 타고 혼자 낚시를 하던 노인이었는데, 지금은 84일째 ...</td>\n",
       "      <td>그는 골프 스트림에서 스키프에서 혼자 낚시 한 늙은이였고, 지금은 물고기를 먹지 않...</td>\n",
       "      <td>Santiago was an old fisherman on a sculptural ...</td>\n",
       "      <td>He was an elderly man on a sculptural boat in ...</td>\n",
       "      <td>Santiago was an old fisherman who fished alone...</td>\n",
       "      <td>He was an old man fishing alone in a carving b...</td>\n",
       "      <td>그는 걸프 스트림의 스키프에서 혼자 낚시를 한 노인이었고, 물고기를 먹지 않고 82...</td>\n",
       "      <td>Santiago was an old fisherman who was fishing ...</td>\n",
       "      <td>He was an elderly man who was fishing alone on...</td>\n",
       "    </tr>\n",
       "  </tbody>\n",
       "</table>\n",
       "</div>"
      ],
      "text/plain": [
       "                                            original  \\\n",
       "0  He was an old man who fished alone in a skiff ...   \n",
       "\n",
       "                                               small  \\\n",
       "0  산티아고는 멕시코 만류에서 조각배를 타고 혼자 고기잡이를 하는 늙은 어부였다. 오늘...   \n",
       "\n",
       "                                                 big  \\\n",
       "0  그는 멕시코 해류에서 조각배를 타고 홀로 고기잡이하는 노인이었다. 여든 날하고도 나...   \n",
       "\n",
       "                                          OPUS_small  \\\n",
       "0   Santiago was an old fisherman riding alone in...   \n",
       "\n",
       "                                            OPUS_big  \\\n",
       "0   He was an old man riding on a rock boat in th...   \n",
       "\n",
       "                                           kakao_org  \\\n",
       "0  그는 멕시코 만류에서 보트를 타고 혼자 낚시를 하던 노인이었는데, 지금은 84일째 ...   \n",
       "\n",
       "                                          M2M100_org  \\\n",
       "0  그는 골프 스트림에서 스키프에서 혼자 낚시 한 늙은이였고, 지금은 물고기를 먹지 않...   \n",
       "\n",
       "                                        M2M100_small  \\\n",
       "0  Santiago was an old fisherman on a sculptural ...   \n",
       "\n",
       "                                          M2M100_big  \\\n",
       "0  He was an elderly man on a sculptural boat in ...   \n",
       "\n",
       "                                         kakao_small  \\\n",
       "0  Santiago was an old fisherman who fished alone...   \n",
       "\n",
       "                                           kakao_big  \\\n",
       "0  He was an old man fishing alone in a carving b...   \n",
       "\n",
       "                                          google_org  \\\n",
       "0  그는 걸프 스트림의 스키프에서 혼자 낚시를 한 노인이었고, 물고기를 먹지 않고 82...   \n",
       "\n",
       "                                        google_small  \\\n",
       "0  Santiago was an old fisherman who was fishing ...   \n",
       "\n",
       "                                          google_big  \n",
       "0  He was an elderly man who was fishing alone on...  "
      ]
     },
     "execution_count": 7,
     "metadata": {},
     "output_type": "execute_result"
    }
   ],
   "source": [
    "data.head(1)"
   ]
  },
  {
   "cell_type": "code",
   "execution_count": 8,
   "metadata": {},
   "outputs": [],
   "source": [
    "def get_similarity_score(df:pd.DataFrame, compare1:str, compare2:str):\n",
    "    cosines=[]\n",
    "    for idx, val in tqdm(df.iterrows()):\n",
    "        embeddings1=model.encode(val[compare1], convert_to_tensor=True)\n",
    "        embeddings2=model.encode(val[compare2], convert_to_tensor=True)\n",
    "        cosine_scores = util.pytorch_cos_sim(embeddings1, embeddings2)\n",
    "        cosines.append(cosine_scores[0][0].item())\n",
    "    return cosines   \n",
    "        "
   ]
  },
  {
   "cell_type": "code",
   "execution_count": 9,
   "metadata": {},
   "outputs": [
    {
     "name": "stderr",
     "output_type": "stream",
     "text": [
      "768it [04:48,  2.66it/s]\n",
      "768it [04:59,  2.56it/s]\n",
      "768it [05:29,  2.33it/s]\n",
      "768it [05:33,  2.30it/s]\n",
      "768it [05:30,  2.33it/s]\n",
      "768it [05:20,  2.40it/s]\n",
      "768it [05:29,  2.33it/s]\n",
      "768it [05:45,  2.23it/s]\n"
     ]
    }
   ],
   "source": [
    "original_OPUS_small=get_similarity_score(data, 'original', 'OPUS_small')\n",
    "original_OPUS_big=get_similarity_score(data, 'original', 'OPUS_big')\n",
    "original_M2M100_small=get_similarity_score(data, 'original', 'M2M100_small')\n",
    "original_M2M100_big=get_similarity_score(data, 'original', 'M2M100_big')\n",
    "original_kakao_small=get_similarity_score(data, 'original', 'kakao_small')\n",
    "original_kakao_big=get_similarity_score(data, 'original', 'kakao_big')\n",
    "original_google_small=get_similarity_score(data, 'original', 'google_small')\n",
    "original_google_big=get_similarity_score(data, 'original', 'google_big')"
   ]
  },
  {
   "cell_type": "code",
   "execution_count": 10,
   "metadata": {},
   "outputs": [],
   "source": [
    "cosine_df=pd.DataFrame({'OPUS_small':original_OPUS_small, 'OPUS_big':original_OPUS_big, 'M2M100_small':original_M2M100_small, 'M2M100_big':original_M2M100_big, 'kakao_small':original_kakao_small, 'kakao_big':original_kakao_big, 'google_small':original_google_small, 'google_big':original_google_big})"
   ]
  },
  {
   "cell_type": "code",
   "execution_count": 11,
   "metadata": {},
   "outputs": [],
   "source": [
    "cosine_df.to_csv('data/cosine_df.csv', index=False)"
   ]
  },
  {
   "cell_type": "code",
   "execution_count": 12,
   "metadata": {},
   "outputs": [
    {
     "ename": "TypeError",
     "evalue": "'float' object does not support item assignment",
     "output_type": "error",
     "traceback": [
      "\u001b[0;31m---------------------------------------------------------------------------\u001b[0m",
      "\u001b[0;31mTypeError\u001b[0m                                 Traceback (most recent call last)",
      "Cell \u001b[0;32mIn[12], line 4\u001b[0m\n\u001b[1;32m      2\u001b[0m pos_opus_small\u001b[39m=\u001b[39mcosine_df[\u001b[39m'\u001b[39m\u001b[39mOPUS_small\u001b[39m\u001b[39m'\u001b[39m]\u001b[39m.\u001b[39mcopy()\n\u001b[1;32m      3\u001b[0m neg_opus_small\u001b[39m=\u001b[39mcosine_df[\u001b[39m'\u001b[39m\u001b[39mOPUS_small\u001b[39m\u001b[39m'\u001b[39m]\u001b[39m.\u001b[39mcopy()\n\u001b[0;32m----> 4\u001b[0m pos_opus_small\u001b[39m=\u001b[39mpos_opus_small[pos_opus_small\u001b[39m<\u001b[39;49m\u001b[39m=\u001b[39;49m\u001b[39m0.5\u001b[39;49m]\u001b[39m=\u001b[39mnp\u001b[39m.\u001b[39mnan\n\u001b[1;32m      5\u001b[0m neg_opus_small\u001b[39m=\u001b[39mpos_opus_small[pos_opus_small\u001b[39m>\u001b[39m\u001b[39m0.5\u001b[39m]\u001b[39m=\u001b[39mnp\u001b[39m.\u001b[39mnan\n\u001b[1;32m      6\u001b[0m axes[\u001b[39m0\u001b[39m,\u001b[39m0\u001b[39m]\u001b[39m.\u001b[39mplot(pos_opus_small, color\u001b[39m=\u001b[39m\u001b[39m'\u001b[39m\u001b[39mblue\u001b[39m\u001b[39m'\u001b[39m, label\u001b[39m=\u001b[39m\u001b[39m'\u001b[39m\u001b[39mOPUS_small\u001b[39m\u001b[39m'\u001b[39m)\n",
      "\u001b[0;31mTypeError\u001b[0m: 'float' object does not support item assignment"
     ]
    },
    {
     "data": {
      "image/png": "[encoded data removed]",
      "text/plain": [
       "<Figure size 1000x500 with 8 Axes>"
      ]
     },
     "metadata": {},
     "output_type": "display_data"
    }
   ],
   "source": [
    "fig, axes = plt.subplots(nrows=2, ncols=4, figsize=(10, 5), sharex=True, sharey=True)\n",
    "pos_opus_small=cosine_df['OPUS_small'].copy()\n",
    "neg_opus_small=cosine_df['OPUS_small'].copy()\n",
    "pos_opus_small=pos_opus_small[pos_opus_small<=0.5]=np.nan\n",
    "neg_opus_small=pos_opus_small[pos_opus_small>0.5]=np.nan\n",
    "axes[0,0].plot(pos_opus_small, color='blue', label='OPUS_small')\n",
    "axes[0,0].plot(neg_opus_small, color='red', label='OPUS_small')"
   ]
  },
  {
   "cell_type": "code",
   "execution_count": null,
   "metadata": {},
   "outputs": [],
   "source": [
    "axes[0,0].axhline(y=0.5, color='r', linestyle='-')\n",
    "axes[0,0].set_title('OPUS_small')\n",
    "axes[1,0].plot(cosine_df['OPUS_big'], label='OPUS_big')\n",
    "axes[1,0].axhline(y=0.5, color='r', linestyle='-')\n",
    "axes[1,0].set_title('OPUS_big')\n",
    "axes[0,1].plot(cosine_df['M2M100_small'], label='M2M100_small')\n",
    "axes[0,1].set_title('M2M100_small')\n",
    "axes[0,1].axhline(y=0.5, color='r', linestyle='-')\n",
    "axes[1,1].plot(cosine_df['M2M100_big'], label='M2M100_big')\n",
    "axes[1,1].axhline(y=0.5, color='r', linestyle='-')\n",
    "axes[1,1].set_title('M2M100_big')\n",
    "axes[0,2].plot(cosine_df['kakao_small'], label='kakao_small')\n",
    "axes[0,2].axhline(y=0.5, color='r', linestyle='-')\n",
    "axes[0,2].set_title('kakao_small')\n",
    "axes[1,2].plot(cosine_df['kakao_big'], label='kakao_big')\n",
    "axes[1,2].axhline(y=0.5, color='r', linestyle='-')\n",
    "axes[1,2].set_title('kakao_big')\n",
    "axes[0,3].plot(cosine_df['google_small'], label='google_small')\n",
    "axes[0,3].axhline(y=0.5, color='r', linestyle='-')\n",
    "axes[0,3].set_title('google_small')\n",
    "axes[1,3].plot(cosine_df['google_big'], label='google_big')\n",
    "axes[1,3].axhline(y=0.5, color='r', linestyle='-')\n",
    "axes[1,3].set_title('google_big')\n",
    "plt.show()"
   ]
  }
 ],
 "metadata": {
  "kernelspec": {
   "display_name": "hemingway",
   "language": "python",
   "name": "python3"
  },
  "language_info": {
   "codemirror_mode": {
    "name": "ipython",
    "version": 3
   },
   "file_extension": ".py",
   "mimetype": "text/x-python",
   "name": "python",
   "nbconvert_exporter": "python",
   "pygments_lexer": "ipython3",
   "version": "3.11.0"
  },
  "orig_nbformat": 4,
  "vscode": {
   "interpreter": {
    "hash": "54be8e8d21ec63eec43259fef7c1538d39584365518711ae8fc84523ea4698b5"
   }
  }
 },
 "nbformat": 4,
 "nbformat_minor": 2
}

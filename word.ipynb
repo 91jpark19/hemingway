{
 "cells": [
  {
   "cell_type": "code",
   "execution_count": 1,
   "metadata": {},
   "outputs": [],
   "source": [
    "import pandas as pd"
   ]
  },
  {
   "cell_type": "code",
   "execution_count": 2,
   "metadata": {},
   "outputs": [],
   "source": [
    "book=pd.read_csv('/Volumes/T7/mt-hemingway/data/book_final.csv')"
   ]
  },
  {
   "cell_type": "code",
   "execution_count": 4,
   "metadata": {},
   "outputs": [
    {
     "data": {
      "text/html": [
       "<div>\n",
       "<style scoped>\n",
       "    .dataframe tbody tr th:only-of-type {\n",
       "        vertical-align: middle;\n",
       "    }\n",
       "\n",
       "    .dataframe tbody tr th {\n",
       "        vertical-align: top;\n",
       "    }\n",
       "\n",
       "    .dataframe thead th {\n",
       "        text-align: right;\n",
       "    }\n",
       "</style>\n",
       "<table border=\"1\" class=\"dataframe\">\n",
       "  <thead>\n",
       "    <tr style=\"text-align: right;\">\n",
       "      <th></th>\n",
       "      <th>original</th>\n",
       "      <th>small</th>\n",
       "      <th>big</th>\n",
       "      <th>OPUS_small</th>\n",
       "      <th>OPUS_big</th>\n",
       "      <th>kakao_org</th>\n",
       "      <th>M2M100_org</th>\n",
       "      <th>M2M100_small</th>\n",
       "      <th>M2M100_big</th>\n",
       "      <th>kakao_small</th>\n",
       "      <th>kakao_big</th>\n",
       "      <th>google_org</th>\n",
       "      <th>google_small</th>\n",
       "      <th>google_big</th>\n",
       "    </tr>\n",
       "  </thead>\n",
       "  <tbody>\n",
       "    <tr>\n",
       "      <th>0</th>\n",
       "      <td>He was an old man who fished alone in a skiff ...</td>\n",
       "      <td>산티아고는 멕시코 만류에서 조각배를 타고 혼자 고기잡이를 하는 늙은 어부였다. 오늘...</td>\n",
       "      <td>그는 멕시코 해류에서 조각배를 타고 홀로 고기잡이하는 노인이었다. 여든 날하고도 나...</td>\n",
       "      <td>Santiago was an old fisherman riding alone in...</td>\n",
       "      <td>He was an old man riding on a rock boat in th...</td>\n",
       "      <td>그는 멕시코 만류에서 보트를 타고 혼자 낚시를 하던 노인이었는데, 지금은 84일째 ...</td>\n",
       "      <td>그는 골프 스트림에서 스키프에서 혼자 낚시 한 늙은이였고, 지금은 물고기를 먹지 않...</td>\n",
       "      <td>Santiago was an old fisherman on a sculptural ...</td>\n",
       "      <td>He was an elderly man on a sculptural boat in ...</td>\n",
       "      <td>Santiago was an old fisherman who fished alone...</td>\n",
       "      <td>He was an old man fishing alone in a carving b...</td>\n",
       "      <td>그는 걸프 스트림의 스키프에서 혼자 낚시를 한 노인이었고, 물고기를 먹지 않고 82...</td>\n",
       "      <td>Santiago was an old fisherman who was fishing ...</td>\n",
       "      <td>He was an elderly man who was fishing alone on...</td>\n",
       "    </tr>\n",
       "  </tbody>\n",
       "</table>\n",
       "</div>"
      ],
      "text/plain": [
       "                                            original  \\\n",
       "0  He was an old man who fished alone in a skiff ...   \n",
       "\n",
       "                                               small  \\\n",
       "0  산티아고는 멕시코 만류에서 조각배를 타고 혼자 고기잡이를 하는 늙은 어부였다. 오늘...   \n",
       "\n",
       "                                                 big  \\\n",
       "0  그는 멕시코 해류에서 조각배를 타고 홀로 고기잡이하는 노인이었다. 여든 날하고도 나...   \n",
       "\n",
       "                                          OPUS_small  \\\n",
       "0   Santiago was an old fisherman riding alone in...   \n",
       "\n",
       "                                            OPUS_big  \\\n",
       "0   He was an old man riding on a rock boat in th...   \n",
       "\n",
       "                                           kakao_org  \\\n",
       "0  그는 멕시코 만류에서 보트를 타고 혼자 낚시를 하던 노인이었는데, 지금은 84일째 ...   \n",
       "\n",
       "                                          M2M100_org  \\\n",
       "0  그는 골프 스트림에서 스키프에서 혼자 낚시 한 늙은이였고, 지금은 물고기를 먹지 않...   \n",
       "\n",
       "                                        M2M100_small  \\\n",
       "0  Santiago was an old fisherman on a sculptural ...   \n",
       "\n",
       "                                          M2M100_big  \\\n",
       "0  He was an elderly man on a sculptural boat in ...   \n",
       "\n",
       "                                         kakao_small  \\\n",
       "0  Santiago was an old fisherman who fished alone...   \n",
       "\n",
       "                                           kakao_big  \\\n",
       "0  He was an old man fishing alone in a carving b...   \n",
       "\n",
       "                                          google_org  \\\n",
       "0  그는 걸프 스트림의 스키프에서 혼자 낚시를 한 노인이었고, 물고기를 먹지 않고 82...   \n",
       "\n",
       "                                        google_small  \\\n",
       "0  Santiago was an old fisherman who was fishing ...   \n",
       "\n",
       "                                          google_big  \n",
       "0  He was an elderly man who was fishing alone on...  "
      ]
     },
     "execution_count": 4,
     "metadata": {},
     "output_type": "execute_result"
    }
   ],
   "source": [
    "book.head(1)"
   ]
  },
  {
   "cell_type": "code",
   "execution_count": null,
   "metadata": {},
   "outputs": [],
   "source": []
  }
 ],
 "metadata": {
  "kernelspec": {
   "display_name": "hemingway",
   "language": "python",
   "name": "python3"
  },
  "language_info": {
   "codemirror_mode": {
    "name": "ipython",
    "version": 3
   },
   "file_extension": ".py",
   "mimetype": "text/x-python",
   "name": "python",
   "nbconvert_exporter": "python",
   "pygments_lexer": "ipython3",
   "version": "3.11.0 | packaged by conda-forge | (main, Oct 25 2022, 06:21:25) [Clang 14.0.4 ]"
  },
  "orig_nbformat": 4,
  "vscode": {
   "interpreter": {
    "hash": "54be8e8d21ec63eec43259fef7c1538d39584365518711ae8fc84523ea4698b5"
   }
  }
 },
 "nbformat": 4,
 "nbformat_minor": 2
}

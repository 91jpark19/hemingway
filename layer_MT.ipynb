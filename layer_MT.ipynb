{
 "cells": [
  {
   "cell_type": "code",
   "execution_count": 1,
   "metadata": {},
   "outputs": [],
   "source": [
    "from tqdm import tqdm\n",
    "import time\n",
    "import os\n",
    "import pandas as pd\n",
    "import warnings \n",
    "warnings.filterwarnings(\"ignore\")"
   ]
  },
  {
   "cell_type": "code",
   "execution_count": 6,
   "metadata": {},
   "outputs": [],
   "source": [
    "data=pd.read_csv('/Volumes/T7/mt-hemingway/M2M100_de_en_ko.csv', encoding='utf-8-sig')"
   ]
  },
  {
   "cell_type": "code",
   "execution_count": 7,
   "metadata": {},
   "outputs": [
    {
     "data": {
      "text/plain": [
       "Index(['Unnamed: 0', 'small', 'big', 'OPUS_to_DE_small', 'OPUS_to_DE_big',\n",
       "       'M2M100_to_EN_small', 'M2M100_to_EN_big'],\n",
       "      dtype='object')"
      ]
     },
     "execution_count": 7,
     "metadata": {},
     "output_type": "execute_result"
    }
   ],
   "source": [
    "data.columns"
   ]
  },
  {
   "cell_type": "code",
   "execution_count": 8,
   "metadata": {},
   "outputs": [
    {
     "data": {
      "text/html": [
       "<div>\n",
       "<style scoped>\n",
       "    .dataframe tbody tr th:only-of-type {\n",
       "        vertical-align: middle;\n",
       "    }\n",
       "\n",
       "    .dataframe tbody tr th {\n",
       "        vertical-align: top;\n",
       "    }\n",
       "\n",
       "    .dataframe thead th {\n",
       "        text-align: right;\n",
       "    }\n",
       "</style>\n",
       "<table border=\"1\" class=\"dataframe\">\n",
       "  <thead>\n",
       "    <tr style=\"text-align: right;\">\n",
       "      <th></th>\n",
       "      <th>Unnamed: 0</th>\n",
       "      <th>small</th>\n",
       "      <th>big</th>\n",
       "      <th>OPUS_to_DE_small</th>\n",
       "      <th>OPUS_to_DE_big</th>\n",
       "      <th>M2M100_to_EN_small</th>\n",
       "      <th>M2M100_to_EN_big</th>\n",
       "    </tr>\n",
       "  </thead>\n",
       "  <tbody>\n",
       "    <tr>\n",
       "      <th>0</th>\n",
       "      <td>0</td>\n",
       "      <td>산티아고는 멕시코 만류에서 조각배를 타고 혼자 고기잡이를 하는 늙은 어부였다. 오늘...</td>\n",
       "      <td>그는 멕시코 해류에서 조각배를 타고 홀로 고기잡이하는 노인이었다. 여든 날하고도 나...</td>\n",
       "      <td>Santiago war ein alter Fischer, der allein in ...</td>\n",
       "      <td>Er war ein alter Mann, der allein mit einem Bo...</td>\n",
       "      <td>Santiago was an old fisherman who went fishing...</td>\n",
       "      <td>He was an old man who was fishing alone with a...</td>\n",
       "    </tr>\n",
       "    <tr>\n",
       "      <th>1</th>\n",
       "      <td>1</td>\n",
       "      <td>처음 40일 동안은 한 소년과 함께 있었다. 그러나 40일이 지나도록 물고기를 잡지...</td>\n",
       "      <td>처음 사십 일 동안은 소년이 함께 있었다. 그러나 사십 일이 지나도록 고기 한 마리...</td>\n",
       "      <td>In den ersten 40 Tagen war er mit einem Jungen...</td>\n",
       "      <td>Als aber 40 Tage später kein Fleisch mehr da w...</td>\n",
       "      <td>In the first 40 days he was with a boy, but af...</td>\n",
       "      <td>But 40 days later, when no meat was there, his...</td>\n",
       "    </tr>\n",
       "  </tbody>\n",
       "</table>\n",
       "</div>"
      ],
      "text/plain": [
       "   Unnamed: 0                                              small  \\\n",
       "0           0  산티아고는 멕시코 만류에서 조각배를 타고 혼자 고기잡이를 하는 늙은 어부였다. 오늘...   \n",
       "1           1  처음 40일 동안은 한 소년과 함께 있었다. 그러나 40일이 지나도록 물고기를 잡지...   \n",
       "\n",
       "                                                 big  \\\n",
       "0  그는 멕시코 해류에서 조각배를 타고 홀로 고기잡이하는 노인이었다. 여든 날하고도 나...   \n",
       "1  처음 사십 일 동안은 소년이 함께 있었다. 그러나 사십 일이 지나도록 고기 한 마리...   \n",
       "\n",
       "                                    OPUS_to_DE_small  \\\n",
       "0  Santiago war ein alter Fischer, der allein in ...   \n",
       "1  In den ersten 40 Tagen war er mit einem Jungen...   \n",
       "\n",
       "                                      OPUS_to_DE_big  \\\n",
       "0  Er war ein alter Mann, der allein mit einem Bo...   \n",
       "1  Als aber 40 Tage später kein Fleisch mehr da w...   \n",
       "\n",
       "                                  M2M100_to_EN_small  \\\n",
       "0  Santiago was an old fisherman who went fishing...   \n",
       "1  In the first 40 days he was with a boy, but af...   \n",
       "\n",
       "                                    M2M100_to_EN_big  \n",
       "0  He was an old man who was fishing alone with a...  \n",
       "1  But 40 days later, when no meat was there, his...  "
      ]
     },
     "execution_count": 8,
     "metadata": {},
     "output_type": "execute_result"
    }
   ],
   "source": [
    "data.head(2)"
   ]
  },
  {
   "cell_type": "code",
   "execution_count": 4,
   "metadata": {},
   "outputs": [],
   "source": [
    "small_big=data[['small', 'big']]"
   ]
  },
  {
   "attachments": {},
   "cell_type": "markdown",
   "metadata": {},
   "source": [
    "OPUS"
   ]
  },
  {
   "cell_type": "code",
   "execution_count": 5,
   "metadata": {},
   "outputs": [],
   "source": [
    "from transformers import AutoTokenizer, AutoModelForSeq2SeqLM"
   ]
  },
  {
   "cell_type": "code",
   "execution_count": 6,
   "metadata": {},
   "outputs": [],
   "source": [
    "it_en_tokenizer = AutoTokenizer.from_pretrained(\"Helsinki-NLP/opus-mt-ko-de\")\n",
    "it_en_model = AutoModelForSeq2SeqLM.from_pretrained(\"Helsinki-NLP/opus-mt-ko-de\")"
   ]
  },
  {
   "cell_type": "code",
   "execution_count": 7,
   "metadata": {},
   "outputs": [],
   "source": [
    "def OPUS_to_DE(data: pd.DataFrame, column: str): \n",
    "    translated_small=[]\n",
    "    for idx, val in tqdm(data.iterrows()):\n",
    "        for_translate=val[column]\n",
    "        try:\n",
    "            encoded_input=it_en_tokenizer(for_translate, return_tensors='pt')\n",
    "            output=it_en_model.generate(**encoded_input)\n",
    "            out_text=it_en_tokenizer.batch_decode(output, skip_special_tokens=True)\n",
    "            out_text=out_text[0]\n",
    "            out_text=out_text.replace('<pad>', '')\n",
    "            # time.sleep(0.5)\n",
    "            translated_small.append(out_text)\n",
    "        except TypeError:\n",
    "            translated_small.append(val)\n",
    "            # time.sleep(0.5)\n",
    "            continue\n",
    "    data['OPUS_to_DE'+'_'+column]=translated_small\n",
    "    return data"
   ]
  },
  {
   "cell_type": "code",
   "execution_count": 8,
   "metadata": {},
   "outputs": [
    {
     "name": "stderr",
     "output_type": "stream",
     "text": [
      "768it [13:48,  1.08s/it]\n"
     ]
    }
   ],
   "source": [
    "small_de=OPUS_to_DE(small_big, 'small')"
   ]
  },
  {
   "cell_type": "code",
   "execution_count": 9,
   "metadata": {},
   "outputs": [
    {
     "name": "stderr",
     "output_type": "stream",
     "text": [
      "768it [14:11,  1.11s/it]\n"
     ]
    }
   ],
   "source": [
    "big_de=OPUS_to_DE(small_de, 'big')"
   ]
  },
  {
   "cell_type": "code",
   "execution_count": 10,
   "metadata": {},
   "outputs": [],
   "source": [
    "de_en_tokenizer = AutoTokenizer.from_pretrained(\"Helsinki-NLP/opus-mt-de-en\")#, model_max_length=512)\n",
    "de_en_model = AutoModelForSeq2SeqLM.from_pretrained(\"Helsinki-NLP/opus-mt-de-en\")"
   ]
  },
  {
   "cell_type": "code",
   "execution_count": 11,
   "metadata": {},
   "outputs": [],
   "source": [
    "def OPUS_to_EN(data: pd.DataFrame, column: str): \n",
    "    translated_small=[]\n",
    "    for idx, val in tqdm(data.iterrows()):\n",
    "        for_translate=val[column]\n",
    "        try:\n",
    "            encoded_input=de_en_tokenizer(for_translate, return_tensors='pt')\n",
    "            output=de_en_model.generate(**encoded_input)\n",
    "            out_text=it_en_tokenizer.batch_decode(output, skip_special_tokens=True)\n",
    "            out_text=out_text[0]\n",
    "            out_text=out_text.replace('<pad>', '')\n",
    "            # time.sleep(0.5)\n",
    "            translated_small.append(out_text)\n",
    "        except TypeError:\n",
    "            translated_small.append(val)\n",
    "            # time.sleep(0.5)\n",
    "            continue\n",
    "    data['OPUS_to_EN'+'_'+column]=translated_small\n",
    "    return data"
   ]
  },
  {
   "cell_type": "code",
   "execution_count": 22,
   "metadata": {},
   "outputs": [
    {
     "name": "stderr",
     "output_type": "stream",
     "text": [
      "2it [00:02,  1.05s/it]\n"
     ]
    }
   ],
   "source": [
    "small_EN2=OPUS_to_EN(big_de.head(2), 'OPUS_to_DE_small')"
   ]
  },
  {
   "cell_type": "code",
   "execution_count": 16,
   "metadata": {},
   "outputs": [
    {
     "name": "stderr",
     "output_type": "stream",
     "text": [
      "768it [09:03,  1.41it/s]\n"
     ]
    }
   ],
   "source": [
    "big_EN=OPUS_to_EN(small_EN, 'OPUS_to_DE_big')"
   ]
  },
  {
   "cell_type": "code",
   "execution_count": null,
   "metadata": {},
   "outputs": [],
   "source": [
    "en_ko_tokenizer = AutoTokenizer.from_pretrained(\"Helsinki-NLP/opus-mt-en-ko\")\n",
    "en_ko_model = AutoModelForSeq2SeqLM.from_pretrained(\"Helsinki-NLP/opus-mt-en-ko\")"
   ]
  },
  {
   "cell_type": "code",
   "execution_count": null,
   "metadata": {},
   "outputs": [],
   "source": [
    "def OPUS_to_KO(data: pd.DataFrame, column: str): \n",
    "    translated_small=[]\n",
    "    for idx, val in tqdm(data.iterrows()):\n",
    "        for_translate=val[column]\n",
    "        try:\n",
    "            encoded_input=en_ko_tokenizer(for_translate, return_tensors='pt')\n",
    "            output=it_en_model.generate(**encoded_input)\n",
    "            out_text=en_ko_tokenizer.batch_decode(output, skip_special_tokens=True)\n",
    "            out_text=out_text[0]\n",
    "            out_text=out_text.replace('<pad>', '')\n",
    "            # time.sleep(0.5)\n",
    "            translated_small.append(out_text)\n",
    "        except TypeError:\n",
    "            translated_small.append(val)\n",
    "            # time.sleep(0.5)\n",
    "            continue\n",
    "    data['OPUS_to_KO'+'_'+column]=translated_small\n",
    "    return data"
   ]
  },
  {
   "cell_type": "code",
   "execution_count": null,
   "metadata": {},
   "outputs": [],
   "source": [
    "small_KO=OPUS_to_KO(big_EN, 'OPUS_to_EN_small')"
   ]
  },
  {
   "cell_type": "code",
   "execution_count": null,
   "metadata": {},
   "outputs": [],
   "source": [
    "big_KO=OPUS_to_KO(small_KO, 'OPUS_to_EN_big')"
   ]
  },
  {
   "cell_type": "code",
   "execution_count": 21,
   "metadata": {},
   "outputs": [],
   "source": [
    "small_EN.to_csv('OPUS_de_en_ko.csv', encoding='utf-8-sig')"
   ]
  },
  {
   "cell_type": "code",
   "execution_count": 31,
   "metadata": {},
   "outputs": [],
   "source": [
    "small_EN.drop(['OPUS_to_EN_OPUS_to_DE_small', 'OPUS_to_EN_OPUS_to_DE_big'], axis=1, inplace=True)"
   ]
  },
  {
   "attachments": {},
   "cell_type": "markdown",
   "metadata": {},
   "source": [
    "M2M100"
   ]
  },
  {
   "cell_type": "code",
   "execution_count": 12,
   "metadata": {},
   "outputs": [],
   "source": [
    "import numpy as np\n",
    "from transformers import M2M100Config, M2M100ForConditionalGeneration, M2M100Tokenizer\n",
    "\n",
    "model = M2M100ForConditionalGeneration.from_pretrained(\"facebook/m2m100_418M\")\n",
    "tokenizer = M2M100Tokenizer.from_pretrained(\"facebook/m2m100_418M\", src_lang=\"en\", tgt_lang=\"ko\")"
   ]
  },
  {
   "cell_type": "code",
   "execution_count": 32,
   "metadata": {},
   "outputs": [
    {
     "data": {
      "text/html": [
       "<div>\n",
       "<style scoped>\n",
       "    .dataframe tbody tr th:only-of-type {\n",
       "        vertical-align: middle;\n",
       "    }\n",
       "\n",
       "    .dataframe tbody tr th {\n",
       "        vertical-align: top;\n",
       "    }\n",
       "\n",
       "    .dataframe thead th {\n",
       "        text-align: right;\n",
       "    }\n",
       "</style>\n",
       "<table border=\"1\" class=\"dataframe\">\n",
       "  <thead>\n",
       "    <tr style=\"text-align: right;\">\n",
       "      <th></th>\n",
       "      <th>small</th>\n",
       "      <th>big</th>\n",
       "      <th>OPUS_to_DE_small</th>\n",
       "      <th>OPUS_to_DE_big</th>\n",
       "    </tr>\n",
       "  </thead>\n",
       "  <tbody>\n",
       "    <tr>\n",
       "      <th>0</th>\n",
       "      <td>산티아고는 멕시코 만류에서 조각배를 타고 혼자 고기잡이를 하는 늙은 어부였다. 오늘...</td>\n",
       "      <td>그는 멕시코 해류에서 조각배를 타고 홀로 고기잡이하는 노인이었다. 여든 날하고도 나...</td>\n",
       "      <td>Santiago war ein alter Fischer, der allein in ...</td>\n",
       "      <td>Er war ein alter Mann, der allein mit einem Bo...</td>\n",
       "    </tr>\n",
       "    <tr>\n",
       "      <th>1</th>\n",
       "      <td>처음 40일 동안은 한 소년과 함께 있었다. 그러나 40일이 지나도록 물고기를 잡지...</td>\n",
       "      <td>처음 사십 일 동안은 소년이 함께 있었다. 그러나 사십 일이 지나도록 고기 한 마리...</td>\n",
       "      <td>In den ersten 40 Tagen war er mit einem Jungen...</td>\n",
       "      <td>Als aber 40 Tage später kein Fleisch mehr da w...</td>\n",
       "    </tr>\n",
       "    <tr>\n",
       "      <th>2</th>\n",
       "      <td>소년은 허구한 날 빈 배로 돌아오는 노인의 모습에 가슴이 아팠다. 그래서 소년은 늘...</td>\n",
       "      <td>소년은 날마다 노인이 빈 배로 돌아오는 것을 보고 가슴이 아팠다. 그래서 늘 노인을...</td>\n",
       "      <td>Der Junge war von dem Anblick des alten Mannes...</td>\n",
       "      <td>Der Junge war traurig, als er jeden Tag einen ...</td>\n",
       "    </tr>\n",
       "    <tr>\n",
       "      <th>3</th>\n",
       "      <td>밀가루 부대 조각 따위로 여기저기 더덕더덕 기워진 돛은 둘둘 말면 마치 영원한 패배...</td>\n",
       "      <td>돛은 여기저기 밀가루 부대로 기워져 있었고, 접어 놓으면 마치 영원한 패배를 상징하...</td>\n",
       "      <td>Es sah aus wie eine Flagge, die eine ewige Nie...</td>\n",
       "      <td>Die Segel waren von Mehl überwuchert und sahen...</td>\n",
       "    </tr>\n",
       "    <tr>\n",
       "      <th>4</th>\n",
       "      <td>산티아고는 깡마른 몸에 목덜미에는 깊은 주름살이 패어 있었다.</td>\n",
       "      <td>노인은 깡마르고 여윈 데다 목덜미에는 주름이 깊게 잡혀 있었다.</td>\n",
       "      <td>Santiago hatte tiefe Falten in seinem trockene...</td>\n",
       "      <td>Der alte Mann war trocken, und er hatte eine t...</td>\n",
       "    </tr>\n",
       "    <tr>\n",
       "      <th>...</th>\n",
       "      <td>...</td>\n",
       "      <td>...</td>\n",
       "      <td>...</td>\n",
       "      <td>...</td>\n",
       "    </tr>\n",
       "    <tr>\n",
       "      <th>763</th>\n",
       "      <td>“저게 뭐예요?” 부인이 안내원에게 물었다. 그때 마침 고기의 뼈는 조류를 타고 바...</td>\n",
       "      <td>저게 뭐죠? 여자가 웨이터에게 물으면서 이제 해류를 타고 바다로 밀려 나가기를 기다...</td>\n",
       "      <td>Mrs. Wong fragte den Lotsen, als die Knochen d...</td>\n",
       "      <td>Eine Frau fragte einen Kellner, und sie zeigte...</td>\n",
       "    </tr>\n",
       "    <tr>\n",
       "      <th>764</th>\n",
       "      <td>티뷰론입니다. 안내원이 대답했다. “상어의 일종이죠.” 안내원은 사투리가 섞인 영어...</td>\n",
       "      <td>티부론 '이죠. 상어랍니다. 웨이터가 대답했다. 그러면서 그는 사건의 경위를 설명하...</td>\n",
       "      <td>Der Lotse antwortete, es war eine Art Hai, der...</td>\n",
       "      <td>Tiburon, ein Hai, antwortete der Kellner, und ...</td>\n",
       "    </tr>\n",
       "    <tr>\n",
       "      <th>765</th>\n",
       "      <td>“세상에, 상어가 저렇게 멋있고 아름다운 꼬리를 가지고 있을 줄은 몰랐어요.”</td>\n",
       "      <td>상어가 저토록 잘생기고 멋진 꼬리를 달고 있는 줄은 미처 몰랐어요.</td>\n",
       "      <td>Ich hätte nie gedacht, dass ein Hai einen so s...</td>\n",
       "      <td>Ich wusste nicht, dass der Hai einen schönen, ...</td>\n",
       "    </tr>\n",
       "    <tr>\n",
       "      <th>766</th>\n",
       "      <td>“정말이야, 나도 처음 본걸.” 곁에 있던 부인의 동행인 남자가 말했다.</td>\n",
       "      <td>나도 몰랐는걸. 여자와 동행인 남자가 말했다.</td>\n",
       "      <td>Der Mann, der die Frau begleitete, sagte:</td>\n",
       "      <td>Der Mann, der mit der Frau unterwegs war, sagte:</td>\n",
       "    </tr>\n",
       "    <tr>\n",
       "      <th>767</th>\n",
       "      <td>길 위의 오두막에서는 노인이 다시 깊은 잠에 빠져들고 있었다. 여전히 엎드린 자세였...</td>\n",
       "      <td>길 위쪽의 오두막집에서 노인은 다시금 잠이 들어 있었다. 얼굴을 파묻고 엎드려 여전...</td>\n",
       "      <td>In der Hütte auf der Straße schlief der alte M...</td>\n",
       "      <td>Der alte Mann schlief wieder in der Hütte auf ...</td>\n",
       "    </tr>\n",
       "  </tbody>\n",
       "</table>\n",
       "<p>768 rows × 4 columns</p>\n",
       "</div>"
      ],
      "text/plain": [
       "                                                 small  \\\n",
       "0    산티아고는 멕시코 만류에서 조각배를 타고 혼자 고기잡이를 하는 늙은 어부였다. 오늘...   \n",
       "1    처음 40일 동안은 한 소년과 함께 있었다. 그러나 40일이 지나도록 물고기를 잡지...   \n",
       "2    소년은 허구한 날 빈 배로 돌아오는 노인의 모습에 가슴이 아팠다. 그래서 소년은 늘...   \n",
       "3    밀가루 부대 조각 따위로 여기저기 더덕더덕 기워진 돛은 둘둘 말면 마치 영원한 패배...   \n",
       "4                   산티아고는 깡마른 몸에 목덜미에는 깊은 주름살이 패어 있었다.   \n",
       "..                                                 ...   \n",
       "763  “저게 뭐예요?” 부인이 안내원에게 물었다. 그때 마침 고기의 뼈는 조류를 타고 바...   \n",
       "764  티뷰론입니다. 안내원이 대답했다. “상어의 일종이죠.” 안내원은 사투리가 섞인 영어...   \n",
       "765        “세상에, 상어가 저렇게 멋있고 아름다운 꼬리를 가지고 있을 줄은 몰랐어요.”   \n",
       "766           “정말이야, 나도 처음 본걸.” 곁에 있던 부인의 동행인 남자가 말했다.   \n",
       "767  길 위의 오두막에서는 노인이 다시 깊은 잠에 빠져들고 있었다. 여전히 엎드린 자세였...   \n",
       "\n",
       "                                                   big  \\\n",
       "0    그는 멕시코 해류에서 조각배를 타고 홀로 고기잡이하는 노인이었다. 여든 날하고도 나...   \n",
       "1    처음 사십 일 동안은 소년이 함께 있었다. 그러나 사십 일이 지나도록 고기 한 마리...   \n",
       "2    소년은 날마다 노인이 빈 배로 돌아오는 것을 보고 가슴이 아팠다. 그래서 늘 노인을...   \n",
       "3    돛은 여기저기 밀가루 부대로 기워져 있었고, 접어 놓으면 마치 영원한 패배를 상징하...   \n",
       "4                 노인은 깡마르고 여윈 데다 목덜미에는 주름이 깊게 잡혀 있었다.    \n",
       "..                                                 ...   \n",
       "763  저게 뭐죠? 여자가 웨이터에게 물으면서 이제 해류를 타고 바다로 밀려 나가기를 기다...   \n",
       "764  티부론 '이죠. 상어랍니다. 웨이터가 대답했다. 그러면서 그는 사건의 경위를 설명하...   \n",
       "765              상어가 저토록 잘생기고 멋진 꼬리를 달고 있는 줄은 미처 몰랐어요.   \n",
       "766                          나도 몰랐는걸. 여자와 동행인 남자가 말했다.   \n",
       "767  길 위쪽의 오두막집에서 노인은 다시금 잠이 들어 있었다. 얼굴을 파묻고 엎드려 여전...   \n",
       "\n",
       "                                      OPUS_to_DE_small  \\\n",
       "0    Santiago war ein alter Fischer, der allein in ...   \n",
       "1    In den ersten 40 Tagen war er mit einem Jungen...   \n",
       "2    Der Junge war von dem Anblick des alten Mannes...   \n",
       "3    Es sah aus wie eine Flagge, die eine ewige Nie...   \n",
       "4    Santiago hatte tiefe Falten in seinem trockene...   \n",
       "..                                                 ...   \n",
       "763  Mrs. Wong fragte den Lotsen, als die Knochen d...   \n",
       "764  Der Lotse antwortete, es war eine Art Hai, der...   \n",
       "765  Ich hätte nie gedacht, dass ein Hai einen so s...   \n",
       "766          Der Mann, der die Frau begleitete, sagte:   \n",
       "767  In der Hütte auf der Straße schlief der alte M...   \n",
       "\n",
       "                                        OPUS_to_DE_big  \n",
       "0    Er war ein alter Mann, der allein mit einem Bo...  \n",
       "1    Als aber 40 Tage später kein Fleisch mehr da w...  \n",
       "2    Der Junge war traurig, als er jeden Tag einen ...  \n",
       "3    Die Segel waren von Mehl überwuchert und sahen...  \n",
       "4    Der alte Mann war trocken, und er hatte eine t...  \n",
       "..                                                 ...  \n",
       "763  Eine Frau fragte einen Kellner, und sie zeigte...  \n",
       "764  Tiburon, ein Hai, antwortete der Kellner, und ...  \n",
       "765  Ich wusste nicht, dass der Hai einen schönen, ...  \n",
       "766   Der Mann, der mit der Frau unterwegs war, sagte:  \n",
       "767  Der alte Mann schlief wieder in der Hütte auf ...  \n",
       "\n",
       "[768 rows x 4 columns]"
      ]
     },
     "execution_count": 32,
     "metadata": {},
     "output_type": "execute_result"
    }
   ],
   "source": [
    "small_EN"
   ]
  },
  {
   "cell_type": "code",
   "execution_count": 46,
   "metadata": {},
   "outputs": [],
   "source": [
    "def M2M100_to_EN(df:pd.DataFrame, column:str):\n",
    "    translated=[]\n",
    "    tokenizer = M2M100Tokenizer.from_pretrained(\"facebook/m2m100_418M\", src_lang=\"de\", tgt_lang=\"en\")\n",
    "    for i in tqdm(df[column]):\n",
    "        try:\n",
    "            encoded_hi=tokenizer(i, return_tensors='pt')\n",
    "            generated_tokens = model.generate(**encoded_hi, forced_bos_token_id=tokenizer.get_lang_id(\"en\"))\n",
    "            translated.append(tokenizer.batch_decode(generated_tokens, skip_special_tokens=True)[0])\n",
    "        except ValueError:\n",
    "            translated.append(np.nan)\n",
    "            # time.sleep(0.5)\n",
    "            continue\n",
    "    df['M2M100_to_EN'+'_'+column.replace('OPUS_to_DE_', '')]=translated\n",
    "    return df"
   ]
  },
  {
   "cell_type": "code",
   "execution_count": 47,
   "metadata": {},
   "outputs": [
    {
     "name": "stderr",
     "output_type": "stream",
     "text": [
      "100%|██████████| 768/768 [41:23<00:00,  3.23s/it]  \n"
     ]
    }
   ],
   "source": [
    "small_m2m100_EN=M2M100_to_EN(small_EN, 'OPUS_to_DE_small')"
   ]
  },
  {
   "cell_type": "code",
   "execution_count": 58,
   "metadata": {},
   "outputs": [
    {
     "name": "stderr",
     "output_type": "stream",
     "text": [
      "100%|██████████| 768/768 [41:09<00:00,  3.21s/it]\n"
     ]
    }
   ],
   "source": [
    "big_m2m100_EN=M2M100_to_EN(small_m2m100_EN, 'OPUS_to_DE_big')"
   ]
  },
  {
   "cell_type": "code",
   "execution_count": 13,
   "metadata": {},
   "outputs": [],
   "source": [
    "def M2M100_to_KO(df:pd.DataFrame, column:str):\n",
    "    translated=[]\n",
    "    tokenizer = M2M100Tokenizer.from_pretrained(\"facebook/m2m100_418M\", src_lang=\"en\", tgt_lang=\"ko\")\n",
    "    for i in tqdm(df[column]):\n",
    "        try:\n",
    "            encoded_hi=tokenizer(i, return_tensors='pt')\n",
    "            generated_tokens = model.generate(**encoded_hi, forced_bos_token_id=tokenizer.get_lang_id(\"ko\"))\n",
    "            translated.append(tokenizer.batch_decode(generated_tokens, skip_special_tokens=True)[0])\n",
    "        except ValueError:\n",
    "            translated.append(np.nan)\n",
    "            # time.sleep(0.5)\n",
    "            continue\n",
    "    df['M2M100_to_KO'+'_'+column.replace('M2M100_to_EN_', '')]=translated\n",
    "    return df"
   ]
  },
  {
   "cell_type": "code",
   "execution_count": 15,
   "metadata": {},
   "outputs": [
    {
     "name": "stderr",
     "output_type": "stream",
     "text": [
      "100%|██████████| 768/768 [45:48<00:00,  3.58s/it] \n"
     ]
    }
   ],
   "source": [
    "small_m2m100_KO=M2M100_to_KO(data, 'M2M100_to_EN_small')"
   ]
  },
  {
   "cell_type": "code",
   "execution_count": 16,
   "metadata": {},
   "outputs": [
    {
     "name": "stderr",
     "output_type": "stream",
     "text": [
      "100%|██████████| 768/768 [45:58<00:00,  3.59s/it] \n"
     ]
    }
   ],
   "source": [
    "big_m2m100_KO=M2M100_to_KO(small_m2m100_KO, 'M2M100_to_EN_big')"
   ]
  },
  {
   "cell_type": "code",
   "execution_count": 18,
   "metadata": {},
   "outputs": [],
   "source": [
    "big_m2m100_KO.to_csv('OPUS_M2M100.csv', index=False, encoding='utf-8-sig')"
   ]
  }
 ],
 "metadata": {
  "kernelspec": {
   "display_name": "metal",
   "language": "python",
   "name": "python3"
  },
  "language_info": {
   "codemirror_mode": {
    "name": "ipython",
    "version": 3
   },
   "file_extension": ".py",
   "mimetype": "text/x-python",
   "name": "python",
   "nbconvert_exporter": "python",
   "pygments_lexer": "ipython3",
   "version": "3.10.6 | packaged by conda-forge | (main, Aug 22 2022, 20:38:29) [Clang 13.0.1 ]"
  },
  "orig_nbformat": 4,
  "vscode": {
   "interpreter": {
    "hash": "3a2368364414073b503cfb16d030c961df0fe13d22613d7e454f682e26f4f34f"
   }
  }
 },
 "nbformat": 4,
 "nbformat_minor": 2
}

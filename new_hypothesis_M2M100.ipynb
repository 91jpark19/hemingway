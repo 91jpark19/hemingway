{
 "cells": [
  {
   "cell_type": "code",
   "execution_count": 1,
   "metadata": {},
   "outputs": [
    {
     "name": "stderr",
     "output_type": "stream",
     "text": [
      "/Users/mstudio/miniconda3/envs/py3.10/lib/python3.10/site-packages/tqdm/auto.py:22: TqdmWarning: IProgress not found. Please update jupyter and ipywidgets. See https://ipywidgets.readthedocs.io/en/stable/user_install.html\n",
      "  from .autonotebook import tqdm as notebook_tqdm\n"
     ]
    }
   ],
   "source": [
    "from transformers import M2M100Config, M2M100ForConditionalGeneration, M2M100Tokenizer\n",
    "from tqdm import tqdm\n",
    "import time\n",
    "import os\n",
    "import pandas as pd"
   ]
  },
  {
   "cell_type": "code",
   "execution_count": 7,
   "metadata": {},
   "outputs": [],
   "source": [
    "exp1=pd.read_csv('/Volumes/T7/mt-hemingway/data/hypothesis/exp1_M2M100.csv', encoding='utf-8-sig')"
   ]
  },
  {
   "cell_type": "code",
   "execution_count": 25,
   "metadata": {},
   "outputs": [
    {
     "data": {
      "text/html": [
       "<div>\n",
       "<style scoped>\n",
       "    .dataframe tbody tr th:only-of-type {\n",
       "        vertical-align: middle;\n",
       "    }\n",
       "\n",
       "    .dataframe tbody tr th {\n",
       "        vertical-align: top;\n",
       "    }\n",
       "\n",
       "    .dataframe thead th {\n",
       "        text-align: right;\n",
       "    }\n",
       "</style>\n",
       "<table border=\"1\" class=\"dataframe\">\n",
       "  <thead>\n",
       "    <tr style=\"text-align: right;\">\n",
       "      <th></th>\n",
       "      <th>original</th>\n",
       "      <th>M2M100_ko1</th>\n",
       "      <th>M2M100_EN2</th>\n",
       "      <th>M2M100_ko3</th>\n",
       "      <th>M2M100_EN4</th>\n",
       "      <th>M2M100_ko5</th>\n",
       "    </tr>\n",
       "  </thead>\n",
       "  <tbody>\n",
       "    <tr>\n",
       "      <th>0</th>\n",
       "      <td>He was an old man who fished alone in a skiff ...</td>\n",
       "      <td>그는 골프 스트림에서 스키프에서 혼자 낚시 한 늙은이였고, 지금은 물고기를 먹지 않...</td>\n",
       "      <td>He was an old man who was fishing alone on the...</td>\n",
       "      <td>그는 골프 스트림에서 스키프에서 혼자 낚시 한 노인이었고, 이제는 물고기를 먹지 않...</td>\n",
       "      <td>그는 골프 스트림에서 스키프에서 혼자 낚시 한 노인이었고, 이제는 물고기를 먹지 않...</td>\n",
       "      <td>그는 골프 스트림에서 스키프에서 혼자 낚시 한 노인이었고 이제는 물고기를 먹지 않고...</td>\n",
       "    </tr>\n",
       "    <tr>\n",
       "      <th>1</th>\n",
       "      <td>In the first forty days a boy had been with hi...</td>\n",
       "      <td>그러나 물고기가 없었던 40일 후에, 소년의 부모는 그에게 늙은이가 이제 확실하고 ...</td>\n",
       "      <td>But 40 days after the absence of the fish, the...</td>\n",
       "      <td>그러나 물고기가 없었던 40일 후에, 소년의 부모는 그에게 늙은이가 이제 확실하고 ...</td>\n",
       "      <td>그러나 물고기가 없었던 40일 후에, 소년의 부모는 그에게 늙은이가 이제 확실하고 ...</td>\n",
       "      <td>그러나 물고기가 없었던 40일 후에, 소년의 부모는 그에게 늙은이가 이제 확실하고 ...</td>\n",
       "    </tr>\n",
       "    <tr>\n",
       "      <th>2</th>\n",
       "      <td>It made the boy sad to see the old man come in...</td>\n",
       "      <td>그것은 소년이 늙은이가 매일 그의 스키프가 텅 비어있는 것을 보는 것을 슬프게 만들...</td>\n",
       "      <td>It made the boy sad to see the old man every d...</td>\n",
       "      <td>그것은 소년이 노인이 매일 그의 스키프가 텅 비어 있는 것을 보는 것을 슬프게 만들...</td>\n",
       "      <td>그것은 소년이 노인이 매일 그의 스키프가 텅 비어 있는 것을 보는 것을 슬프게 만들...</td>\n",
       "      <td>그것은 소년이 노인이 매일 그의 스키프가 텅 비어 있는 것을 보는 것을 슬프게 만들...</td>\n",
       "    </tr>\n",
       "    <tr>\n",
       "      <th>3</th>\n",
       "      <td>The sail was patched with flour sacks and, fur...</td>\n",
       "      <td>바다는 푸르 가방으로 덮여 있었고, 흔들렸을 때 영구적 인 패배의 깃발처럼 보였습니다.</td>\n",
       "      <td>The sea was covered with a blue bag, and it lo...</td>\n",
       "      <td>바다는 푸른 가방으로 덮여 있었고, 흔들릴 때 영원한 패배의 깃발처럼 보였다.</td>\n",
       "      <td>바다는 푸른 가방으로 덮여 있었고, 흔들릴 때 영원한 패배의 깃발처럼 보였다.</td>\n",
       "      <td>바다가 파란색 가방으로 덮여 있었고, 흔들릴 때 영원한 패배의 깃발처럼 보였다.</td>\n",
       "    </tr>\n",
       "    <tr>\n",
       "      <th>4</th>\n",
       "      <td>The old man was thin and gaunt with deep wrink...</td>\n",
       "      <td>늙은이는 얇고 그의 목 뒤쪽에 깊은 싹이 쌓여있었습니다.</td>\n",
       "      <td>The old man was thin and a deep shrimp was acc...</td>\n",
       "      <td>늙은이는 얇고 목 뒤에 깊은 싹이 쌓여 있었다.</td>\n",
       "      <td>늙은이는 얇고 목 뒤에 깊은 싹이 쌓여 있었다.</td>\n",
       "      <td>노인은 얇고 목 뒤에 깊은 싹이 쌓여 있었다.</td>\n",
       "    </tr>\n",
       "    <tr>\n",
       "      <th>...</th>\n",
       "      <td>...</td>\n",
       "      <td>...</td>\n",
       "      <td>...</td>\n",
       "      <td>...</td>\n",
       "      <td>...</td>\n",
       "      <td>...</td>\n",
       "    </tr>\n",
       "    <tr>\n",
       "      <th>763</th>\n",
       "      <td>What's that? she asked a waiter and pointed to...</td>\n",
       "      <td>그것은 무엇입니까?그녀는 경비원에게 물어보고 큰 물고기의 긴 엉덩이를 지적했는데, ...</td>\n",
       "      <td>She asked the guard and pointed out the long a...</td>\n",
       "      <td>그녀는 경비원에게 물어보고 큰 물고기의 긴 엉덩이를 지적했는데, 이제는 엉덩이와 함...</td>\n",
       "      <td>그녀는 경비원에게 물어보고 큰 물고기의 긴 엉덩이를 지적했는데, 이제는 엉덩이와 함...</td>\n",
       "      <td>그녀는 경비원에게 물어보고 큰 물고기의 긴 엉덩이를 지적했는데, 이제는 엉덩이와 함...</td>\n",
       "    </tr>\n",
       "    <tr>\n",
       "      <th>764</th>\n",
       "      <td>Tiburon, the waiter said, \"Eshark.\" He was mea...</td>\n",
       "      <td>Tiburon, 와이더는 말했다, \"Eshark.\"그는 무슨 일이 일어 났는지 설명...</td>\n",
       "      <td>Tiburon, Wider said, \"Eshark.\"He meant to expl...</td>\n",
       "      <td>Tiburon, 와이더는 말했다, \"Eshark.\"그는 무슨 일이 일어 났는지 설명...</td>\n",
       "      <td>Tiburon, 와이더는 말했다, \"Eshark.\"그는 무슨 일이 일어 났는지 설명...</td>\n",
       "      <td>Tiburon, 와이더는 말했다, \"Eshark.\"그는 무슨 일이 일어 났는지 설명...</td>\n",
       "    </tr>\n",
       "    <tr>\n",
       "      <th>765</th>\n",
       "      <td>I didn't know sharks had such handsome, beauti...</td>\n",
       "      <td>나는 거북이가 그렇게 아름답고 아름답게 형성 된 엉덩이를 가지고 있다는 것을 몰랐다.</td>\n",
       "      <td>I didn’t know that the turtle had such a beaut...</td>\n",
       "      <td>나는 거북이가 그렇게 아름답고 아름답게 형성 된 엉덩이를 가지고 있다는 것을 몰랐다.</td>\n",
       "      <td>나는 거북이가 그렇게 아름답고 아름답게 형성 된 엉덩이를 가지고 있다는 것을 몰랐다.</td>\n",
       "      <td>나는 거북이가 그렇게 아름답고 아름답게 형성 된 엉덩이를 가지고 있다는 것을 몰랐다.</td>\n",
       "    </tr>\n",
       "    <tr>\n",
       "      <th>766</th>\n",
       "      <td>I didn't either, her male companion said.</td>\n",
       "      <td>나도 그렇지 않았다, 그녀의 남자 친구가 말했다.</td>\n",
       "      <td>I didn’t, said her boyfriend.</td>\n",
       "      <td>나는 그렇지 않았다, 그녀의 남자 친구가 말했다.</td>\n",
       "      <td>나는 그렇지 않았다, 그녀의 남자 친구가 말했다.</td>\n",
       "      <td>나는 그렇지 않았다, 그녀의 남자 친구가 말했다.</td>\n",
       "    </tr>\n",
       "    <tr>\n",
       "      <th>767</th>\n",
       "      <td>Up the road, in his shack, the old man was sle...</td>\n",
       "      <td>길에서, 그의 엉덩이에, 늙은이가 다시 잠을 자고 있었다.그는 여전히 그의 얼굴에 ...</td>\n",
       "      <td>On the road, on his ass, the old man was sleep...</td>\n",
       "      <td>길에서, 그의 엉덩이에, 늙은이가 다시 잠을 자고 있었다.그는 여전히 그의 얼굴에 ...</td>\n",
       "      <td>길에서, 그의 엉덩이에, 늙은이가 다시 잠을 자고 있었다.그는 여전히 그의 얼굴에 ...</td>\n",
       "      <td>길에서, 그의 엉덩이에, 늙은이가 다시 잠을 자고 있었다.그는 여전히 그의 얼굴에 ...</td>\n",
       "    </tr>\n",
       "  </tbody>\n",
       "</table>\n",
       "<p>768 rows × 6 columns</p>\n",
       "</div>"
      ],
      "text/plain": [
       "                                              original  \\\n",
       "0    He was an old man who fished alone in a skiff ...   \n",
       "1    In the first forty days a boy had been with hi...   \n",
       "2    It made the boy sad to see the old man come in...   \n",
       "3    The sail was patched with flour sacks and, fur...   \n",
       "4    The old man was thin and gaunt with deep wrink...   \n",
       "..                                                 ...   \n",
       "763  What's that? she asked a waiter and pointed to...   \n",
       "764  Tiburon, the waiter said, \"Eshark.\" He was mea...   \n",
       "765  I didn't know sharks had such handsome, beauti...   \n",
       "766          I didn't either, her male companion said.   \n",
       "767  Up the road, in his shack, the old man was sle...   \n",
       "\n",
       "                                            M2M100_ko1  \\\n",
       "0    그는 골프 스트림에서 스키프에서 혼자 낚시 한 늙은이였고, 지금은 물고기를 먹지 않...   \n",
       "1    그러나 물고기가 없었던 40일 후에, 소년의 부모는 그에게 늙은이가 이제 확실하고 ...   \n",
       "2    그것은 소년이 늙은이가 매일 그의 스키프가 텅 비어있는 것을 보는 것을 슬프게 만들...   \n",
       "3     바다는 푸르 가방으로 덮여 있었고, 흔들렸을 때 영구적 인 패배의 깃발처럼 보였습니다.   \n",
       "4                      늙은이는 얇고 그의 목 뒤쪽에 깊은 싹이 쌓여있었습니다.   \n",
       "..                                                 ...   \n",
       "763  그것은 무엇입니까?그녀는 경비원에게 물어보고 큰 물고기의 긴 엉덩이를 지적했는데, ...   \n",
       "764  Tiburon, 와이더는 말했다, \"Eshark.\"그는 무슨 일이 일어 났는지 설명...   \n",
       "765    나는 거북이가 그렇게 아름답고 아름답게 형성 된 엉덩이를 가지고 있다는 것을 몰랐다.   \n",
       "766                        나도 그렇지 않았다, 그녀의 남자 친구가 말했다.   \n",
       "767  길에서, 그의 엉덩이에, 늙은이가 다시 잠을 자고 있었다.그는 여전히 그의 얼굴에 ...   \n",
       "\n",
       "                                            M2M100_EN2  \\\n",
       "0    He was an old man who was fishing alone on the...   \n",
       "1    But 40 days after the absence of the fish, the...   \n",
       "2    It made the boy sad to see the old man every d...   \n",
       "3    The sea was covered with a blue bag, and it lo...   \n",
       "4    The old man was thin and a deep shrimp was acc...   \n",
       "..                                                 ...   \n",
       "763  She asked the guard and pointed out the long a...   \n",
       "764  Tiburon, Wider said, \"Eshark.\"He meant to expl...   \n",
       "765  I didn’t know that the turtle had such a beaut...   \n",
       "766                      I didn’t, said her boyfriend.   \n",
       "767  On the road, on his ass, the old man was sleep...   \n",
       "\n",
       "                                            M2M100_ko3  \\\n",
       "0    그는 골프 스트림에서 스키프에서 혼자 낚시 한 노인이었고, 이제는 물고기를 먹지 않...   \n",
       "1    그러나 물고기가 없었던 40일 후에, 소년의 부모는 그에게 늙은이가 이제 확실하고 ...   \n",
       "2    그것은 소년이 노인이 매일 그의 스키프가 텅 비어 있는 것을 보는 것을 슬프게 만들...   \n",
       "3          바다는 푸른 가방으로 덮여 있었고, 흔들릴 때 영원한 패배의 깃발처럼 보였다.   \n",
       "4                           늙은이는 얇고 목 뒤에 깊은 싹이 쌓여 있었다.   \n",
       "..                                                 ...   \n",
       "763  그녀는 경비원에게 물어보고 큰 물고기의 긴 엉덩이를 지적했는데, 이제는 엉덩이와 함...   \n",
       "764  Tiburon, 와이더는 말했다, \"Eshark.\"그는 무슨 일이 일어 났는지 설명...   \n",
       "765    나는 거북이가 그렇게 아름답고 아름답게 형성 된 엉덩이를 가지고 있다는 것을 몰랐다.   \n",
       "766                        나는 그렇지 않았다, 그녀의 남자 친구가 말했다.   \n",
       "767  길에서, 그의 엉덩이에, 늙은이가 다시 잠을 자고 있었다.그는 여전히 그의 얼굴에 ...   \n",
       "\n",
       "                                            M2M100_EN4  \\\n",
       "0    그는 골프 스트림에서 스키프에서 혼자 낚시 한 노인이었고, 이제는 물고기를 먹지 않...   \n",
       "1    그러나 물고기가 없었던 40일 후에, 소년의 부모는 그에게 늙은이가 이제 확실하고 ...   \n",
       "2    그것은 소년이 노인이 매일 그의 스키프가 텅 비어 있는 것을 보는 것을 슬프게 만들...   \n",
       "3          바다는 푸른 가방으로 덮여 있었고, 흔들릴 때 영원한 패배의 깃발처럼 보였다.   \n",
       "4                           늙은이는 얇고 목 뒤에 깊은 싹이 쌓여 있었다.   \n",
       "..                                                 ...   \n",
       "763  그녀는 경비원에게 물어보고 큰 물고기의 긴 엉덩이를 지적했는데, 이제는 엉덩이와 함...   \n",
       "764  Tiburon, 와이더는 말했다, \"Eshark.\"그는 무슨 일이 일어 났는지 설명...   \n",
       "765    나는 거북이가 그렇게 아름답고 아름답게 형성 된 엉덩이를 가지고 있다는 것을 몰랐다.   \n",
       "766                        나는 그렇지 않았다, 그녀의 남자 친구가 말했다.   \n",
       "767  길에서, 그의 엉덩이에, 늙은이가 다시 잠을 자고 있었다.그는 여전히 그의 얼굴에 ...   \n",
       "\n",
       "                                            M2M100_ko5  \n",
       "0    그는 골프 스트림에서 스키프에서 혼자 낚시 한 노인이었고 이제는 물고기를 먹지 않고...  \n",
       "1    그러나 물고기가 없었던 40일 후에, 소년의 부모는 그에게 늙은이가 이제 확실하고 ...  \n",
       "2    그것은 소년이 노인이 매일 그의 스키프가 텅 비어 있는 것을 보는 것을 슬프게 만들...  \n",
       "3         바다가 파란색 가방으로 덮여 있었고, 흔들릴 때 영원한 패배의 깃발처럼 보였다.  \n",
       "4                            노인은 얇고 목 뒤에 깊은 싹이 쌓여 있었다.  \n",
       "..                                                 ...  \n",
       "763  그녀는 경비원에게 물어보고 큰 물고기의 긴 엉덩이를 지적했는데, 이제는 엉덩이와 함...  \n",
       "764  Tiburon, 와이더는 말했다, \"Eshark.\"그는 무슨 일이 일어 났는지 설명...  \n",
       "765    나는 거북이가 그렇게 아름답고 아름답게 형성 된 엉덩이를 가지고 있다는 것을 몰랐다.  \n",
       "766                        나는 그렇지 않았다, 그녀의 남자 친구가 말했다.  \n",
       "767  길에서, 그의 엉덩이에, 늙은이가 다시 잠을 자고 있었다.그는 여전히 그의 얼굴에 ...  \n",
       "\n",
       "[768 rows x 6 columns]"
      ]
     },
     "execution_count": 25,
     "metadata": {},
     "output_type": "execute_result"
    }
   ],
   "source": [
    "exp1"
   ]
  },
  {
   "cell_type": "code",
   "execution_count": 23,
   "metadata": {},
   "outputs": [
    {
     "name": "stderr",
     "output_type": "stream",
     "text": [
      "0it [00:00, ?it/s]/Users/mstudio/miniconda3/envs/py3.10/lib/python3.10/site-packages/transformers/generation/utils.py:1273: UserWarning: Neither `max_length` nor `max_new_tokens` has been set, `max_length` will default to 200 (`generation_config.max_length`). Controlling `max_length` via the config is deprecated and `max_length` will be removed from the config in v5 of Transformers -- we recommend using `max_new_tokens` to control the maximum length of the generation.\n",
      "  warnings.warn(\n",
      "768it [50:08,  3.92s/it]\n"
     ]
    }
   ],
   "source": [
    "model = M2M100ForConditionalGeneration.from_pretrained(\"facebook/m2m100_418M\")\n",
    "tokenizer = M2M100Tokenizer.from_pretrained(\"facebook/m2m100_418M\")\n",
    "\n",
    "translated=[]\n",
    "for idx, val in tqdm(exp1.iterrows()):\n",
    "    chinese_text=val['M2M100_ko1']\n",
    "    tokenizer.src_lang = \"ko\"\n",
    "    encoded_zh = tokenizer(chinese_text, return_tensors=\"pt\")\n",
    "    generated_tokens = model.generate(**encoded_zh, forced_bos_token_id=tokenizer.get_lang_id(\"en\"))\n",
    "    translated.append(tokenizer.batch_decode(generated_tokens, skip_special_tokens=True)[0])"
   ]
  },
  {
   "cell_type": "code",
   "execution_count": 24,
   "metadata": {},
   "outputs": [],
   "source": [
    "exp1['M2M100_EN2']=translated"
   ]
  },
  {
   "cell_type": "code",
   "execution_count": 29,
   "metadata": {},
   "outputs": [
    {
     "name": "stderr",
     "output_type": "stream",
     "text": [
      "768it [58:24,  4.56s/it]\n"
     ]
    }
   ],
   "source": [
    "model = M2M100ForConditionalGeneration.from_pretrained(\"facebook/m2m100_418M\")\n",
    "tokenizer = M2M100Tokenizer.from_pretrained(\"facebook/m2m100_418M\")\n",
    "\n",
    "translated=[]\n",
    "for idx, val in tqdm(exp1.iterrows()):\n",
    "    chinese_text=val['M2M100_EN2']\n",
    "    tokenizer.src_lang = \"en\"\n",
    "    encoded_zh = tokenizer(chinese_text, return_tensors=\"pt\")\n",
    "    generated_tokens = model.generate(**encoded_zh, forced_bos_token_id=tokenizer.get_lang_id(\"ko\"))\n",
    "    translated.append(tokenizer.batch_decode(generated_tokens, skip_special_tokens=True)[0])"
   ]
  },
  {
   "cell_type": "code",
   "execution_count": 30,
   "metadata": {},
   "outputs": [],
   "source": [
    "exp1['M2M100_ko3']=translated"
   ]
  },
  {
   "cell_type": "code",
   "execution_count": 31,
   "metadata": {},
   "outputs": [
    {
     "name": "stderr",
     "output_type": "stream",
     "text": [
      "768it [47:43,  3.73s/it]\n"
     ]
    }
   ],
   "source": [
    "model = M2M100ForConditionalGeneration.from_pretrained(\"facebook/m2m100_418M\")\n",
    "tokenizer = M2M100Tokenizer.from_pretrained(\"facebook/m2m100_418M\")\n",
    "\n",
    "translated=[]\n",
    "for idx, val in tqdm(exp1.iterrows()):\n",
    "    chinese_text=val['M2M100_ko3']\n",
    "    tokenizer.src_lang = \"ko\"\n",
    "    encoded_zh = tokenizer(chinese_text, return_tensors=\"pt\")\n",
    "    generated_tokens = model.generate(**encoded_zh, forced_bos_token_id=tokenizer.get_lang_id(\"en\"))\n",
    "    translated.append(tokenizer.batch_decode(generated_tokens, skip_special_tokens=True)[0])"
   ]
  },
  {
   "cell_type": "code",
   "execution_count": 32,
   "metadata": {},
   "outputs": [],
   "source": [
    "exp1['M2M100_EN4']=translated"
   ]
  },
  {
   "cell_type": "code",
   "execution_count": 33,
   "metadata": {},
   "outputs": [
    {
     "name": "stderr",
     "output_type": "stream",
     "text": [
      "768it [57:06,  4.46s/it]\n"
     ]
    }
   ],
   "source": [
    "model = M2M100ForConditionalGeneration.from_pretrained(\"facebook/m2m100_418M\")\n",
    "tokenizer = M2M100Tokenizer.from_pretrained(\"facebook/m2m100_418M\")\n",
    "\n",
    "translated=[]\n",
    "for idx, val in tqdm(exp1.iterrows()):\n",
    "    chinese_text=val['M2M100_EN4']\n",
    "    tokenizer.src_lang = \"en\"\n",
    "    encoded_zh = tokenizer(chinese_text, return_tensors=\"pt\")\n",
    "    generated_tokens = model.generate(**encoded_zh, forced_bos_token_id=tokenizer.get_lang_id(\"ko\"))\n",
    "    translated.append(tokenizer.batch_decode(generated_tokens, skip_special_tokens=True)[0])"
   ]
  },
  {
   "cell_type": "code",
   "execution_count": 34,
   "metadata": {},
   "outputs": [],
   "source": [
    "exp1['M2M100_ko5']=translated"
   ]
  },
  {
   "cell_type": "code",
   "execution_count": 35,
   "metadata": {},
   "outputs": [],
   "source": [
    "exp1.to_csv('/Volumes/T7/mt-hemingway/data/hypothesis/exp1_M2M100_new.csv', encoding='utf-8-sig')"
   ]
  }
 ],
 "metadata": {
  "kernelspec": {
   "display_name": "py3.10",
   "language": "python",
   "name": "python3"
  },
  "language_info": {
   "codemirror_mode": {
    "name": "ipython",
    "version": 3
   },
   "file_extension": ".py",
   "mimetype": "text/x-python",
   "name": "python",
   "nbconvert_exporter": "python",
   "pygments_lexer": "ipython3",
   "version": "3.10.9"
  },
  "orig_nbformat": 4,
  "vscode": {
   "interpreter": {
    "hash": "2c8f0e5dedb0bca84d2e0b4fbfa2d31163667101b0d2986ebd077634811ae380"
   }
  }
 },
 "nbformat": 4,
 "nbformat_minor": 2
}
